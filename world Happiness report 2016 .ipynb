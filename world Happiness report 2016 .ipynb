{
 "cells": [
  {
   "cell_type": "code",
   "execution_count": 71,
   "id": "965e9762",
   "metadata": {},
   "outputs": [],
   "source": [
    "import pandas as pd\n",
    "import matplotlib.pylab as plt\n",
    "import numpy as np\n",
    "import requests\n",
    "import seaborn as sns\n",
    "import plotly.express as px\n",
    "import plotly.io as pio"
   ]
  },
  {
   "cell_type": "code",
   "execution_count": 2,
   "id": "908b98da",
   "metadata": {},
   "outputs": [],
   "source": [
    "path = \"D:\\ganeral_courses\\Generative AI for Data analytics\\mode_2\\world_happiness report_on_2016.csv\""
   ]
  },
  {
   "cell_type": "code",
   "execution_count": 3,
   "id": "983f878a",
   "metadata": {},
   "outputs": [],
   "source": [
    "df = pd.read_csv(path, header=0)"
   ]
  },
  {
   "cell_type": "code",
   "execution_count": 4,
   "id": "2e216c91",
   "metadata": {},
   "outputs": [
    {
     "data": {
      "text/html": [
       "<div>\n",
       "<style scoped>\n",
       "    .dataframe tbody tr th:only-of-type {\n",
       "        vertical-align: middle;\n",
       "    }\n",
       "\n",
       "    .dataframe tbody tr th {\n",
       "        vertical-align: top;\n",
       "    }\n",
       "\n",
       "    .dataframe thead th {\n",
       "        text-align: right;\n",
       "    }\n",
       "</style>\n",
       "<table border=\"1\" class=\"dataframe\">\n",
       "  <thead>\n",
       "    <tr style=\"text-align: right;\">\n",
       "      <th></th>\n",
       "      <th>Country</th>\n",
       "      <th>Region</th>\n",
       "      <th>Happiness Rank</th>\n",
       "      <th>Happiness Score</th>\n",
       "      <th>Lower Confidence Interval</th>\n",
       "      <th>Upper Confidence Interval</th>\n",
       "      <th>Economy (GDP per Capita)</th>\n",
       "      <th>Family</th>\n",
       "      <th>Health (Life Expectancy)</th>\n",
       "      <th>Freedom</th>\n",
       "      <th>Trust (Government Corruption)</th>\n",
       "      <th>Generosity</th>\n",
       "      <th>Dystopia Residual</th>\n",
       "    </tr>\n",
       "  </thead>\n",
       "  <tbody>\n",
       "    <tr>\n",
       "      <th>0</th>\n",
       "      <td>Denmark</td>\n",
       "      <td>Western Europe</td>\n",
       "      <td>1</td>\n",
       "      <td>7.526</td>\n",
       "      <td>7.460</td>\n",
       "      <td>7.592</td>\n",
       "      <td>1.44178</td>\n",
       "      <td>1.16374</td>\n",
       "      <td>0.79504</td>\n",
       "      <td>0.57941</td>\n",
       "      <td>0.44453</td>\n",
       "      <td>0.36171</td>\n",
       "      <td>2.73939</td>\n",
       "    </tr>\n",
       "    <tr>\n",
       "      <th>1</th>\n",
       "      <td>Switzerland</td>\n",
       "      <td>Western Europe</td>\n",
       "      <td>2</td>\n",
       "      <td>7.509</td>\n",
       "      <td>7.428</td>\n",
       "      <td>7.59</td>\n",
       "      <td>1.52733</td>\n",
       "      <td>1.14524</td>\n",
       "      <td>0.86303</td>\n",
       "      <td>0.58557</td>\n",
       "      <td>0.41203</td>\n",
       "      <td>0.28083</td>\n",
       "      <td>2.69463</td>\n",
       "    </tr>\n",
       "    <tr>\n",
       "      <th>2</th>\n",
       "      <td>Iceland</td>\n",
       "      <td>Western Europe</td>\n",
       "      <td>3</td>\n",
       "      <td>7.501</td>\n",
       "      <td>7.333</td>\n",
       "      <td>7.669</td>\n",
       "      <td>1.42666</td>\n",
       "      <td>1.18326</td>\n",
       "      <td>0.86733</td>\n",
       "      <td>0.56624</td>\n",
       "      <td>0.14975</td>\n",
       "      <td>0.47678</td>\n",
       "      <td>2.83137</td>\n",
       "    </tr>\n",
       "    <tr>\n",
       "      <th>3</th>\n",
       "      <td>Norway</td>\n",
       "      <td>Western Europe</td>\n",
       "      <td>4</td>\n",
       "      <td>7.498</td>\n",
       "      <td>7.421</td>\n",
       "      <td>7.575</td>\n",
       "      <td>1.57744</td>\n",
       "      <td>1.12690</td>\n",
       "      <td>0.79579</td>\n",
       "      <td>0.59609</td>\n",
       "      <td>0.35776</td>\n",
       "      <td>0.37895</td>\n",
       "      <td>2.66465</td>\n",
       "    </tr>\n",
       "    <tr>\n",
       "      <th>4</th>\n",
       "      <td>Finland</td>\n",
       "      <td>Western Europe</td>\n",
       "      <td>5</td>\n",
       "      <td>7.413</td>\n",
       "      <td>7.351</td>\n",
       "      <td>7.475</td>\n",
       "      <td>1.40598</td>\n",
       "      <td>1.13464</td>\n",
       "      <td>0.81091</td>\n",
       "      <td>0.57104</td>\n",
       "      <td>0.41004</td>\n",
       "      <td>0.25492</td>\n",
       "      <td>2.82596</td>\n",
       "    </tr>\n",
       "    <tr>\n",
       "      <th>...</th>\n",
       "      <td>...</td>\n",
       "      <td>...</td>\n",
       "      <td>...</td>\n",
       "      <td>...</td>\n",
       "      <td>...</td>\n",
       "      <td>...</td>\n",
       "      <td>...</td>\n",
       "      <td>...</td>\n",
       "      <td>...</td>\n",
       "      <td>...</td>\n",
       "      <td>...</td>\n",
       "      <td>...</td>\n",
       "      <td>...</td>\n",
       "    </tr>\n",
       "    <tr>\n",
       "      <th>152</th>\n",
       "      <td>Benin</td>\n",
       "      <td>Sub-Saharan Africa</td>\n",
       "      <td>153</td>\n",
       "      <td>3.484</td>\n",
       "      <td>3.404</td>\n",
       "      <td>3.564</td>\n",
       "      <td>0.39499</td>\n",
       "      <td>0.10419</td>\n",
       "      <td>0.21028</td>\n",
       "      <td>0.39747</td>\n",
       "      <td>0.06681</td>\n",
       "      <td>0.20180</td>\n",
       "      <td>2.10812</td>\n",
       "    </tr>\n",
       "    <tr>\n",
       "      <th>153</th>\n",
       "      <td>Afghanistan</td>\n",
       "      <td>Southern Asia</td>\n",
       "      <td>154</td>\n",
       "      <td>3.360</td>\n",
       "      <td>3.288</td>\n",
       "      <td>3.432</td>\n",
       "      <td>0.38227</td>\n",
       "      <td>0.11037</td>\n",
       "      <td>0.17344</td>\n",
       "      <td>0.1643</td>\n",
       "      <td>0.07112</td>\n",
       "      <td>0.31268</td>\n",
       "      <td>2.14558</td>\n",
       "    </tr>\n",
       "    <tr>\n",
       "      <th>154</th>\n",
       "      <td>Togo</td>\n",
       "      <td>Sub-Saharan Africa</td>\n",
       "      <td>155</td>\n",
       "      <td>3.303</td>\n",
       "      <td>3.192</td>\n",
       "      <td>3.414</td>\n",
       "      <td>0.28123</td>\n",
       "      <td>0.00000</td>\n",
       "      <td>0.24811</td>\n",
       "      <td>0.34678</td>\n",
       "      <td>0.11587</td>\n",
       "      <td>0.17517</td>\n",
       "      <td>2.13540</td>\n",
       "    </tr>\n",
       "    <tr>\n",
       "      <th>155</th>\n",
       "      <td>Syria</td>\n",
       "      <td>Middle East and Northern Africa</td>\n",
       "      <td>156</td>\n",
       "      <td>3.069</td>\n",
       "      <td>2.936</td>\n",
       "      <td>3.202</td>\n",
       "      <td>0.74719</td>\n",
       "      <td>0.14866</td>\n",
       "      <td>0.62994</td>\n",
       "      <td>0.06912</td>\n",
       "      <td>0.17233</td>\n",
       "      <td>0.48397</td>\n",
       "      <td>0.81789</td>\n",
       "    </tr>\n",
       "    <tr>\n",
       "      <th>156</th>\n",
       "      <td>Burundi</td>\n",
       "      <td>Sub-Saharan Africa</td>\n",
       "      <td>157</td>\n",
       "      <td>2.905</td>\n",
       "      <td>2.732</td>\n",
       "      <td>3.078</td>\n",
       "      <td>0.06831</td>\n",
       "      <td>0.23442</td>\n",
       "      <td>0.15747</td>\n",
       "      <td>0.0432</td>\n",
       "      <td>0.09419</td>\n",
       "      <td>0.20290</td>\n",
       "      <td>2.10404</td>\n",
       "    </tr>\n",
       "  </tbody>\n",
       "</table>\n",
       "<p>157 rows × 13 columns</p>\n",
       "</div>"
      ],
      "text/plain": [
       "         Country                           Region  Happiness Rank  \\\n",
       "0        Denmark                   Western Europe               1   \n",
       "1    Switzerland                   Western Europe               2   \n",
       "2        Iceland                   Western Europe               3   \n",
       "3         Norway                   Western Europe               4   \n",
       "4        Finland                   Western Europe               5   \n",
       "..           ...                              ...             ...   \n",
       "152        Benin               Sub-Saharan Africa             153   \n",
       "153  Afghanistan                    Southern Asia             154   \n",
       "154         Togo               Sub-Saharan Africa             155   \n",
       "155        Syria  Middle East and Northern Africa             156   \n",
       "156      Burundi               Sub-Saharan Africa             157   \n",
       "\n",
       "     Happiness Score  Lower Confidence Interval Upper Confidence Interval  \\\n",
       "0              7.526                      7.460                     7.592   \n",
       "1              7.509                      7.428                      7.59   \n",
       "2              7.501                      7.333                     7.669   \n",
       "3              7.498                      7.421                     7.575   \n",
       "4              7.413                      7.351                     7.475   \n",
       "..               ...                        ...                       ...   \n",
       "152            3.484                      3.404                     3.564   \n",
       "153            3.360                      3.288                     3.432   \n",
       "154            3.303                      3.192                     3.414   \n",
       "155            3.069                      2.936                     3.202   \n",
       "156            2.905                      2.732                     3.078   \n",
       "\n",
       "    Economy (GDP per Capita)   Family Health (Life Expectancy)  Freedom  \\\n",
       "0                    1.44178  1.16374                  0.79504  0.57941   \n",
       "1                    1.52733  1.14524                  0.86303  0.58557   \n",
       "2                    1.42666  1.18326                  0.86733  0.56624   \n",
       "3                    1.57744  1.12690                  0.79579  0.59609   \n",
       "4                    1.40598  1.13464                  0.81091  0.57104   \n",
       "..                       ...      ...                      ...      ...   \n",
       "152                  0.39499  0.10419                  0.21028  0.39747   \n",
       "153                  0.38227  0.11037                  0.17344   0.1643   \n",
       "154                  0.28123  0.00000                  0.24811  0.34678   \n",
       "155                  0.74719  0.14866                  0.62994  0.06912   \n",
       "156                  0.06831  0.23442                  0.15747   0.0432   \n",
       "\n",
       "     Trust (Government Corruption)  Generosity  Dystopia Residual  \n",
       "0                          0.44453     0.36171            2.73939  \n",
       "1                          0.41203     0.28083            2.69463  \n",
       "2                          0.14975     0.47678            2.83137  \n",
       "3                          0.35776     0.37895            2.66465  \n",
       "4                          0.41004     0.25492            2.82596  \n",
       "..                             ...         ...                ...  \n",
       "152                        0.06681     0.20180            2.10812  \n",
       "153                        0.07112     0.31268            2.14558  \n",
       "154                        0.11587     0.17517            2.13540  \n",
       "155                        0.17233     0.48397            0.81789  \n",
       "156                        0.09419     0.20290            2.10404  \n",
       "\n",
       "[157 rows x 13 columns]"
      ]
     },
     "execution_count": 4,
     "metadata": {},
     "output_type": "execute_result"
    }
   ],
   "source": [
    "df"
   ]
  },
  {
   "cell_type": "code",
   "execution_count": 5,
   "id": "39c5b3c5",
   "metadata": {},
   "outputs": [
    {
     "data": {
      "text/html": [
       "<div>\n",
       "<style scoped>\n",
       "    .dataframe tbody tr th:only-of-type {\n",
       "        vertical-align: middle;\n",
       "    }\n",
       "\n",
       "    .dataframe tbody tr th {\n",
       "        vertical-align: top;\n",
       "    }\n",
       "\n",
       "    .dataframe thead th {\n",
       "        text-align: right;\n",
       "    }\n",
       "</style>\n",
       "<table border=\"1\" class=\"dataframe\">\n",
       "  <thead>\n",
       "    <tr style=\"text-align: right;\">\n",
       "      <th></th>\n",
       "      <th>Happiness Rank</th>\n",
       "      <th>Happiness Score</th>\n",
       "      <th>Lower Confidence Interval</th>\n",
       "      <th>Family</th>\n",
       "      <th>Trust (Government Corruption)</th>\n",
       "      <th>Generosity</th>\n",
       "      <th>Dystopia Residual</th>\n",
       "    </tr>\n",
       "  </thead>\n",
       "  <tbody>\n",
       "    <tr>\n",
       "      <th>count</th>\n",
       "      <td>157.000000</td>\n",
       "      <td>157.000000</td>\n",
       "      <td>153.000000</td>\n",
       "      <td>157.000000</td>\n",
       "      <td>157.000000</td>\n",
       "      <td>157.000000</td>\n",
       "      <td>157.000000</td>\n",
       "    </tr>\n",
       "    <tr>\n",
       "      <th>mean</th>\n",
       "      <td>78.980892</td>\n",
       "      <td>5.382185</td>\n",
       "      <td>5.268641</td>\n",
       "      <td>0.793621</td>\n",
       "      <td>0.137624</td>\n",
       "      <td>0.242635</td>\n",
       "      <td>2.325807</td>\n",
       "    </tr>\n",
       "    <tr>\n",
       "      <th>std</th>\n",
       "      <td>45.466030</td>\n",
       "      <td>1.141674</td>\n",
       "      <td>1.151503</td>\n",
       "      <td>0.266706</td>\n",
       "      <td>0.111038</td>\n",
       "      <td>0.133756</td>\n",
       "      <td>0.542220</td>\n",
       "    </tr>\n",
       "    <tr>\n",
       "      <th>min</th>\n",
       "      <td>1.000000</td>\n",
       "      <td>2.905000</td>\n",
       "      <td>2.732000</td>\n",
       "      <td>0.000000</td>\n",
       "      <td>0.000000</td>\n",
       "      <td>0.000000</td>\n",
       "      <td>0.817890</td>\n",
       "    </tr>\n",
       "    <tr>\n",
       "      <th>25%</th>\n",
       "      <td>40.000000</td>\n",
       "      <td>4.404000</td>\n",
       "      <td>4.322000</td>\n",
       "      <td>0.641840</td>\n",
       "      <td>0.061260</td>\n",
       "      <td>0.154570</td>\n",
       "      <td>2.031710</td>\n",
       "    </tr>\n",
       "    <tr>\n",
       "      <th>50%</th>\n",
       "      <td>79.000000</td>\n",
       "      <td>5.314000</td>\n",
       "      <td>5.226000</td>\n",
       "      <td>0.841420</td>\n",
       "      <td>0.105470</td>\n",
       "      <td>0.222450</td>\n",
       "      <td>2.290740</td>\n",
       "    </tr>\n",
       "    <tr>\n",
       "      <th>75%</th>\n",
       "      <td>118.000000</td>\n",
       "      <td>6.269000</td>\n",
       "      <td>6.128000</td>\n",
       "      <td>1.021520</td>\n",
       "      <td>0.175540</td>\n",
       "      <td>0.311850</td>\n",
       "      <td>2.664650</td>\n",
       "    </tr>\n",
       "    <tr>\n",
       "      <th>max</th>\n",
       "      <td>157.000000</td>\n",
       "      <td>7.526000</td>\n",
       "      <td>7.460000</td>\n",
       "      <td>1.183260</td>\n",
       "      <td>0.505210</td>\n",
       "      <td>0.819710</td>\n",
       "      <td>3.837720</td>\n",
       "    </tr>\n",
       "  </tbody>\n",
       "</table>\n",
       "</div>"
      ],
      "text/plain": [
       "       Happiness Rank  Happiness Score  Lower Confidence Interval      Family  \\\n",
       "count      157.000000       157.000000                 153.000000  157.000000   \n",
       "mean        78.980892         5.382185                   5.268641    0.793621   \n",
       "std         45.466030         1.141674                   1.151503    0.266706   \n",
       "min          1.000000         2.905000                   2.732000    0.000000   \n",
       "25%         40.000000         4.404000                   4.322000    0.641840   \n",
       "50%         79.000000         5.314000                   5.226000    0.841420   \n",
       "75%        118.000000         6.269000                   6.128000    1.021520   \n",
       "max        157.000000         7.526000                   7.460000    1.183260   \n",
       "\n",
       "       Trust (Government Corruption)  Generosity  Dystopia Residual  \n",
       "count                     157.000000  157.000000         157.000000  \n",
       "mean                        0.137624    0.242635           2.325807  \n",
       "std                         0.111038    0.133756           0.542220  \n",
       "min                         0.000000    0.000000           0.817890  \n",
       "25%                         0.061260    0.154570           2.031710  \n",
       "50%                         0.105470    0.222450           2.290740  \n",
       "75%                         0.175540    0.311850           2.664650  \n",
       "max                         0.505210    0.819710           3.837720  "
      ]
     },
     "execution_count": 5,
     "metadata": {},
     "output_type": "execute_result"
    }
   ],
   "source": [
    "df.describe()"
   ]
  },
  {
   "cell_type": "code",
   "execution_count": 6,
   "id": "764f7e33",
   "metadata": {},
   "outputs": [],
   "source": [
    "# 1- this is null value in \"Lower Confidence Interval\" column we need to check it.\n",
    "# 2- the distrebution of data is new bad.\n",
    "# 3- "
   ]
  },
  {
   "cell_type": "code",
   "execution_count": 7,
   "id": "24e07bc3",
   "metadata": {},
   "outputs": [],
   "source": [
    "# first we have to check the all data is clean and there is null value .\n",
    "def missing_val(dataset):\n",
    "    null_val =dataset.isnull()\n",
    "    for column in null_val.columns.values.tolist():\n",
    "        null_count_val = null_val[column].sum()\n",
    "        if null_count_val > 0 :\n",
    "            print(f\"{column}\")\n",
    "            print(f\"we have {null_count_val} null value in this column. \")\n",
    "            print(\"\")\n",
    "            print(\"---------------------⛔⛔⛔⛔--------------------------\")\n",
    "        else :\n",
    "            print(f\"the column name {column} is clean from the null\")\n",
    "            print(\"\")\n",
    "            print(\"---------------------'👌👌👌👌'--------------------------\")\n",
    "    return"
   ]
  },
  {
   "cell_type": "code",
   "execution_count": 8,
   "id": "6b4bd045",
   "metadata": {},
   "outputs": [
    {
     "name": "stdout",
     "output_type": "stream",
     "text": [
      "the column name Country is clean from the null\n",
      "\n",
      "---------------------'👌👌👌👌'--------------------------\n",
      "the column name Region is clean from the null\n",
      "\n",
      "---------------------'👌👌👌👌'--------------------------\n",
      "the column name Happiness Rank is clean from the null\n",
      "\n",
      "---------------------'👌👌👌👌'--------------------------\n",
      "the column name Happiness Score is clean from the null\n",
      "\n",
      "---------------------'👌👌👌👌'--------------------------\n",
      "Lower Confidence Interval\n",
      "we have 4 null value in this column. \n",
      "\n",
      "---------------------⛔⛔⛔⛔--------------------------\n",
      "Upper Confidence Interval\n",
      "we have 2 null value in this column. \n",
      "\n",
      "---------------------⛔⛔⛔⛔--------------------------\n",
      "Economy (GDP per Capita)\n",
      "we have 1 null value in this column. \n",
      "\n",
      "---------------------⛔⛔⛔⛔--------------------------\n",
      "the column name Family is clean from the null\n",
      "\n",
      "---------------------'👌👌👌👌'--------------------------\n",
      "Health (Life Expectancy)\n",
      "we have 2 null value in this column. \n",
      "\n",
      "---------------------⛔⛔⛔⛔--------------------------\n",
      "the column name Freedom is clean from the null\n",
      "\n",
      "---------------------'👌👌👌👌'--------------------------\n",
      "the column name Trust (Government Corruption) is clean from the null\n",
      "\n",
      "---------------------'👌👌👌👌'--------------------------\n",
      "the column name Generosity is clean from the null\n",
      "\n",
      "---------------------'👌👌👌👌'--------------------------\n",
      "the column name Dystopia Residual is clean from the null\n",
      "\n",
      "---------------------'👌👌👌👌'--------------------------\n"
     ]
    }
   ],
   "source": [
    "missing_val(df)"
   ]
  },
  {
   "cell_type": "code",
   "execution_count": 9,
   "id": "04ac1303",
   "metadata": {},
   "outputs": [],
   "source": [
    "# Function to check if a value is not numeric \n",
    "def is_string(val):\n",
    "    return isinstance(val, str) and not val.isdigit()\n"
   ]
  },
  {
   "cell_type": "code",
   "execution_count": 10,
   "id": "9affe528",
   "metadata": {},
   "outputs": [
    {
     "data": {
      "text/html": [
       "<div>\n",
       "<style scoped>\n",
       "    .dataframe tbody tr th:only-of-type {\n",
       "        vertical-align: middle;\n",
       "    }\n",
       "\n",
       "    .dataframe tbody tr th {\n",
       "        vertical-align: top;\n",
       "    }\n",
       "\n",
       "    .dataframe thead th {\n",
       "        text-align: right;\n",
       "    }\n",
       "</style>\n",
       "<table border=\"1\" class=\"dataframe\">\n",
       "  <thead>\n",
       "    <tr style=\"text-align: right;\">\n",
       "      <th></th>\n",
       "      <th>Country</th>\n",
       "      <th>Region</th>\n",
       "      <th>Happiness Rank</th>\n",
       "      <th>Happiness Score</th>\n",
       "      <th>Lower Confidence Interval</th>\n",
       "      <th>Upper Confidence Interval</th>\n",
       "      <th>Economy (GDP per Capita)</th>\n",
       "      <th>Family</th>\n",
       "      <th>Health (Life Expectancy)</th>\n",
       "      <th>Freedom</th>\n",
       "      <th>Trust (Government Corruption)</th>\n",
       "      <th>Generosity</th>\n",
       "      <th>Dystopia Residual</th>\n",
       "    </tr>\n",
       "  </thead>\n",
       "  <tbody>\n",
       "    <tr>\n",
       "      <th>0</th>\n",
       "      <td>Denmark</td>\n",
       "      <td>Western Europe</td>\n",
       "      <td>1</td>\n",
       "      <td>7.526</td>\n",
       "      <td>7.460</td>\n",
       "      <td>7.592</td>\n",
       "      <td>1.44178</td>\n",
       "      <td>1.16374</td>\n",
       "      <td>0.79504</td>\n",
       "      <td>0.57941</td>\n",
       "      <td>0.44453</td>\n",
       "      <td>0.36171</td>\n",
       "      <td>2.73939</td>\n",
       "    </tr>\n",
       "    <tr>\n",
       "      <th>1</th>\n",
       "      <td>Switzerland</td>\n",
       "      <td>Western Europe</td>\n",
       "      <td>2</td>\n",
       "      <td>7.509</td>\n",
       "      <td>7.428</td>\n",
       "      <td>7.59</td>\n",
       "      <td>1.52733</td>\n",
       "      <td>1.14524</td>\n",
       "      <td>0.86303</td>\n",
       "      <td>0.58557</td>\n",
       "      <td>0.41203</td>\n",
       "      <td>0.28083</td>\n",
       "      <td>2.69463</td>\n",
       "    </tr>\n",
       "    <tr>\n",
       "      <th>2</th>\n",
       "      <td>Iceland</td>\n",
       "      <td>Western Europe</td>\n",
       "      <td>3</td>\n",
       "      <td>7.501</td>\n",
       "      <td>7.333</td>\n",
       "      <td>7.669</td>\n",
       "      <td>1.42666</td>\n",
       "      <td>1.18326</td>\n",
       "      <td>0.86733</td>\n",
       "      <td>0.56624</td>\n",
       "      <td>0.14975</td>\n",
       "      <td>0.47678</td>\n",
       "      <td>2.83137</td>\n",
       "    </tr>\n",
       "    <tr>\n",
       "      <th>3</th>\n",
       "      <td>Norway</td>\n",
       "      <td>Western Europe</td>\n",
       "      <td>4</td>\n",
       "      <td>7.498</td>\n",
       "      <td>7.421</td>\n",
       "      <td>7.575</td>\n",
       "      <td>1.57744</td>\n",
       "      <td>1.12690</td>\n",
       "      <td>0.79579</td>\n",
       "      <td>0.59609</td>\n",
       "      <td>0.35776</td>\n",
       "      <td>0.37895</td>\n",
       "      <td>2.66465</td>\n",
       "    </tr>\n",
       "    <tr>\n",
       "      <th>4</th>\n",
       "      <td>Finland</td>\n",
       "      <td>Western Europe</td>\n",
       "      <td>5</td>\n",
       "      <td>7.413</td>\n",
       "      <td>7.351</td>\n",
       "      <td>7.475</td>\n",
       "      <td>1.40598</td>\n",
       "      <td>1.13464</td>\n",
       "      <td>0.81091</td>\n",
       "      <td>0.57104</td>\n",
       "      <td>0.41004</td>\n",
       "      <td>0.25492</td>\n",
       "      <td>2.82596</td>\n",
       "    </tr>\n",
       "    <tr>\n",
       "      <th>...</th>\n",
       "      <td>...</td>\n",
       "      <td>...</td>\n",
       "      <td>...</td>\n",
       "      <td>...</td>\n",
       "      <td>...</td>\n",
       "      <td>...</td>\n",
       "      <td>...</td>\n",
       "      <td>...</td>\n",
       "      <td>...</td>\n",
       "      <td>...</td>\n",
       "      <td>...</td>\n",
       "      <td>...</td>\n",
       "      <td>...</td>\n",
       "    </tr>\n",
       "    <tr>\n",
       "      <th>152</th>\n",
       "      <td>Benin</td>\n",
       "      <td>Sub-Saharan Africa</td>\n",
       "      <td>153</td>\n",
       "      <td>3.484</td>\n",
       "      <td>3.404</td>\n",
       "      <td>3.564</td>\n",
       "      <td>0.39499</td>\n",
       "      <td>0.10419</td>\n",
       "      <td>0.21028</td>\n",
       "      <td>0.39747</td>\n",
       "      <td>0.06681</td>\n",
       "      <td>0.20180</td>\n",
       "      <td>2.10812</td>\n",
       "    </tr>\n",
       "    <tr>\n",
       "      <th>153</th>\n",
       "      <td>Afghanistan</td>\n",
       "      <td>Southern Asia</td>\n",
       "      <td>154</td>\n",
       "      <td>3.360</td>\n",
       "      <td>3.288</td>\n",
       "      <td>3.432</td>\n",
       "      <td>0.38227</td>\n",
       "      <td>0.11037</td>\n",
       "      <td>0.17344</td>\n",
       "      <td>0.1643</td>\n",
       "      <td>0.07112</td>\n",
       "      <td>0.31268</td>\n",
       "      <td>2.14558</td>\n",
       "    </tr>\n",
       "    <tr>\n",
       "      <th>154</th>\n",
       "      <td>Togo</td>\n",
       "      <td>Sub-Saharan Africa</td>\n",
       "      <td>155</td>\n",
       "      <td>3.303</td>\n",
       "      <td>3.192</td>\n",
       "      <td>3.414</td>\n",
       "      <td>0.28123</td>\n",
       "      <td>0.00000</td>\n",
       "      <td>0.24811</td>\n",
       "      <td>0.34678</td>\n",
       "      <td>0.11587</td>\n",
       "      <td>0.17517</td>\n",
       "      <td>2.13540</td>\n",
       "    </tr>\n",
       "    <tr>\n",
       "      <th>155</th>\n",
       "      <td>Syria</td>\n",
       "      <td>Middle East and Northern Africa</td>\n",
       "      <td>156</td>\n",
       "      <td>3.069</td>\n",
       "      <td>2.936</td>\n",
       "      <td>3.202</td>\n",
       "      <td>0.74719</td>\n",
       "      <td>0.14866</td>\n",
       "      <td>0.62994</td>\n",
       "      <td>0.06912</td>\n",
       "      <td>0.17233</td>\n",
       "      <td>0.48397</td>\n",
       "      <td>0.81789</td>\n",
       "    </tr>\n",
       "    <tr>\n",
       "      <th>156</th>\n",
       "      <td>Burundi</td>\n",
       "      <td>Sub-Saharan Africa</td>\n",
       "      <td>157</td>\n",
       "      <td>2.905</td>\n",
       "      <td>2.732</td>\n",
       "      <td>3.078</td>\n",
       "      <td>0.06831</td>\n",
       "      <td>0.23442</td>\n",
       "      <td>0.15747</td>\n",
       "      <td>0.0432</td>\n",
       "      <td>0.09419</td>\n",
       "      <td>0.20290</td>\n",
       "      <td>2.10404</td>\n",
       "    </tr>\n",
       "  </tbody>\n",
       "</table>\n",
       "<p>154 rows × 13 columns</p>\n",
       "</div>"
      ],
      "text/plain": [
       "         Country                           Region  Happiness Rank  \\\n",
       "0        Denmark                   Western Europe               1   \n",
       "1    Switzerland                   Western Europe               2   \n",
       "2        Iceland                   Western Europe               3   \n",
       "3         Norway                   Western Europe               4   \n",
       "4        Finland                   Western Europe               5   \n",
       "..           ...                              ...             ...   \n",
       "152        Benin               Sub-Saharan Africa             153   \n",
       "153  Afghanistan                    Southern Asia             154   \n",
       "154         Togo               Sub-Saharan Africa             155   \n",
       "155        Syria  Middle East and Northern Africa             156   \n",
       "156      Burundi               Sub-Saharan Africa             157   \n",
       "\n",
       "     Happiness Score  Lower Confidence Interval Upper Confidence Interval  \\\n",
       "0              7.526                      7.460                     7.592   \n",
       "1              7.509                      7.428                      7.59   \n",
       "2              7.501                      7.333                     7.669   \n",
       "3              7.498                      7.421                     7.575   \n",
       "4              7.413                      7.351                     7.475   \n",
       "..               ...                        ...                       ...   \n",
       "152            3.484                      3.404                     3.564   \n",
       "153            3.360                      3.288                     3.432   \n",
       "154            3.303                      3.192                     3.414   \n",
       "155            3.069                      2.936                     3.202   \n",
       "156            2.905                      2.732                     3.078   \n",
       "\n",
       "    Economy (GDP per Capita)   Family Health (Life Expectancy)  Freedom  \\\n",
       "0                    1.44178  1.16374                  0.79504  0.57941   \n",
       "1                    1.52733  1.14524                  0.86303  0.58557   \n",
       "2                    1.42666  1.18326                  0.86733  0.56624   \n",
       "3                    1.57744  1.12690                  0.79579  0.59609   \n",
       "4                    1.40598  1.13464                  0.81091  0.57104   \n",
       "..                       ...      ...                      ...      ...   \n",
       "152                  0.39499  0.10419                  0.21028  0.39747   \n",
       "153                  0.38227  0.11037                  0.17344   0.1643   \n",
       "154                  0.28123  0.00000                  0.24811  0.34678   \n",
       "155                  0.74719  0.14866                  0.62994  0.06912   \n",
       "156                  0.06831  0.23442                  0.15747   0.0432   \n",
       "\n",
       "     Trust (Government Corruption)  Generosity  Dystopia Residual  \n",
       "0                          0.44453     0.36171            2.73939  \n",
       "1                          0.41203     0.28083            2.69463  \n",
       "2                          0.14975     0.47678            2.83137  \n",
       "3                          0.35776     0.37895            2.66465  \n",
       "4                          0.41004     0.25492            2.82596  \n",
       "..                             ...         ...                ...  \n",
       "152                        0.06681     0.20180            2.10812  \n",
       "153                        0.07112     0.31268            2.14558  \n",
       "154                        0.11587     0.17517            2.13540  \n",
       "155                        0.17233     0.48397            0.81789  \n",
       "156                        0.09419     0.20290            2.10404  \n",
       "\n",
       "[154 rows x 13 columns]"
      ]
     },
     "execution_count": 10,
     "metadata": {},
     "output_type": "execute_result"
    }
   ],
   "source": [
    "# Extracting only string values\n",
    "string_values = df[df['Upper Confidence Interval'].apply(is_string)]\n",
    "string_values"
   ]
  },
  {
   "cell_type": "code",
   "execution_count": 11,
   "id": "b4bfa17b",
   "metadata": {
    "scrolled": true
   },
   "outputs": [
    {
     "data": {
      "text/plain": [
       "False    153\n",
       "True       4\n",
       "Name: Lower Confidence Interval, dtype: int64"
      ]
     },
     "execution_count": 11,
     "metadata": {},
     "output_type": "execute_result"
    }
   ],
   "source": [
    "null_value = df['Lower Confidence Interval'].isna()\n",
    "null_value.value_counts()"
   ]
  },
  {
   "cell_type": "code",
   "execution_count": 12,
   "id": "90e11a83",
   "metadata": {},
   "outputs": [
    {
     "data": {
      "text/plain": [
       "5.268640522875817"
      ]
     },
     "execution_count": 12,
     "metadata": {},
     "output_type": "execute_result"
    }
   ],
   "source": [
    "Low_interval_mean = df['Lower Confidence Interval'].mean() \n",
    "Low_interval_mean"
   ]
  },
  {
   "cell_type": "code",
   "execution_count": 13,
   "id": "2e9cb118",
   "metadata": {},
   "outputs": [],
   "source": [
    "df['Lower Confidence Interval'].replace(np.nan,Low_interval_mean,inplace=True)"
   ]
  },
  {
   "cell_type": "code",
   "execution_count": null,
   "id": "b82e6c44",
   "metadata": {},
   "outputs": [],
   "source": []
  },
  {
   "cell_type": "code",
   "execution_count": 14,
   "id": "1561c736",
   "metadata": {},
   "outputs": [
    {
     "data": {
      "text/plain": [
       "False    155\n",
       "True       2\n",
       "Name: Upper Confidence Interval, dtype: int64"
      ]
     },
     "execution_count": 14,
     "metadata": {},
     "output_type": "execute_result"
    }
   ],
   "source": [
    "null_value = df['Upper Confidence Interval'].isna()\n",
    "null_value.value_counts()"
   ]
  },
  {
   "cell_type": "code",
   "execution_count": 15,
   "id": "294e767a",
   "metadata": {},
   "outputs": [
    {
     "data": {
      "text/html": [
       "<div>\n",
       "<style scoped>\n",
       "    .dataframe tbody tr th:only-of-type {\n",
       "        vertical-align: middle;\n",
       "    }\n",
       "\n",
       "    .dataframe tbody tr th {\n",
       "        vertical-align: top;\n",
       "    }\n",
       "\n",
       "    .dataframe thead th {\n",
       "        text-align: right;\n",
       "    }\n",
       "</style>\n",
       "<table border=\"1\" class=\"dataframe\">\n",
       "  <thead>\n",
       "    <tr style=\"text-align: right;\">\n",
       "      <th></th>\n",
       "      <th>Country</th>\n",
       "      <th>Region</th>\n",
       "      <th>Happiness Rank</th>\n",
       "      <th>Happiness Score</th>\n",
       "      <th>Lower Confidence Interval</th>\n",
       "      <th>Upper Confidence Interval</th>\n",
       "      <th>Economy (GDP per Capita)</th>\n",
       "      <th>Family</th>\n",
       "      <th>Health (Life Expectancy)</th>\n",
       "      <th>Freedom</th>\n",
       "      <th>Trust (Government Corruption)</th>\n",
       "      <th>Generosity</th>\n",
       "      <th>Dystopia Residual</th>\n",
       "    </tr>\n",
       "  </thead>\n",
       "  <tbody>\n",
       "  </tbody>\n",
       "</table>\n",
       "</div>"
      ],
      "text/plain": [
       "Empty DataFrame\n",
       "Columns: [Country, Region, Happiness Rank, Happiness Score, Lower Confidence Interval, Upper Confidence Interval, Economy (GDP per Capita), Family, Health (Life Expectancy), Freedom, Trust (Government Corruption), Generosity, Dystopia Residual]\n",
       "Index: []"
      ]
     },
     "execution_count": 15,
     "metadata": {},
     "output_type": "execute_result"
    }
   ],
   "source": [
    "df[df['Upper Confidence Interval'] == 5.402590]"
   ]
  },
  {
   "cell_type": "code",
   "execution_count": 16,
   "id": "d42e493f",
   "metadata": {},
   "outputs": [
    {
     "name": "stdout",
     "output_type": "stream",
     "text": [
      "5.472753246753246\n"
     ]
    }
   ],
   "source": [
    "# Convert the column to numeric values (non-numeric values will be NaN) \n",
    "df['Upper Confidence Interval'] = pd.to_numeric(df['Upper Confidence Interval'], errors='coerce')\n",
    "# Calculate the mean, ignoring NaN values\n",
    "mean_value = df['Upper Confidence Interval'].mean()\n",
    "print(mean_value)"
   ]
  },
  {
   "cell_type": "code",
   "execution_count": 17,
   "id": "7c179763",
   "metadata": {},
   "outputs": [],
   "source": [
    "#  replace the value with maen of the Upper Confidence Interval. \n",
    "df['Upper Confidence Interval'].replace(0,5.402590,inplace=True)"
   ]
  },
  {
   "cell_type": "code",
   "execution_count": 18,
   "id": "0be3821f",
   "metadata": {},
   "outputs": [
    {
     "data": {
      "text/plain": [
       "5.472753246753246"
      ]
     },
     "execution_count": 18,
     "metadata": {},
     "output_type": "execute_result"
    }
   ],
   "source": [
    "mean_Lower_Confidence_Interval = df[\"Upper Confidence Interval\"].mean()\n",
    "mean_Lower_Confidence_Interval"
   ]
  },
  {
   "cell_type": "code",
   "execution_count": 19,
   "id": "2059e84e",
   "metadata": {},
   "outputs": [],
   "source": [
    "# replace value of \"Lower Confidence Interval\" with mean \n",
    "df[\"Upper Confidence Interval\"].replace(np.nan,mean_Lower_Confidence_Interval,inplace=True)"
   ]
  },
  {
   "cell_type": "code",
   "execution_count": 20,
   "id": "9d012346",
   "metadata": {},
   "outputs": [
    {
     "data": {
      "text/plain": [
       "False    156\n",
       "True       1\n",
       "Name: Economy (GDP per Capita), dtype: int64"
      ]
     },
     "execution_count": 20,
     "metadata": {},
     "output_type": "execute_result"
    }
   ],
   "source": [
    "df[\"Economy (GDP per Capita)\"].isna().value_counts()"
   ]
  },
  {
   "cell_type": "code",
   "execution_count": 21,
   "id": "72fdb784",
   "metadata": {},
   "outputs": [],
   "source": [
    "# to replace the data type from str to numeric\n",
    "df[\"Economy (GDP per Capita)\"] = pd.to_numeric(df[\"Economy (GDP per Capita)\"], errors='coerce')\n"
   ]
  },
  {
   "cell_type": "code",
   "execution_count": 22,
   "id": "c47d618c",
   "metadata": {},
   "outputs": [],
   "source": [
    "mean_GDP = df[\"Economy (GDP per Capita)\"].mean()"
   ]
  },
  {
   "cell_type": "code",
   "execution_count": 23,
   "id": "05d79c41",
   "metadata": {},
   "outputs": [],
   "source": [
    "df[\"Economy (GDP per Capita)\"].replace(np.nan,mean_GDP,inplace=True)"
   ]
  },
  {
   "cell_type": "code",
   "execution_count": 24,
   "id": "2fd92fd8",
   "metadata": {},
   "outputs": [
    {
     "data": {
      "text/plain": [
       "False    155\n",
       "True       2\n",
       "Name: Health (Life Expectancy), dtype: int64"
      ]
     },
     "execution_count": 24,
     "metadata": {},
     "output_type": "execute_result"
    }
   ],
   "source": [
    "df[\"Health (Life Expectancy)\"].isna().value_counts()"
   ]
  },
  {
   "cell_type": "code",
   "execution_count": 25,
   "id": "41800410",
   "metadata": {},
   "outputs": [],
   "source": [
    "# to replace the data type from str to numeric\n",
    "df[\"Health (Life Expectancy)\"] = pd.to_numeric(df[\"Health (Life Expectancy)\"], errors='coerce')\n"
   ]
  },
  {
   "cell_type": "code",
   "execution_count": 26,
   "id": "2222f11e",
   "metadata": {},
   "outputs": [
    {
     "data": {
      "text/plain": [
       "0.5533422727272727"
      ]
     },
     "execution_count": 26,
     "metadata": {},
     "output_type": "execute_result"
    }
   ],
   "source": [
    "Health_mean = df[\"Health (Life Expectancy)\"].mean()\n",
    "Health_mean"
   ]
  },
  {
   "cell_type": "code",
   "execution_count": 27,
   "id": "1654d194",
   "metadata": {},
   "outputs": [],
   "source": [
    "# repace the value with mean\n",
    "df[\"Health (Life Expectancy)\"].replace(np.nan,Health_mean,inplace=True)"
   ]
  },
  {
   "cell_type": "code",
   "execution_count": 28,
   "id": "5d85439a",
   "metadata": {},
   "outputs": [],
   "source": [
    "# the null columns and how we can deal with it.\n",
    "# 1- Lower Confidence Interval >>  replace the null value with this \"mean\" \n",
    "# 2- Upper Confidence Interval >>  the data has been repalce with 0  to remove the null value  and then to mean value \"5.402590\" "
   ]
  },
  {
   "cell_type": "code",
   "execution_count": 94,
   "id": "e846afb8",
   "metadata": {},
   "outputs": [
    {
     "data": {
      "text/plain": [
       "Index(['Country', 'Economy (GDP per Capita)', 'Health (Life Expectancy)',\n",
       "       'Happiness Score', 'Region'],\n",
       "      dtype='object')"
      ]
     },
     "execution_count": 94,
     "metadata": {},
     "output_type": "execute_result"
    }
   ],
   "source": [
    "df.columns"
   ]
  },
  {
   "cell_type": "code",
   "execution_count": 95,
   "id": "9c27a981",
   "metadata": {},
   "outputs": [
    {
     "name": "stdout",
     "output_type": "stream",
     "text": [
      "the column name Country is clean from the null\n",
      "\n",
      "---------------------'👌👌👌👌'--------------------------\n",
      "the column name Economy (GDP per Capita) is clean from the null\n",
      "\n",
      "---------------------'👌👌👌👌'--------------------------\n",
      "the column name Health (Life Expectancy) is clean from the null\n",
      "\n",
      "---------------------'👌👌👌👌'--------------------------\n",
      "the column name Happiness Score is clean from the null\n",
      "\n",
      "---------------------'👌👌👌👌'--------------------------\n",
      "the column name Region is clean from the null\n",
      "\n",
      "---------------------'👌👌👌👌'--------------------------\n"
     ]
    }
   ],
   "source": [
    "missing_val(df)"
   ]
  },
  {
   "cell_type": "code",
   "execution_count": 30,
   "id": "b9d30778",
   "metadata": {},
   "outputs": [
    {
     "data": {
      "text/html": [
       "<div>\n",
       "<style scoped>\n",
       "    .dataframe tbody tr th:only-of-type {\n",
       "        vertical-align: middle;\n",
       "    }\n",
       "\n",
       "    .dataframe tbody tr th {\n",
       "        vertical-align: top;\n",
       "    }\n",
       "\n",
       "    .dataframe thead th {\n",
       "        text-align: right;\n",
       "    }\n",
       "</style>\n",
       "<table border=\"1\" class=\"dataframe\">\n",
       "  <thead>\n",
       "    <tr style=\"text-align: right;\">\n",
       "      <th></th>\n",
       "      <th>Country</th>\n",
       "      <th>Region</th>\n",
       "      <th>Happiness Rank</th>\n",
       "      <th>Happiness Score</th>\n",
       "      <th>Lower Confidence Interval</th>\n",
       "      <th>Upper Confidence Interval</th>\n",
       "      <th>Economy (GDP per Capita)</th>\n",
       "      <th>Family</th>\n",
       "      <th>Health (Life Expectancy)</th>\n",
       "      <th>Freedom</th>\n",
       "      <th>Trust (Government Corruption)</th>\n",
       "      <th>Generosity</th>\n",
       "      <th>Dystopia Residual</th>\n",
       "    </tr>\n",
       "  </thead>\n",
       "  <tbody>\n",
       "    <tr>\n",
       "      <th>35</th>\n",
       "      <td>Qatar</td>\n",
       "      <td>Middle East and Northern Africa</td>\n",
       "      <td>36</td>\n",
       "      <td>6.375</td>\n",
       "      <td>6.178</td>\n",
       "      <td>6.572</td>\n",
       "      <td>1.82427</td>\n",
       "      <td>0.87964</td>\n",
       "      <td>0.71723</td>\n",
       "      <td>0.56679</td>\n",
       "      <td>0.48049</td>\n",
       "      <td>0.32388</td>\n",
       "      <td>1.58224</td>\n",
       "    </tr>\n",
       "    <tr>\n",
       "      <th>19</th>\n",
       "      <td>Luxembourg</td>\n",
       "      <td>Western Europe</td>\n",
       "      <td>20</td>\n",
       "      <td>6.871</td>\n",
       "      <td>6.804</td>\n",
       "      <td>6.938</td>\n",
       "      <td>1.69752</td>\n",
       "      <td>1.03999</td>\n",
       "      <td>0.84542</td>\n",
       "      <td>0.5487</td>\n",
       "      <td>0.35329</td>\n",
       "      <td>0.27571</td>\n",
       "      <td>2.11055</td>\n",
       "    </tr>\n",
       "    <tr>\n",
       "      <th>21</th>\n",
       "      <td>Singapore</td>\n",
       "      <td>Southeastern Asia</td>\n",
       "      <td>22</td>\n",
       "      <td>6.739</td>\n",
       "      <td>6.674</td>\n",
       "      <td>6.804</td>\n",
       "      <td>1.64555</td>\n",
       "      <td>0.86758</td>\n",
       "      <td>0.94719</td>\n",
       "      <td>0.4877</td>\n",
       "      <td>0.46987</td>\n",
       "      <td>0.32706</td>\n",
       "      <td>1.99375</td>\n",
       "    </tr>\n",
       "    <tr>\n",
       "      <th>40</th>\n",
       "      <td>Kuwait</td>\n",
       "      <td>Middle East and Northern Africa</td>\n",
       "      <td>41</td>\n",
       "      <td>6.239</td>\n",
       "      <td>6.154</td>\n",
       "      <td>6.324</td>\n",
       "      <td>1.61714</td>\n",
       "      <td>0.87758</td>\n",
       "      <td>0.63569</td>\n",
       "      <td>0.43166</td>\n",
       "      <td>0.23669</td>\n",
       "      <td>0.15965</td>\n",
       "      <td>2.28085</td>\n",
       "    </tr>\n",
       "    <tr>\n",
       "      <th>3</th>\n",
       "      <td>Norway</td>\n",
       "      <td>Western Europe</td>\n",
       "      <td>4</td>\n",
       "      <td>7.498</td>\n",
       "      <td>7.421</td>\n",
       "      <td>7.575</td>\n",
       "      <td>1.57744</td>\n",
       "      <td>1.12690</td>\n",
       "      <td>0.79579</td>\n",
       "      <td>0.59609</td>\n",
       "      <td>0.35776</td>\n",
       "      <td>0.37895</td>\n",
       "      <td>2.66465</td>\n",
       "    </tr>\n",
       "    <tr>\n",
       "      <th>...</th>\n",
       "      <td>...</td>\n",
       "      <td>...</td>\n",
       "      <td>...</td>\n",
       "      <td>...</td>\n",
       "      <td>...</td>\n",
       "      <td>...</td>\n",
       "      <td>...</td>\n",
       "      <td>...</td>\n",
       "      <td>...</td>\n",
       "      <td>...</td>\n",
       "      <td>...</td>\n",
       "      <td>...</td>\n",
       "      <td>...</td>\n",
       "    </tr>\n",
       "    <tr>\n",
       "      <th>149</th>\n",
       "      <td>Liberia</td>\n",
       "      <td>Sub-Saharan Africa</td>\n",
       "      <td>150</td>\n",
       "      <td>3.622</td>\n",
       "      <td>3.463</td>\n",
       "      <td>3.781</td>\n",
       "      <td>0.10706</td>\n",
       "      <td>0.50353</td>\n",
       "      <td>0.23165</td>\n",
       "      <td>0.25748</td>\n",
       "      <td>0.04852</td>\n",
       "      <td>0.24063</td>\n",
       "      <td>2.23284</td>\n",
       "    </tr>\n",
       "    <tr>\n",
       "      <th>131</th>\n",
       "      <td>Malawi</td>\n",
       "      <td>Sub-Saharan Africa</td>\n",
       "      <td>132</td>\n",
       "      <td>4.156</td>\n",
       "      <td>4.041</td>\n",
       "      <td>4.271</td>\n",
       "      <td>0.08709</td>\n",
       "      <td>0.14700</td>\n",
       "      <td>0.29364</td>\n",
       "      <td>0.4143</td>\n",
       "      <td>0.07564</td>\n",
       "      <td>0.30968</td>\n",
       "      <td>2.82859</td>\n",
       "    </tr>\n",
       "    <tr>\n",
       "      <th>156</th>\n",
       "      <td>Burundi</td>\n",
       "      <td>Sub-Saharan Africa</td>\n",
       "      <td>157</td>\n",
       "      <td>2.905</td>\n",
       "      <td>2.732</td>\n",
       "      <td>3.078</td>\n",
       "      <td>0.06831</td>\n",
       "      <td>0.23442</td>\n",
       "      <td>0.15747</td>\n",
       "      <td>0.0432</td>\n",
       "      <td>0.09419</td>\n",
       "      <td>0.20290</td>\n",
       "      <td>2.10404</td>\n",
       "    </tr>\n",
       "    <tr>\n",
       "      <th>124</th>\n",
       "      <td>Congo (Kinshasa)</td>\n",
       "      <td>Sub-Saharan Africa</td>\n",
       "      <td>125</td>\n",
       "      <td>4.272</td>\n",
       "      <td>4.191</td>\n",
       "      <td>4.353</td>\n",
       "      <td>0.05661</td>\n",
       "      <td>0.80676</td>\n",
       "      <td>0.18800</td>\n",
       "      <td>0.15602</td>\n",
       "      <td>0.06075</td>\n",
       "      <td>0.25458</td>\n",
       "      <td>2.74924</td>\n",
       "    </tr>\n",
       "    <tr>\n",
       "      <th>75</th>\n",
       "      <td>Somalia</td>\n",
       "      <td>Sub-Saharan Africa</td>\n",
       "      <td>76</td>\n",
       "      <td>5.440</td>\n",
       "      <td>5.321</td>\n",
       "      <td>5.559</td>\n",
       "      <td>0.00000</td>\n",
       "      <td>0.33613</td>\n",
       "      <td>0.11466</td>\n",
       "      <td>0.56778</td>\n",
       "      <td>0.31180</td>\n",
       "      <td>0.27225</td>\n",
       "      <td>3.83772</td>\n",
       "    </tr>\n",
       "  </tbody>\n",
       "</table>\n",
       "<p>157 rows × 13 columns</p>\n",
       "</div>"
      ],
      "text/plain": [
       "              Country                           Region  Happiness Rank  \\\n",
       "35              Qatar  Middle East and Northern Africa              36   \n",
       "19         Luxembourg                   Western Europe              20   \n",
       "21          Singapore                Southeastern Asia              22   \n",
       "40             Kuwait  Middle East and Northern Africa              41   \n",
       "3              Norway                   Western Europe               4   \n",
       "..                ...                              ...             ...   \n",
       "149           Liberia               Sub-Saharan Africa             150   \n",
       "131            Malawi               Sub-Saharan Africa             132   \n",
       "156           Burundi               Sub-Saharan Africa             157   \n",
       "124  Congo (Kinshasa)               Sub-Saharan Africa             125   \n",
       "75            Somalia               Sub-Saharan Africa              76   \n",
       "\n",
       "     Happiness Score  Lower Confidence Interval  Upper Confidence Interval  \\\n",
       "35             6.375                      6.178                      6.572   \n",
       "19             6.871                      6.804                      6.938   \n",
       "21             6.739                      6.674                      6.804   \n",
       "40             6.239                      6.154                      6.324   \n",
       "3              7.498                      7.421                      7.575   \n",
       "..               ...                        ...                        ...   \n",
       "149            3.622                      3.463                      3.781   \n",
       "131            4.156                      4.041                      4.271   \n",
       "156            2.905                      2.732                      3.078   \n",
       "124            4.272                      4.191                      4.353   \n",
       "75             5.440                      5.321                      5.559   \n",
       "\n",
       "     Economy (GDP per Capita)   Family  Health (Life Expectancy)  Freedom  \\\n",
       "35                    1.82427  0.87964                   0.71723  0.56679   \n",
       "19                    1.69752  1.03999                   0.84542   0.5487   \n",
       "21                    1.64555  0.86758                   0.94719   0.4877   \n",
       "40                    1.61714  0.87758                   0.63569  0.43166   \n",
       "3                     1.57744  1.12690                   0.79579  0.59609   \n",
       "..                        ...      ...                       ...      ...   \n",
       "149                   0.10706  0.50353                   0.23165  0.25748   \n",
       "131                   0.08709  0.14700                   0.29364   0.4143   \n",
       "156                   0.06831  0.23442                   0.15747   0.0432   \n",
       "124                   0.05661  0.80676                   0.18800  0.15602   \n",
       "75                    0.00000  0.33613                   0.11466  0.56778   \n",
       "\n",
       "     Trust (Government Corruption)  Generosity  Dystopia Residual  \n",
       "35                         0.48049     0.32388            1.58224  \n",
       "19                         0.35329     0.27571            2.11055  \n",
       "21                         0.46987     0.32706            1.99375  \n",
       "40                         0.23669     0.15965            2.28085  \n",
       "3                          0.35776     0.37895            2.66465  \n",
       "..                             ...         ...                ...  \n",
       "149                        0.04852     0.24063            2.23284  \n",
       "131                        0.07564     0.30968            2.82859  \n",
       "156                        0.09419     0.20290            2.10404  \n",
       "124                        0.06075     0.25458            2.74924  \n",
       "75                         0.31180     0.27225            3.83772  \n",
       "\n",
       "[157 rows x 13 columns]"
      ]
     },
     "execution_count": 30,
     "metadata": {},
     "output_type": "execute_result"
    }
   ],
   "source": [
    "#Identify the GDP per capita and Healthy Life Expectancy of the top 10 countries.and represent it as a bar chart.\n",
    "# sort the the value buy GDP  & then  Healthy Life Expectancy\n",
    "df_sorted = df.sort_values(by=[\"Economy (GDP per Capita)\",\"Health (Life Expectancy)\"],ascending=[False,False])\n",
    "df_sorted"
   ]
  },
  {
   "cell_type": "code",
   "execution_count": 31,
   "id": "6d3a48dc",
   "metadata": {},
   "outputs": [
    {
     "data": {
      "text/html": [
       "<div>\n",
       "<style scoped>\n",
       "    .dataframe tbody tr th:only-of-type {\n",
       "        vertical-align: middle;\n",
       "    }\n",
       "\n",
       "    .dataframe tbody tr th {\n",
       "        vertical-align: top;\n",
       "    }\n",
       "\n",
       "    .dataframe thead th {\n",
       "        text-align: right;\n",
       "    }\n",
       "</style>\n",
       "<table border=\"1\" class=\"dataframe\">\n",
       "  <thead>\n",
       "    <tr style=\"text-align: right;\">\n",
       "      <th></th>\n",
       "      <th>Country</th>\n",
       "      <th>Economy (GDP per Capita)</th>\n",
       "      <th>Health (Life Expectancy)</th>\n",
       "    </tr>\n",
       "  </thead>\n",
       "  <tbody>\n",
       "    <tr>\n",
       "      <th>35</th>\n",
       "      <td>Qatar</td>\n",
       "      <td>1.82427</td>\n",
       "      <td>0.717230</td>\n",
       "    </tr>\n",
       "    <tr>\n",
       "      <th>19</th>\n",
       "      <td>Luxembourg</td>\n",
       "      <td>1.69752</td>\n",
       "      <td>0.845420</td>\n",
       "    </tr>\n",
       "    <tr>\n",
       "      <th>21</th>\n",
       "      <td>Singapore</td>\n",
       "      <td>1.64555</td>\n",
       "      <td>0.947190</td>\n",
       "    </tr>\n",
       "    <tr>\n",
       "      <th>40</th>\n",
       "      <td>Kuwait</td>\n",
       "      <td>1.61714</td>\n",
       "      <td>0.635690</td>\n",
       "    </tr>\n",
       "    <tr>\n",
       "      <th>3</th>\n",
       "      <td>Norway</td>\n",
       "      <td>1.57744</td>\n",
       "      <td>0.795790</td>\n",
       "    </tr>\n",
       "    <tr>\n",
       "      <th>27</th>\n",
       "      <td>United Arab Emirates</td>\n",
       "      <td>1.57352</td>\n",
       "      <td>0.729930</td>\n",
       "    </tr>\n",
       "    <tr>\n",
       "      <th>1</th>\n",
       "      <td>Switzerland</td>\n",
       "      <td>1.52733</td>\n",
       "      <td>0.863030</td>\n",
       "    </tr>\n",
       "    <tr>\n",
       "      <th>74</th>\n",
       "      <td>Hong Kong</td>\n",
       "      <td>1.51070</td>\n",
       "      <td>0.952770</td>\n",
       "    </tr>\n",
       "    <tr>\n",
       "      <th>12</th>\n",
       "      <td>United States</td>\n",
       "      <td>1.50796</td>\n",
       "      <td>0.553342</td>\n",
       "    </tr>\n",
       "    <tr>\n",
       "      <th>33</th>\n",
       "      <td>Saudi Arabia</td>\n",
       "      <td>1.48953</td>\n",
       "      <td>0.592670</td>\n",
       "    </tr>\n",
       "  </tbody>\n",
       "</table>\n",
       "</div>"
      ],
      "text/plain": [
       "                 Country  Economy (GDP per Capita)  Health (Life Expectancy)\n",
       "35                 Qatar                   1.82427                  0.717230\n",
       "19            Luxembourg                   1.69752                  0.845420\n",
       "21             Singapore                   1.64555                  0.947190\n",
       "40                Kuwait                   1.61714                  0.635690\n",
       "3                 Norway                   1.57744                  0.795790\n",
       "27  United Arab Emirates                   1.57352                  0.729930\n",
       "1            Switzerland                   1.52733                  0.863030\n",
       "74             Hong Kong                   1.51070                  0.952770\n",
       "12         United States                   1.50796                  0.553342\n",
       "33          Saudi Arabia                   1.48953                  0.592670"
      ]
     },
     "execution_count": 31,
     "metadata": {},
     "output_type": "execute_result"
    }
   ],
   "source": [
    "# the top 10 of just two columns [\"Economy (GDP per Capita)\",\"Health (Life Expectancy)\"]\n",
    "top10 = df_sorted[[\"Country\",\"Economy (GDP per Capita)\",\"Health (Life Expectancy)\"]].head(10)\n",
    "top10"
   ]
  },
  {
   "cell_type": "markdown",
   "id": "55a5b443",
   "metadata": {},
   "source": [
    "### start the vizulization"
   ]
  },
  {
   "cell_type": "code",
   "execution_count": 54,
   "id": "cd604217",
   "metadata": {},
   "outputs": [
    {
     "data": {
      "application/vnd.plotly.v1+json": {
       "config": {
        "plotlyServerURL": "https://plot.ly"
       },
       "data": [
        {
         "marker": {
          "color": "blue"
         },
         "name": "GDP per Capita (USD)",
         "type": "bar",
         "x": [
          "Qatar",
          "Luxembourg",
          "Singapore",
          "Kuwait",
          "Norway",
          "United Arab Emirates",
          "Switzerland",
          "Hong Kong",
          "United States",
          "Saudi Arabia"
         ],
         "y": [
          1.82427,
          1.69752,
          1.64555,
          1.61714,
          1.57744,
          1.57352,
          1.52733,
          1.5107,
          1.50796,
          1.48953
         ]
        },
        {
         "marker": {
          "color": "green"
         },
         "name": "Healthy Life Expectancy (Years)",
         "type": "bar",
         "x": [
          "Qatar",
          "Luxembourg",
          "Singapore",
          "Kuwait",
          "Norway",
          "United Arab Emirates",
          "Switzerland",
          "Hong Kong",
          "United States",
          "Saudi Arabia"
         ],
         "y": [
          0.71723,
          0.84542,
          0.94719,
          0.63569,
          0.79579,
          0.72993,
          0.86303,
          0.95277,
          0.5533422727272727,
          0.59267
         ]
        }
       ],
       "layout": {
        "barmode": "group",
        "template": {
         "data": {
          "bar": [
           {
            "error_x": {
             "color": "#2a3f5f"
            },
            "error_y": {
             "color": "#2a3f5f"
            },
            "marker": {
             "line": {
              "color": "#E5ECF6",
              "width": 0.5
             },
             "pattern": {
              "fillmode": "overlay",
              "size": 10,
              "solidity": 0.2
             }
            },
            "type": "bar"
           }
          ],
          "barpolar": [
           {
            "marker": {
             "line": {
              "color": "#E5ECF6",
              "width": 0.5
             },
             "pattern": {
              "fillmode": "overlay",
              "size": 10,
              "solidity": 0.2
             }
            },
            "type": "barpolar"
           }
          ],
          "carpet": [
           {
            "aaxis": {
             "endlinecolor": "#2a3f5f",
             "gridcolor": "white",
             "linecolor": "white",
             "minorgridcolor": "white",
             "startlinecolor": "#2a3f5f"
            },
            "baxis": {
             "endlinecolor": "#2a3f5f",
             "gridcolor": "white",
             "linecolor": "white",
             "minorgridcolor": "white",
             "startlinecolor": "#2a3f5f"
            },
            "type": "carpet"
           }
          ],
          "choropleth": [
           {
            "colorbar": {
             "outlinewidth": 0,
             "ticks": ""
            },
            "type": "choropleth"
           }
          ],
          "contour": [
           {
            "colorbar": {
             "outlinewidth": 0,
             "ticks": ""
            },
            "colorscale": [
             [
              0,
              "#0d0887"
             ],
             [
              0.1111111111111111,
              "#46039f"
             ],
             [
              0.2222222222222222,
              "#7201a8"
             ],
             [
              0.3333333333333333,
              "#9c179e"
             ],
             [
              0.4444444444444444,
              "#bd3786"
             ],
             [
              0.5555555555555556,
              "#d8576b"
             ],
             [
              0.6666666666666666,
              "#ed7953"
             ],
             [
              0.7777777777777778,
              "#fb9f3a"
             ],
             [
              0.8888888888888888,
              "#fdca26"
             ],
             [
              1,
              "#f0f921"
             ]
            ],
            "type": "contour"
           }
          ],
          "contourcarpet": [
           {
            "colorbar": {
             "outlinewidth": 0,
             "ticks": ""
            },
            "type": "contourcarpet"
           }
          ],
          "heatmap": [
           {
            "colorbar": {
             "outlinewidth": 0,
             "ticks": ""
            },
            "colorscale": [
             [
              0,
              "#0d0887"
             ],
             [
              0.1111111111111111,
              "#46039f"
             ],
             [
              0.2222222222222222,
              "#7201a8"
             ],
             [
              0.3333333333333333,
              "#9c179e"
             ],
             [
              0.4444444444444444,
              "#bd3786"
             ],
             [
              0.5555555555555556,
              "#d8576b"
             ],
             [
              0.6666666666666666,
              "#ed7953"
             ],
             [
              0.7777777777777778,
              "#fb9f3a"
             ],
             [
              0.8888888888888888,
              "#fdca26"
             ],
             [
              1,
              "#f0f921"
             ]
            ],
            "type": "heatmap"
           }
          ],
          "heatmapgl": [
           {
            "colorbar": {
             "outlinewidth": 0,
             "ticks": ""
            },
            "colorscale": [
             [
              0,
              "#0d0887"
             ],
             [
              0.1111111111111111,
              "#46039f"
             ],
             [
              0.2222222222222222,
              "#7201a8"
             ],
             [
              0.3333333333333333,
              "#9c179e"
             ],
             [
              0.4444444444444444,
              "#bd3786"
             ],
             [
              0.5555555555555556,
              "#d8576b"
             ],
             [
              0.6666666666666666,
              "#ed7953"
             ],
             [
              0.7777777777777778,
              "#fb9f3a"
             ],
             [
              0.8888888888888888,
              "#fdca26"
             ],
             [
              1,
              "#f0f921"
             ]
            ],
            "type": "heatmapgl"
           }
          ],
          "histogram": [
           {
            "marker": {
             "pattern": {
              "fillmode": "overlay",
              "size": 10,
              "solidity": 0.2
             }
            },
            "type": "histogram"
           }
          ],
          "histogram2d": [
           {
            "colorbar": {
             "outlinewidth": 0,
             "ticks": ""
            },
            "colorscale": [
             [
              0,
              "#0d0887"
             ],
             [
              0.1111111111111111,
              "#46039f"
             ],
             [
              0.2222222222222222,
              "#7201a8"
             ],
             [
              0.3333333333333333,
              "#9c179e"
             ],
             [
              0.4444444444444444,
              "#bd3786"
             ],
             [
              0.5555555555555556,
              "#d8576b"
             ],
             [
              0.6666666666666666,
              "#ed7953"
             ],
             [
              0.7777777777777778,
              "#fb9f3a"
             ],
             [
              0.8888888888888888,
              "#fdca26"
             ],
             [
              1,
              "#f0f921"
             ]
            ],
            "type": "histogram2d"
           }
          ],
          "histogram2dcontour": [
           {
            "colorbar": {
             "outlinewidth": 0,
             "ticks": ""
            },
            "colorscale": [
             [
              0,
              "#0d0887"
             ],
             [
              0.1111111111111111,
              "#46039f"
             ],
             [
              0.2222222222222222,
              "#7201a8"
             ],
             [
              0.3333333333333333,
              "#9c179e"
             ],
             [
              0.4444444444444444,
              "#bd3786"
             ],
             [
              0.5555555555555556,
              "#d8576b"
             ],
             [
              0.6666666666666666,
              "#ed7953"
             ],
             [
              0.7777777777777778,
              "#fb9f3a"
             ],
             [
              0.8888888888888888,
              "#fdca26"
             ],
             [
              1,
              "#f0f921"
             ]
            ],
            "type": "histogram2dcontour"
           }
          ],
          "mesh3d": [
           {
            "colorbar": {
             "outlinewidth": 0,
             "ticks": ""
            },
            "type": "mesh3d"
           }
          ],
          "parcoords": [
           {
            "line": {
             "colorbar": {
              "outlinewidth": 0,
              "ticks": ""
             }
            },
            "type": "parcoords"
           }
          ],
          "pie": [
           {
            "automargin": true,
            "type": "pie"
           }
          ],
          "scatter": [
           {
            "fillpattern": {
             "fillmode": "overlay",
             "size": 10,
             "solidity": 0.2
            },
            "type": "scatter"
           }
          ],
          "scatter3d": [
           {
            "line": {
             "colorbar": {
              "outlinewidth": 0,
              "ticks": ""
             }
            },
            "marker": {
             "colorbar": {
              "outlinewidth": 0,
              "ticks": ""
             }
            },
            "type": "scatter3d"
           }
          ],
          "scattercarpet": [
           {
            "marker": {
             "colorbar": {
              "outlinewidth": 0,
              "ticks": ""
             }
            },
            "type": "scattercarpet"
           }
          ],
          "scattergeo": [
           {
            "marker": {
             "colorbar": {
              "outlinewidth": 0,
              "ticks": ""
             }
            },
            "type": "scattergeo"
           }
          ],
          "scattergl": [
           {
            "marker": {
             "colorbar": {
              "outlinewidth": 0,
              "ticks": ""
             }
            },
            "type": "scattergl"
           }
          ],
          "scattermapbox": [
           {
            "marker": {
             "colorbar": {
              "outlinewidth": 0,
              "ticks": ""
             }
            },
            "type": "scattermapbox"
           }
          ],
          "scatterpolar": [
           {
            "marker": {
             "colorbar": {
              "outlinewidth": 0,
              "ticks": ""
             }
            },
            "type": "scatterpolar"
           }
          ],
          "scatterpolargl": [
           {
            "marker": {
             "colorbar": {
              "outlinewidth": 0,
              "ticks": ""
             }
            },
            "type": "scatterpolargl"
           }
          ],
          "scatterternary": [
           {
            "marker": {
             "colorbar": {
              "outlinewidth": 0,
              "ticks": ""
             }
            },
            "type": "scatterternary"
           }
          ],
          "surface": [
           {
            "colorbar": {
             "outlinewidth": 0,
             "ticks": ""
            },
            "colorscale": [
             [
              0,
              "#0d0887"
             ],
             [
              0.1111111111111111,
              "#46039f"
             ],
             [
              0.2222222222222222,
              "#7201a8"
             ],
             [
              0.3333333333333333,
              "#9c179e"
             ],
             [
              0.4444444444444444,
              "#bd3786"
             ],
             [
              0.5555555555555556,
              "#d8576b"
             ],
             [
              0.6666666666666666,
              "#ed7953"
             ],
             [
              0.7777777777777778,
              "#fb9f3a"
             ],
             [
              0.8888888888888888,
              "#fdca26"
             ],
             [
              1,
              "#f0f921"
             ]
            ],
            "type": "surface"
           }
          ],
          "table": [
           {
            "cells": {
             "fill": {
              "color": "#EBF0F8"
             },
             "line": {
              "color": "white"
             }
            },
            "header": {
             "fill": {
              "color": "#C8D4E3"
             },
             "line": {
              "color": "white"
             }
            },
            "type": "table"
           }
          ]
         },
         "layout": {
          "annotationdefaults": {
           "arrowcolor": "#2a3f5f",
           "arrowhead": 0,
           "arrowwidth": 1
          },
          "autotypenumbers": "strict",
          "coloraxis": {
           "colorbar": {
            "outlinewidth": 0,
            "ticks": ""
           }
          },
          "colorscale": {
           "diverging": [
            [
             0,
             "#8e0152"
            ],
            [
             0.1,
             "#c51b7d"
            ],
            [
             0.2,
             "#de77ae"
            ],
            [
             0.3,
             "#f1b6da"
            ],
            [
             0.4,
             "#fde0ef"
            ],
            [
             0.5,
             "#f7f7f7"
            ],
            [
             0.6,
             "#e6f5d0"
            ],
            [
             0.7,
             "#b8e186"
            ],
            [
             0.8,
             "#7fbc41"
            ],
            [
             0.9,
             "#4d9221"
            ],
            [
             1,
             "#276419"
            ]
           ],
           "sequential": [
            [
             0,
             "#0d0887"
            ],
            [
             0.1111111111111111,
             "#46039f"
            ],
            [
             0.2222222222222222,
             "#7201a8"
            ],
            [
             0.3333333333333333,
             "#9c179e"
            ],
            [
             0.4444444444444444,
             "#bd3786"
            ],
            [
             0.5555555555555556,
             "#d8576b"
            ],
            [
             0.6666666666666666,
             "#ed7953"
            ],
            [
             0.7777777777777778,
             "#fb9f3a"
            ],
            [
             0.8888888888888888,
             "#fdca26"
            ],
            [
             1,
             "#f0f921"
            ]
           ],
           "sequentialminus": [
            [
             0,
             "#0d0887"
            ],
            [
             0.1111111111111111,
             "#46039f"
            ],
            [
             0.2222222222222222,
             "#7201a8"
            ],
            [
             0.3333333333333333,
             "#9c179e"
            ],
            [
             0.4444444444444444,
             "#bd3786"
            ],
            [
             0.5555555555555556,
             "#d8576b"
            ],
            [
             0.6666666666666666,
             "#ed7953"
            ],
            [
             0.7777777777777778,
             "#fb9f3a"
            ],
            [
             0.8888888888888888,
             "#fdca26"
            ],
            [
             1,
             "#f0f921"
            ]
           ]
          },
          "colorway": [
           "#636efa",
           "#EF553B",
           "#00cc96",
           "#ab63fa",
           "#FFA15A",
           "#19d3f3",
           "#FF6692",
           "#B6E880",
           "#FF97FF",
           "#FECB52"
          ],
          "font": {
           "color": "#2a3f5f"
          },
          "geo": {
           "bgcolor": "white",
           "lakecolor": "white",
           "landcolor": "#E5ECF6",
           "showlakes": true,
           "showland": true,
           "subunitcolor": "white"
          },
          "hoverlabel": {
           "align": "left"
          },
          "hovermode": "closest",
          "mapbox": {
           "style": "light"
          },
          "paper_bgcolor": "white",
          "plot_bgcolor": "#E5ECF6",
          "polar": {
           "angularaxis": {
            "gridcolor": "white",
            "linecolor": "white",
            "ticks": ""
           },
           "bgcolor": "#E5ECF6",
           "radialaxis": {
            "gridcolor": "white",
            "linecolor": "white",
            "ticks": ""
           }
          },
          "scene": {
           "xaxis": {
            "backgroundcolor": "#E5ECF6",
            "gridcolor": "white",
            "gridwidth": 2,
            "linecolor": "white",
            "showbackground": true,
            "ticks": "",
            "zerolinecolor": "white"
           },
           "yaxis": {
            "backgroundcolor": "#E5ECF6",
            "gridcolor": "white",
            "gridwidth": 2,
            "linecolor": "white",
            "showbackground": true,
            "ticks": "",
            "zerolinecolor": "white"
           },
           "zaxis": {
            "backgroundcolor": "#E5ECF6",
            "gridcolor": "white",
            "gridwidth": 2,
            "linecolor": "white",
            "showbackground": true,
            "ticks": "",
            "zerolinecolor": "white"
           }
          },
          "shapedefaults": {
           "line": {
            "color": "#2a3f5f"
           }
          },
          "ternary": {
           "aaxis": {
            "gridcolor": "white",
            "linecolor": "white",
            "ticks": ""
           },
           "baxis": {
            "gridcolor": "white",
            "linecolor": "white",
            "ticks": ""
           },
           "bgcolor": "#E5ECF6",
           "caxis": {
            "gridcolor": "white",
            "linecolor": "white",
            "ticks": ""
           }
          },
          "title": {
           "x": 0.05
          },
          "xaxis": {
           "automargin": true,
           "gridcolor": "white",
           "linecolor": "white",
           "ticks": "",
           "title": {
            "standoff": 15
           },
           "zerolinecolor": "white",
           "zerolinewidth": 2
          },
          "yaxis": {
           "automargin": true,
           "gridcolor": "white",
           "linecolor": "white",
           "ticks": "",
           "title": {
            "standoff": 15
           },
           "zerolinecolor": "white",
           "zerolinewidth": 2
          }
         }
        },
        "title": {
         "text": "GDP per Capita and Healthy Life Expectancy of Top 10 Countries"
        },
        "xaxis": {
         "title": {
          "text": "Country"
         }
        },
        "yaxis": {
         "title": {
          "text": "Values"
         }
        }
       }
      },
      "text/html": [
       "<div>                            <div id=\"0d0704d3-a284-4d66-b787-9b905d0a34f6\" class=\"plotly-graph-div\" style=\"height:525px; width:100%;\"></div>            <script type=\"text/javascript\">                require([\"plotly\"], function(Plotly) {                    window.PLOTLYENV=window.PLOTLYENV || {};                                    if (document.getElementById(\"0d0704d3-a284-4d66-b787-9b905d0a34f6\")) {                    Plotly.newPlot(                        \"0d0704d3-a284-4d66-b787-9b905d0a34f6\",                        [{\"marker\":{\"color\":\"blue\"},\"name\":\"GDP per Capita (USD)\",\"x\":[\"Qatar\",\"Luxembourg\",\"Singapore\",\"Kuwait\",\"Norway\",\"United Arab Emirates\",\"Switzerland\",\"Hong Kong\",\"United States\",\"Saudi Arabia\"],\"y\":[1.82427,1.69752,1.64555,1.61714,1.57744,1.57352,1.52733,1.5107,1.50796,1.48953],\"type\":\"bar\"},{\"marker\":{\"color\":\"green\"},\"name\":\"Healthy Life Expectancy (Years)\",\"x\":[\"Qatar\",\"Luxembourg\",\"Singapore\",\"Kuwait\",\"Norway\",\"United Arab Emirates\",\"Switzerland\",\"Hong Kong\",\"United States\",\"Saudi Arabia\"],\"y\":[0.71723,0.84542,0.94719,0.63569,0.79579,0.72993,0.86303,0.95277,0.5533422727272727,0.59267],\"type\":\"bar\"}],                        {\"template\":{\"data\":{\"histogram2dcontour\":[{\"type\":\"histogram2dcontour\",\"colorbar\":{\"outlinewidth\":0,\"ticks\":\"\"},\"colorscale\":[[0.0,\"#0d0887\"],[0.1111111111111111,\"#46039f\"],[0.2222222222222222,\"#7201a8\"],[0.3333333333333333,\"#9c179e\"],[0.4444444444444444,\"#bd3786\"],[0.5555555555555556,\"#d8576b\"],[0.6666666666666666,\"#ed7953\"],[0.7777777777777778,\"#fb9f3a\"],[0.8888888888888888,\"#fdca26\"],[1.0,\"#f0f921\"]]}],\"choropleth\":[{\"type\":\"choropleth\",\"colorbar\":{\"outlinewidth\":0,\"ticks\":\"\"}}],\"histogram2d\":[{\"type\":\"histogram2d\",\"colorbar\":{\"outlinewidth\":0,\"ticks\":\"\"},\"colorscale\":[[0.0,\"#0d0887\"],[0.1111111111111111,\"#46039f\"],[0.2222222222222222,\"#7201a8\"],[0.3333333333333333,\"#9c179e\"],[0.4444444444444444,\"#bd3786\"],[0.5555555555555556,\"#d8576b\"],[0.6666666666666666,\"#ed7953\"],[0.7777777777777778,\"#fb9f3a\"],[0.8888888888888888,\"#fdca26\"],[1.0,\"#f0f921\"]]}],\"heatmap\":[{\"type\":\"heatmap\",\"colorbar\":{\"outlinewidth\":0,\"ticks\":\"\"},\"colorscale\":[[0.0,\"#0d0887\"],[0.1111111111111111,\"#46039f\"],[0.2222222222222222,\"#7201a8\"],[0.3333333333333333,\"#9c179e\"],[0.4444444444444444,\"#bd3786\"],[0.5555555555555556,\"#d8576b\"],[0.6666666666666666,\"#ed7953\"],[0.7777777777777778,\"#fb9f3a\"],[0.8888888888888888,\"#fdca26\"],[1.0,\"#f0f921\"]]}],\"heatmapgl\":[{\"type\":\"heatmapgl\",\"colorbar\":{\"outlinewidth\":0,\"ticks\":\"\"},\"colorscale\":[[0.0,\"#0d0887\"],[0.1111111111111111,\"#46039f\"],[0.2222222222222222,\"#7201a8\"],[0.3333333333333333,\"#9c179e\"],[0.4444444444444444,\"#bd3786\"],[0.5555555555555556,\"#d8576b\"],[0.6666666666666666,\"#ed7953\"],[0.7777777777777778,\"#fb9f3a\"],[0.8888888888888888,\"#fdca26\"],[1.0,\"#f0f921\"]]}],\"contourcarpet\":[{\"type\":\"contourcarpet\",\"colorbar\":{\"outlinewidth\":0,\"ticks\":\"\"}}],\"contour\":[{\"type\":\"contour\",\"colorbar\":{\"outlinewidth\":0,\"ticks\":\"\"},\"colorscale\":[[0.0,\"#0d0887\"],[0.1111111111111111,\"#46039f\"],[0.2222222222222222,\"#7201a8\"],[0.3333333333333333,\"#9c179e\"],[0.4444444444444444,\"#bd3786\"],[0.5555555555555556,\"#d8576b\"],[0.6666666666666666,\"#ed7953\"],[0.7777777777777778,\"#fb9f3a\"],[0.8888888888888888,\"#fdca26\"],[1.0,\"#f0f921\"]]}],\"surface\":[{\"type\":\"surface\",\"colorbar\":{\"outlinewidth\":0,\"ticks\":\"\"},\"colorscale\":[[0.0,\"#0d0887\"],[0.1111111111111111,\"#46039f\"],[0.2222222222222222,\"#7201a8\"],[0.3333333333333333,\"#9c179e\"],[0.4444444444444444,\"#bd3786\"],[0.5555555555555556,\"#d8576b\"],[0.6666666666666666,\"#ed7953\"],[0.7777777777777778,\"#fb9f3a\"],[0.8888888888888888,\"#fdca26\"],[1.0,\"#f0f921\"]]}],\"mesh3d\":[{\"type\":\"mesh3d\",\"colorbar\":{\"outlinewidth\":0,\"ticks\":\"\"}}],\"scatter\":[{\"fillpattern\":{\"fillmode\":\"overlay\",\"size\":10,\"solidity\":0.2},\"type\":\"scatter\"}],\"parcoords\":[{\"type\":\"parcoords\",\"line\":{\"colorbar\":{\"outlinewidth\":0,\"ticks\":\"\"}}}],\"scatterpolargl\":[{\"type\":\"scatterpolargl\",\"marker\":{\"colorbar\":{\"outlinewidth\":0,\"ticks\":\"\"}}}],\"bar\":[{\"error_x\":{\"color\":\"#2a3f5f\"},\"error_y\":{\"color\":\"#2a3f5f\"},\"marker\":{\"line\":{\"color\":\"#E5ECF6\",\"width\":0.5},\"pattern\":{\"fillmode\":\"overlay\",\"size\":10,\"solidity\":0.2}},\"type\":\"bar\"}],\"scattergeo\":[{\"type\":\"scattergeo\",\"marker\":{\"colorbar\":{\"outlinewidth\":0,\"ticks\":\"\"}}}],\"scatterpolar\":[{\"type\":\"scatterpolar\",\"marker\":{\"colorbar\":{\"outlinewidth\":0,\"ticks\":\"\"}}}],\"histogram\":[{\"marker\":{\"pattern\":{\"fillmode\":\"overlay\",\"size\":10,\"solidity\":0.2}},\"type\":\"histogram\"}],\"scattergl\":[{\"type\":\"scattergl\",\"marker\":{\"colorbar\":{\"outlinewidth\":0,\"ticks\":\"\"}}}],\"scatter3d\":[{\"type\":\"scatter3d\",\"line\":{\"colorbar\":{\"outlinewidth\":0,\"ticks\":\"\"}},\"marker\":{\"colorbar\":{\"outlinewidth\":0,\"ticks\":\"\"}}}],\"scattermapbox\":[{\"type\":\"scattermapbox\",\"marker\":{\"colorbar\":{\"outlinewidth\":0,\"ticks\":\"\"}}}],\"scatterternary\":[{\"type\":\"scatterternary\",\"marker\":{\"colorbar\":{\"outlinewidth\":0,\"ticks\":\"\"}}}],\"scattercarpet\":[{\"type\":\"scattercarpet\",\"marker\":{\"colorbar\":{\"outlinewidth\":0,\"ticks\":\"\"}}}],\"carpet\":[{\"aaxis\":{\"endlinecolor\":\"#2a3f5f\",\"gridcolor\":\"white\",\"linecolor\":\"white\",\"minorgridcolor\":\"white\",\"startlinecolor\":\"#2a3f5f\"},\"baxis\":{\"endlinecolor\":\"#2a3f5f\",\"gridcolor\":\"white\",\"linecolor\":\"white\",\"minorgridcolor\":\"white\",\"startlinecolor\":\"#2a3f5f\"},\"type\":\"carpet\"}],\"table\":[{\"cells\":{\"fill\":{\"color\":\"#EBF0F8\"},\"line\":{\"color\":\"white\"}},\"header\":{\"fill\":{\"color\":\"#C8D4E3\"},\"line\":{\"color\":\"white\"}},\"type\":\"table\"}],\"barpolar\":[{\"marker\":{\"line\":{\"color\":\"#E5ECF6\",\"width\":0.5},\"pattern\":{\"fillmode\":\"overlay\",\"size\":10,\"solidity\":0.2}},\"type\":\"barpolar\"}],\"pie\":[{\"automargin\":true,\"type\":\"pie\"}]},\"layout\":{\"autotypenumbers\":\"strict\",\"colorway\":[\"#636efa\",\"#EF553B\",\"#00cc96\",\"#ab63fa\",\"#FFA15A\",\"#19d3f3\",\"#FF6692\",\"#B6E880\",\"#FF97FF\",\"#FECB52\"],\"font\":{\"color\":\"#2a3f5f\"},\"hovermode\":\"closest\",\"hoverlabel\":{\"align\":\"left\"},\"paper_bgcolor\":\"white\",\"plot_bgcolor\":\"#E5ECF6\",\"polar\":{\"bgcolor\":\"#E5ECF6\",\"angularaxis\":{\"gridcolor\":\"white\",\"linecolor\":\"white\",\"ticks\":\"\"},\"radialaxis\":{\"gridcolor\":\"white\",\"linecolor\":\"white\",\"ticks\":\"\"}},\"ternary\":{\"bgcolor\":\"#E5ECF6\",\"aaxis\":{\"gridcolor\":\"white\",\"linecolor\":\"white\",\"ticks\":\"\"},\"baxis\":{\"gridcolor\":\"white\",\"linecolor\":\"white\",\"ticks\":\"\"},\"caxis\":{\"gridcolor\":\"white\",\"linecolor\":\"white\",\"ticks\":\"\"}},\"coloraxis\":{\"colorbar\":{\"outlinewidth\":0,\"ticks\":\"\"}},\"colorscale\":{\"sequential\":[[0.0,\"#0d0887\"],[0.1111111111111111,\"#46039f\"],[0.2222222222222222,\"#7201a8\"],[0.3333333333333333,\"#9c179e\"],[0.4444444444444444,\"#bd3786\"],[0.5555555555555556,\"#d8576b\"],[0.6666666666666666,\"#ed7953\"],[0.7777777777777778,\"#fb9f3a\"],[0.8888888888888888,\"#fdca26\"],[1.0,\"#f0f921\"]],\"sequentialminus\":[[0.0,\"#0d0887\"],[0.1111111111111111,\"#46039f\"],[0.2222222222222222,\"#7201a8\"],[0.3333333333333333,\"#9c179e\"],[0.4444444444444444,\"#bd3786\"],[0.5555555555555556,\"#d8576b\"],[0.6666666666666666,\"#ed7953\"],[0.7777777777777778,\"#fb9f3a\"],[0.8888888888888888,\"#fdca26\"],[1.0,\"#f0f921\"]],\"diverging\":[[0,\"#8e0152\"],[0.1,\"#c51b7d\"],[0.2,\"#de77ae\"],[0.3,\"#f1b6da\"],[0.4,\"#fde0ef\"],[0.5,\"#f7f7f7\"],[0.6,\"#e6f5d0\"],[0.7,\"#b8e186\"],[0.8,\"#7fbc41\"],[0.9,\"#4d9221\"],[1,\"#276419\"]]},\"xaxis\":{\"gridcolor\":\"white\",\"linecolor\":\"white\",\"ticks\":\"\",\"title\":{\"standoff\":15},\"zerolinecolor\":\"white\",\"automargin\":true,\"zerolinewidth\":2},\"yaxis\":{\"gridcolor\":\"white\",\"linecolor\":\"white\",\"ticks\":\"\",\"title\":{\"standoff\":15},\"zerolinecolor\":\"white\",\"automargin\":true,\"zerolinewidth\":2},\"scene\":{\"xaxis\":{\"backgroundcolor\":\"#E5ECF6\",\"gridcolor\":\"white\",\"linecolor\":\"white\",\"showbackground\":true,\"ticks\":\"\",\"zerolinecolor\":\"white\",\"gridwidth\":2},\"yaxis\":{\"backgroundcolor\":\"#E5ECF6\",\"gridcolor\":\"white\",\"linecolor\":\"white\",\"showbackground\":true,\"ticks\":\"\",\"zerolinecolor\":\"white\",\"gridwidth\":2},\"zaxis\":{\"backgroundcolor\":\"#E5ECF6\",\"gridcolor\":\"white\",\"linecolor\":\"white\",\"showbackground\":true,\"ticks\":\"\",\"zerolinecolor\":\"white\",\"gridwidth\":2}},\"shapedefaults\":{\"line\":{\"color\":\"#2a3f5f\"}},\"annotationdefaults\":{\"arrowcolor\":\"#2a3f5f\",\"arrowhead\":0,\"arrowwidth\":1},\"geo\":{\"bgcolor\":\"white\",\"landcolor\":\"#E5ECF6\",\"subunitcolor\":\"white\",\"showland\":true,\"showlakes\":true,\"lakecolor\":\"white\"},\"title\":{\"x\":0.05},\"mapbox\":{\"style\":\"light\"}}},\"title\":{\"text\":\"GDP per Capita and Healthy Life Expectancy of Top 10 Countries\"},\"xaxis\":{\"title\":{\"text\":\"Country\"}},\"yaxis\":{\"title\":{\"text\":\"Values\"}},\"barmode\":\"group\"},                        {\"responsive\": true}                    ).then(function(){\n",
       "                            \n",
       "var gd = document.getElementById('0d0704d3-a284-4d66-b787-9b905d0a34f6');\n",
       "var x = new MutationObserver(function (mutations, observer) {{\n",
       "        var display = window.getComputedStyle(gd).display;\n",
       "        if (!display || display === 'none') {{\n",
       "            console.log([gd, 'removed!']);\n",
       "            Plotly.purge(gd);\n",
       "            observer.disconnect();\n",
       "        }}\n",
       "}});\n",
       "\n",
       "// Listen for the removal of the full notebook cells\n",
       "var notebookContainer = gd.closest('#notebook-container');\n",
       "if (notebookContainer) {{\n",
       "    x.observe(notebookContainer, {childList: true});\n",
       "}}\n",
       "\n",
       "// Listen for the clearing of the current output cell\n",
       "var outputEl = gd.closest('.output');\n",
       "if (outputEl) {{\n",
       "    x.observe(outputEl, {childList: true});\n",
       "}}\n",
       "\n",
       "                        })                };                });            </script>        </div>"
      ]
     },
     "metadata": {},
     "output_type": "display_data"
    }
   ],
   "source": [
    "# create a bar chart named fig1 to show the GDP per capita and Healthy Life Expectancy of these top 10 countries using plotly.\n",
    "\n",
    "# top 10 countries date\n",
    "top10\n",
    "\n",
    "# Create bar chart\n",
    "fig1 = go.Figure()\n",
    "\n",
    "# Add bars for GDP per Capita\n",
    "fig1.add_trace(go.Bar(\n",
    "    x=top10['Country'],\n",
    "    y=top10['Economy (GDP per Capita)'],\n",
    "    name='GDP per Capita (USD)',\n",
    "    marker_color='blue'\n",
    "))\n",
    "\n",
    "# Add bars for Healthy Life Expectancy\n",
    "fig1.add_trace(go.Bar(\n",
    "    x=top10['Country'],\n",
    "    y=top10['Health (Life Expectancy)'],\n",
    "    name='Healthy Life Expectancy (Years)',\n",
    "    marker_color='green'\n",
    "))\n",
    "\n",
    "# Update layout\n",
    "fig1.update_layout(\n",
    "    title='GDP per Capita and Healthy Life Expectancy of Top 10 Countries',\n",
    "    xaxis_title='Country',\n",
    "    yaxis_title='Values',\n",
    "    barmode='group'\n",
    ")\n",
    "\n",
    "# Show the plot\n",
    "fig1.show()"
   ]
  },
  {
   "cell_type": "code",
   "execution_count": 58,
   "id": "4c33a561",
   "metadata": {},
   "outputs": [
    {
     "data": {
      "text/html": [
       "<div>\n",
       "<style scoped>\n",
       "    .dataframe tbody tr th:only-of-type {\n",
       "        vertical-align: middle;\n",
       "    }\n",
       "\n",
       "    .dataframe tbody tr th {\n",
       "        vertical-align: top;\n",
       "    }\n",
       "\n",
       "    .dataframe thead th {\n",
       "        text-align: right;\n",
       "    }\n",
       "</style>\n",
       "<table border=\"1\" class=\"dataframe\">\n",
       "  <thead>\n",
       "    <tr style=\"text-align: right;\">\n",
       "      <th></th>\n",
       "      <th>Economy (GDP per Capita)</th>\n",
       "      <th>Family</th>\n",
       "      <th>Health (Life Expectancy)</th>\n",
       "      <th>Freedom</th>\n",
       "      <th>Trust (Government Corruption)</th>\n",
       "      <th>Generosity</th>\n",
       "      <th>Happiness Score</th>\n",
       "    </tr>\n",
       "  </thead>\n",
       "  <tbody>\n",
       "    <tr>\n",
       "      <th>35</th>\n",
       "      <td>1.82427</td>\n",
       "      <td>0.87964</td>\n",
       "      <td>0.71723</td>\n",
       "      <td>0.56679</td>\n",
       "      <td>0.48049</td>\n",
       "      <td>0.32388</td>\n",
       "      <td>6.375</td>\n",
       "    </tr>\n",
       "    <tr>\n",
       "      <th>19</th>\n",
       "      <td>1.69752</td>\n",
       "      <td>1.03999</td>\n",
       "      <td>0.84542</td>\n",
       "      <td>0.5487</td>\n",
       "      <td>0.35329</td>\n",
       "      <td>0.27571</td>\n",
       "      <td>6.871</td>\n",
       "    </tr>\n",
       "    <tr>\n",
       "      <th>21</th>\n",
       "      <td>1.64555</td>\n",
       "      <td>0.86758</td>\n",
       "      <td>0.94719</td>\n",
       "      <td>0.4877</td>\n",
       "      <td>0.46987</td>\n",
       "      <td>0.32706</td>\n",
       "      <td>6.739</td>\n",
       "    </tr>\n",
       "    <tr>\n",
       "      <th>40</th>\n",
       "      <td>1.61714</td>\n",
       "      <td>0.87758</td>\n",
       "      <td>0.63569</td>\n",
       "      <td>0.43166</td>\n",
       "      <td>0.23669</td>\n",
       "      <td>0.15965</td>\n",
       "      <td>6.239</td>\n",
       "    </tr>\n",
       "    <tr>\n",
       "      <th>3</th>\n",
       "      <td>1.57744</td>\n",
       "      <td>1.12690</td>\n",
       "      <td>0.79579</td>\n",
       "      <td>0.59609</td>\n",
       "      <td>0.35776</td>\n",
       "      <td>0.37895</td>\n",
       "      <td>7.498</td>\n",
       "    </tr>\n",
       "    <tr>\n",
       "      <th>...</th>\n",
       "      <td>...</td>\n",
       "      <td>...</td>\n",
       "      <td>...</td>\n",
       "      <td>...</td>\n",
       "      <td>...</td>\n",
       "      <td>...</td>\n",
       "      <td>...</td>\n",
       "    </tr>\n",
       "    <tr>\n",
       "      <th>149</th>\n",
       "      <td>0.10706</td>\n",
       "      <td>0.50353</td>\n",
       "      <td>0.23165</td>\n",
       "      <td>0.25748</td>\n",
       "      <td>0.04852</td>\n",
       "      <td>0.24063</td>\n",
       "      <td>3.622</td>\n",
       "    </tr>\n",
       "    <tr>\n",
       "      <th>131</th>\n",
       "      <td>0.08709</td>\n",
       "      <td>0.14700</td>\n",
       "      <td>0.29364</td>\n",
       "      <td>0.4143</td>\n",
       "      <td>0.07564</td>\n",
       "      <td>0.30968</td>\n",
       "      <td>4.156</td>\n",
       "    </tr>\n",
       "    <tr>\n",
       "      <th>156</th>\n",
       "      <td>0.06831</td>\n",
       "      <td>0.23442</td>\n",
       "      <td>0.15747</td>\n",
       "      <td>0.0432</td>\n",
       "      <td>0.09419</td>\n",
       "      <td>0.20290</td>\n",
       "      <td>2.905</td>\n",
       "    </tr>\n",
       "    <tr>\n",
       "      <th>124</th>\n",
       "      <td>0.05661</td>\n",
       "      <td>0.80676</td>\n",
       "      <td>0.18800</td>\n",
       "      <td>0.15602</td>\n",
       "      <td>0.06075</td>\n",
       "      <td>0.25458</td>\n",
       "      <td>4.272</td>\n",
       "    </tr>\n",
       "    <tr>\n",
       "      <th>75</th>\n",
       "      <td>0.00000</td>\n",
       "      <td>0.33613</td>\n",
       "      <td>0.11466</td>\n",
       "      <td>0.56778</td>\n",
       "      <td>0.31180</td>\n",
       "      <td>0.27225</td>\n",
       "      <td>5.440</td>\n",
       "    </tr>\n",
       "  </tbody>\n",
       "</table>\n",
       "<p>157 rows × 7 columns</p>\n",
       "</div>"
      ],
      "text/plain": [
       "     Economy (GDP per Capita)   Family  Health (Life Expectancy)  Freedom  \\\n",
       "35                    1.82427  0.87964                   0.71723  0.56679   \n",
       "19                    1.69752  1.03999                   0.84542   0.5487   \n",
       "21                    1.64555  0.86758                   0.94719   0.4877   \n",
       "40                    1.61714  0.87758                   0.63569  0.43166   \n",
       "3                     1.57744  1.12690                   0.79579  0.59609   \n",
       "..                        ...      ...                       ...      ...   \n",
       "149                   0.10706  0.50353                   0.23165  0.25748   \n",
       "131                   0.08709  0.14700                   0.29364   0.4143   \n",
       "156                   0.06831  0.23442                   0.15747   0.0432   \n",
       "124                   0.05661  0.80676                   0.18800  0.15602   \n",
       "75                    0.00000  0.33613                   0.11466  0.56778   \n",
       "\n",
       "     Trust (Government Corruption)  Generosity  Happiness Score  \n",
       "35                         0.48049     0.32388            6.375  \n",
       "19                         0.35329     0.27571            6.871  \n",
       "21                         0.46987     0.32706            6.739  \n",
       "40                         0.23669     0.15965            6.239  \n",
       "3                          0.35776     0.37895            7.498  \n",
       "..                             ...         ...              ...  \n",
       "149                        0.04852     0.24063            3.622  \n",
       "131                        0.07564     0.30968            4.156  \n",
       "156                        0.09419     0.20290            2.905  \n",
       "124                        0.06075     0.25458            4.272  \n",
       "75                         0.31180     0.27225            5.440  \n",
       "\n",
       "[157 rows x 7 columns]"
      ]
     },
     "execution_count": 58,
     "metadata": {},
     "output_type": "execute_result"
    }
   ],
   "source": [
    "# Here's the Python code that performs the requested actions:\n",
    "\n",
    "# Creates a sub-dataset including the specified attributes.\n",
    "\n",
    "# Finds the correlation between the attributes and visualizes it as a heatmap using Plotly.\n",
    "# ndex(['Country', 'Region', 'Happiness Rank', 'Happiness Score',\n",
    "#        'Lower Confidence Interval', 'Upper Confidence Interval',\n",
    "#        'Economy (GDP per Capita)', 'Family', 'Health (Life Expectancy)',\n",
    "#        'Freedom', 'Trust (Government Corruption)', 'Generosity',\n",
    "#        'Dystopia Residual'],\n",
    "\n",
    "sub_df = df_sorted[['Economy (GDP per Capita)', 'Family', 'Health (Life Expectancy)', 'Freedom',\n",
    "             'Trust (Government Corruption)', 'Generosity', 'Happiness Score']]\n",
    "sub_df\n",
    "\n",
    "\n"
   ]
  },
  {
   "cell_type": "code",
   "execution_count": 92,
   "id": "330daf51",
   "metadata": {},
   "outputs": [
    {
     "name": "stderr",
     "output_type": "stream",
     "text": [
      "C:\\Users\\Mohamed Asharf\\AppData\\Local\\Temp\\ipykernel_6960\\1921254369.py:2: FutureWarning:\n",
      "\n",
      "The default value of numeric_only in DataFrame.corr is deprecated. In a future version, it will default to False. Select only valid columns or specify the value of numeric_only to silence this warning.\n",
      "\n"
     ]
    },
    {
     "data": {
      "application/vnd.plotly.v1+json": {
       "config": {
        "plotlyServerURL": "https://plot.ly"
       },
       "data": [
        {
         "colorscale": [
          [
           0,
           "#440154"
          ],
          [
           0.1111111111111111,
           "#482878"
          ],
          [
           0.2222222222222222,
           "#3e4989"
          ],
          [
           0.3333333333333333,
           "#31688e"
          ],
          [
           0.4444444444444444,
           "#26828e"
          ],
          [
           0.5555555555555556,
           "#1f9e89"
          ],
          [
           0.6666666666666666,
           "#35b779"
          ],
          [
           0.7777777777777778,
           "#6ece58"
          ],
          [
           0.8888888888888888,
           "#b5de2b"
          ],
          [
           1,
           "#fde725"
          ]
         ],
         "type": "heatmap",
         "x": [
          "Economy (GDP per Capita)",
          "Family",
          "Health (Life Expectancy)",
          "Trust (Government Corruption)",
          "Generosity",
          "Happiness Score"
         ],
         "y": [
          "Economy (GDP per Capita)",
          "Family",
          "Health (Life Expectancy)",
          "Trust (Government Corruption)",
          "Generosity",
          "Happiness Score"
         ],
         "z": [
          [
           1,
           0.6689843017346228,
           0.825698554145606,
           0.28606889866987856,
           -0.0220718469788398,
           0.7896246889690567
          ],
          [
           0.6689843017346228,
           1,
           0.5861632619081769,
           0.2135609375719724,
           0.0896288529724406,
           0.7392515774070015
          ],
          [
           0.825698554145606,
           0.5861632619081769,
           1,
           0.2619278747408762,
           0.06976012664052969,
           0.7594712524031422
          ],
          [
           0.28606889866987856,
           0.2135609375719724,
           0.2619278747408762,
           1,
           0.3059298611912185,
           0.40203224514729224
          ],
          [
           -0.0220718469788398,
           0.0896288529724406,
           0.06976012664052969,
           0.3059298611912185,
           1,
           0.15684779640360746
          ],
          [
           0.7896246889690567,
           0.7392515774070015,
           0.7594712524031422,
           0.40203224514729224,
           0.15684779640360746,
           1
          ]
         ]
        }
       ],
       "layout": {
        "height": 700,
        "template": {
         "data": {
          "bar": [
           {
            "error_x": {
             "color": "#2a3f5f"
            },
            "error_y": {
             "color": "#2a3f5f"
            },
            "marker": {
             "line": {
              "color": "#E5ECF6",
              "width": 0.5
             },
             "pattern": {
              "fillmode": "overlay",
              "size": 10,
              "solidity": 0.2
             }
            },
            "type": "bar"
           }
          ],
          "barpolar": [
           {
            "marker": {
             "line": {
              "color": "#E5ECF6",
              "width": 0.5
             },
             "pattern": {
              "fillmode": "overlay",
              "size": 10,
              "solidity": 0.2
             }
            },
            "type": "barpolar"
           }
          ],
          "carpet": [
           {
            "aaxis": {
             "endlinecolor": "#2a3f5f",
             "gridcolor": "white",
             "linecolor": "white",
             "minorgridcolor": "white",
             "startlinecolor": "#2a3f5f"
            },
            "baxis": {
             "endlinecolor": "#2a3f5f",
             "gridcolor": "white",
             "linecolor": "white",
             "minorgridcolor": "white",
             "startlinecolor": "#2a3f5f"
            },
            "type": "carpet"
           }
          ],
          "choropleth": [
           {
            "colorbar": {
             "outlinewidth": 0,
             "ticks": ""
            },
            "type": "choropleth"
           }
          ],
          "contour": [
           {
            "colorbar": {
             "outlinewidth": 0,
             "ticks": ""
            },
            "colorscale": [
             [
              0,
              "#0d0887"
             ],
             [
              0.1111111111111111,
              "#46039f"
             ],
             [
              0.2222222222222222,
              "#7201a8"
             ],
             [
              0.3333333333333333,
              "#9c179e"
             ],
             [
              0.4444444444444444,
              "#bd3786"
             ],
             [
              0.5555555555555556,
              "#d8576b"
             ],
             [
              0.6666666666666666,
              "#ed7953"
             ],
             [
              0.7777777777777778,
              "#fb9f3a"
             ],
             [
              0.8888888888888888,
              "#fdca26"
             ],
             [
              1,
              "#f0f921"
             ]
            ],
            "type": "contour"
           }
          ],
          "contourcarpet": [
           {
            "colorbar": {
             "outlinewidth": 0,
             "ticks": ""
            },
            "type": "contourcarpet"
           }
          ],
          "heatmap": [
           {
            "colorbar": {
             "outlinewidth": 0,
             "ticks": ""
            },
            "colorscale": [
             [
              0,
              "#0d0887"
             ],
             [
              0.1111111111111111,
              "#46039f"
             ],
             [
              0.2222222222222222,
              "#7201a8"
             ],
             [
              0.3333333333333333,
              "#9c179e"
             ],
             [
              0.4444444444444444,
              "#bd3786"
             ],
             [
              0.5555555555555556,
              "#d8576b"
             ],
             [
              0.6666666666666666,
              "#ed7953"
             ],
             [
              0.7777777777777778,
              "#fb9f3a"
             ],
             [
              0.8888888888888888,
              "#fdca26"
             ],
             [
              1,
              "#f0f921"
             ]
            ],
            "type": "heatmap"
           }
          ],
          "heatmapgl": [
           {
            "colorbar": {
             "outlinewidth": 0,
             "ticks": ""
            },
            "colorscale": [
             [
              0,
              "#0d0887"
             ],
             [
              0.1111111111111111,
              "#46039f"
             ],
             [
              0.2222222222222222,
              "#7201a8"
             ],
             [
              0.3333333333333333,
              "#9c179e"
             ],
             [
              0.4444444444444444,
              "#bd3786"
             ],
             [
              0.5555555555555556,
              "#d8576b"
             ],
             [
              0.6666666666666666,
              "#ed7953"
             ],
             [
              0.7777777777777778,
              "#fb9f3a"
             ],
             [
              0.8888888888888888,
              "#fdca26"
             ],
             [
              1,
              "#f0f921"
             ]
            ],
            "type": "heatmapgl"
           }
          ],
          "histogram": [
           {
            "marker": {
             "pattern": {
              "fillmode": "overlay",
              "size": 10,
              "solidity": 0.2
             }
            },
            "type": "histogram"
           }
          ],
          "histogram2d": [
           {
            "colorbar": {
             "outlinewidth": 0,
             "ticks": ""
            },
            "colorscale": [
             [
              0,
              "#0d0887"
             ],
             [
              0.1111111111111111,
              "#46039f"
             ],
             [
              0.2222222222222222,
              "#7201a8"
             ],
             [
              0.3333333333333333,
              "#9c179e"
             ],
             [
              0.4444444444444444,
              "#bd3786"
             ],
             [
              0.5555555555555556,
              "#d8576b"
             ],
             [
              0.6666666666666666,
              "#ed7953"
             ],
             [
              0.7777777777777778,
              "#fb9f3a"
             ],
             [
              0.8888888888888888,
              "#fdca26"
             ],
             [
              1,
              "#f0f921"
             ]
            ],
            "type": "histogram2d"
           }
          ],
          "histogram2dcontour": [
           {
            "colorbar": {
             "outlinewidth": 0,
             "ticks": ""
            },
            "colorscale": [
             [
              0,
              "#0d0887"
             ],
             [
              0.1111111111111111,
              "#46039f"
             ],
             [
              0.2222222222222222,
              "#7201a8"
             ],
             [
              0.3333333333333333,
              "#9c179e"
             ],
             [
              0.4444444444444444,
              "#bd3786"
             ],
             [
              0.5555555555555556,
              "#d8576b"
             ],
             [
              0.6666666666666666,
              "#ed7953"
             ],
             [
              0.7777777777777778,
              "#fb9f3a"
             ],
             [
              0.8888888888888888,
              "#fdca26"
             ],
             [
              1,
              "#f0f921"
             ]
            ],
            "type": "histogram2dcontour"
           }
          ],
          "mesh3d": [
           {
            "colorbar": {
             "outlinewidth": 0,
             "ticks": ""
            },
            "type": "mesh3d"
           }
          ],
          "parcoords": [
           {
            "line": {
             "colorbar": {
              "outlinewidth": 0,
              "ticks": ""
             }
            },
            "type": "parcoords"
           }
          ],
          "pie": [
           {
            "automargin": true,
            "type": "pie"
           }
          ],
          "scatter": [
           {
            "fillpattern": {
             "fillmode": "overlay",
             "size": 10,
             "solidity": 0.2
            },
            "type": "scatter"
           }
          ],
          "scatter3d": [
           {
            "line": {
             "colorbar": {
              "outlinewidth": 0,
              "ticks": ""
             }
            },
            "marker": {
             "colorbar": {
              "outlinewidth": 0,
              "ticks": ""
             }
            },
            "type": "scatter3d"
           }
          ],
          "scattercarpet": [
           {
            "marker": {
             "colorbar": {
              "outlinewidth": 0,
              "ticks": ""
             }
            },
            "type": "scattercarpet"
           }
          ],
          "scattergeo": [
           {
            "marker": {
             "colorbar": {
              "outlinewidth": 0,
              "ticks": ""
             }
            },
            "type": "scattergeo"
           }
          ],
          "scattergl": [
           {
            "marker": {
             "colorbar": {
              "outlinewidth": 0,
              "ticks": ""
             }
            },
            "type": "scattergl"
           }
          ],
          "scattermapbox": [
           {
            "marker": {
             "colorbar": {
              "outlinewidth": 0,
              "ticks": ""
             }
            },
            "type": "scattermapbox"
           }
          ],
          "scatterpolar": [
           {
            "marker": {
             "colorbar": {
              "outlinewidth": 0,
              "ticks": ""
             }
            },
            "type": "scatterpolar"
           }
          ],
          "scatterpolargl": [
           {
            "marker": {
             "colorbar": {
              "outlinewidth": 0,
              "ticks": ""
             }
            },
            "type": "scatterpolargl"
           }
          ],
          "scatterternary": [
           {
            "marker": {
             "colorbar": {
              "outlinewidth": 0,
              "ticks": ""
             }
            },
            "type": "scatterternary"
           }
          ],
          "surface": [
           {
            "colorbar": {
             "outlinewidth": 0,
             "ticks": ""
            },
            "colorscale": [
             [
              0,
              "#0d0887"
             ],
             [
              0.1111111111111111,
              "#46039f"
             ],
             [
              0.2222222222222222,
              "#7201a8"
             ],
             [
              0.3333333333333333,
              "#9c179e"
             ],
             [
              0.4444444444444444,
              "#bd3786"
             ],
             [
              0.5555555555555556,
              "#d8576b"
             ],
             [
              0.6666666666666666,
              "#ed7953"
             ],
             [
              0.7777777777777778,
              "#fb9f3a"
             ],
             [
              0.8888888888888888,
              "#fdca26"
             ],
             [
              1,
              "#f0f921"
             ]
            ],
            "type": "surface"
           }
          ],
          "table": [
           {
            "cells": {
             "fill": {
              "color": "#EBF0F8"
             },
             "line": {
              "color": "white"
             }
            },
            "header": {
             "fill": {
              "color": "#C8D4E3"
             },
             "line": {
              "color": "white"
             }
            },
            "type": "table"
           }
          ]
         },
         "layout": {
          "annotationdefaults": {
           "arrowcolor": "#2a3f5f",
           "arrowhead": 0,
           "arrowwidth": 1
          },
          "autotypenumbers": "strict",
          "coloraxis": {
           "colorbar": {
            "outlinewidth": 0,
            "ticks": ""
           }
          },
          "colorscale": {
           "diverging": [
            [
             0,
             "#8e0152"
            ],
            [
             0.1,
             "#c51b7d"
            ],
            [
             0.2,
             "#de77ae"
            ],
            [
             0.3,
             "#f1b6da"
            ],
            [
             0.4,
             "#fde0ef"
            ],
            [
             0.5,
             "#f7f7f7"
            ],
            [
             0.6,
             "#e6f5d0"
            ],
            [
             0.7,
             "#b8e186"
            ],
            [
             0.8,
             "#7fbc41"
            ],
            [
             0.9,
             "#4d9221"
            ],
            [
             1,
             "#276419"
            ]
           ],
           "sequential": [
            [
             0,
             "#0d0887"
            ],
            [
             0.1111111111111111,
             "#46039f"
            ],
            [
             0.2222222222222222,
             "#7201a8"
            ],
            [
             0.3333333333333333,
             "#9c179e"
            ],
            [
             0.4444444444444444,
             "#bd3786"
            ],
            [
             0.5555555555555556,
             "#d8576b"
            ],
            [
             0.6666666666666666,
             "#ed7953"
            ],
            [
             0.7777777777777778,
             "#fb9f3a"
            ],
            [
             0.8888888888888888,
             "#fdca26"
            ],
            [
             1,
             "#f0f921"
            ]
           ],
           "sequentialminus": [
            [
             0,
             "#0d0887"
            ],
            [
             0.1111111111111111,
             "#46039f"
            ],
            [
             0.2222222222222222,
             "#7201a8"
            ],
            [
             0.3333333333333333,
             "#9c179e"
            ],
            [
             0.4444444444444444,
             "#bd3786"
            ],
            [
             0.5555555555555556,
             "#d8576b"
            ],
            [
             0.6666666666666666,
             "#ed7953"
            ],
            [
             0.7777777777777778,
             "#fb9f3a"
            ],
            [
             0.8888888888888888,
             "#fdca26"
            ],
            [
             1,
             "#f0f921"
            ]
           ]
          },
          "colorway": [
           "#636efa",
           "#EF553B",
           "#00cc96",
           "#ab63fa",
           "#FFA15A",
           "#19d3f3",
           "#FF6692",
           "#B6E880",
           "#FF97FF",
           "#FECB52"
          ],
          "font": {
           "color": "#2a3f5f"
          },
          "geo": {
           "bgcolor": "white",
           "lakecolor": "white",
           "landcolor": "#E5ECF6",
           "showlakes": true,
           "showland": true,
           "subunitcolor": "white"
          },
          "hoverlabel": {
           "align": "left"
          },
          "hovermode": "closest",
          "mapbox": {
           "style": "light"
          },
          "paper_bgcolor": "white",
          "plot_bgcolor": "#E5ECF6",
          "polar": {
           "angularaxis": {
            "gridcolor": "white",
            "linecolor": "white",
            "ticks": ""
           },
           "bgcolor": "#E5ECF6",
           "radialaxis": {
            "gridcolor": "white",
            "linecolor": "white",
            "ticks": ""
           }
          },
          "scene": {
           "xaxis": {
            "backgroundcolor": "#E5ECF6",
            "gridcolor": "white",
            "gridwidth": 2,
            "linecolor": "white",
            "showbackground": true,
            "ticks": "",
            "zerolinecolor": "white"
           },
           "yaxis": {
            "backgroundcolor": "#E5ECF6",
            "gridcolor": "white",
            "gridwidth": 2,
            "linecolor": "white",
            "showbackground": true,
            "ticks": "",
            "zerolinecolor": "white"
           },
           "zaxis": {
            "backgroundcolor": "#E5ECF6",
            "gridcolor": "white",
            "gridwidth": 2,
            "linecolor": "white",
            "showbackground": true,
            "ticks": "",
            "zerolinecolor": "white"
           }
          },
          "shapedefaults": {
           "line": {
            "color": "#2a3f5f"
           }
          },
          "ternary": {
           "aaxis": {
            "gridcolor": "white",
            "linecolor": "white",
            "ticks": ""
           },
           "baxis": {
            "gridcolor": "white",
            "linecolor": "white",
            "ticks": ""
           },
           "bgcolor": "#E5ECF6",
           "caxis": {
            "gridcolor": "white",
            "linecolor": "white",
            "ticks": ""
           }
          },
          "title": {
           "x": 0.05
          },
          "xaxis": {
           "automargin": true,
           "gridcolor": "white",
           "linecolor": "white",
           "ticks": "",
           "title": {
            "standoff": 15
           },
           "zerolinecolor": "white",
           "zerolinewidth": 2
          },
          "yaxis": {
           "automargin": true,
           "gridcolor": "white",
           "linecolor": "white",
           "ticks": "",
           "title": {
            "standoff": 15
           },
           "zerolinecolor": "white",
           "zerolinewidth": 2
          }
         }
        },
        "title": {
         "text": "Correlation Heatmap of Selected Attributes"
        },
        "width": 950,
        "xaxis": {
         "title": {
          "text": "Attributes"
         }
        },
        "yaxis": {
         "title": {
          "text": "Attributes"
         }
        }
       }
      },
      "text/html": [
       "<div>                            <div id=\"d41d1ae4-3302-4c0f-8b8f-cc316e63eb61\" class=\"plotly-graph-div\" style=\"height:700px; width:950px;\"></div>            <script type=\"text/javascript\">                require([\"plotly\"], function(Plotly) {                    window.PLOTLYENV=window.PLOTLYENV || {};                                    if (document.getElementById(\"d41d1ae4-3302-4c0f-8b8f-cc316e63eb61\")) {                    Plotly.newPlot(                        \"d41d1ae4-3302-4c0f-8b8f-cc316e63eb61\",                        [{\"colorscale\":[[0.0,\"#440154\"],[0.1111111111111111,\"#482878\"],[0.2222222222222222,\"#3e4989\"],[0.3333333333333333,\"#31688e\"],[0.4444444444444444,\"#26828e\"],[0.5555555555555556,\"#1f9e89\"],[0.6666666666666666,\"#35b779\"],[0.7777777777777778,\"#6ece58\"],[0.8888888888888888,\"#b5de2b\"],[1.0,\"#fde725\"]],\"x\":[\"Economy (GDP per Capita)\",\"Family\",\"Health (Life Expectancy)\",\"Trust (Government Corruption)\",\"Generosity\",\"Happiness Score\"],\"y\":[\"Economy (GDP per Capita)\",\"Family\",\"Health (Life Expectancy)\",\"Trust (Government Corruption)\",\"Generosity\",\"Happiness Score\"],\"z\":[[1.0,0.6689843017346228,0.825698554145606,0.28606889866987856,-0.0220718469788398,0.7896246889690567],[0.6689843017346228,1.0,0.5861632619081769,0.2135609375719724,0.0896288529724406,0.7392515774070015],[0.825698554145606,0.5861632619081769,1.0,0.2619278747408762,0.06976012664052969,0.7594712524031422],[0.28606889866987856,0.2135609375719724,0.2619278747408762,1.0,0.3059298611912185,0.40203224514729224],[-0.0220718469788398,0.0896288529724406,0.06976012664052969,0.3059298611912185,1.0,0.15684779640360746],[0.7896246889690567,0.7392515774070015,0.7594712524031422,0.40203224514729224,0.15684779640360746,1.0]],\"type\":\"heatmap\"}],                        {\"template\":{\"data\":{\"histogram2dcontour\":[{\"type\":\"histogram2dcontour\",\"colorbar\":{\"outlinewidth\":0,\"ticks\":\"\"},\"colorscale\":[[0.0,\"#0d0887\"],[0.1111111111111111,\"#46039f\"],[0.2222222222222222,\"#7201a8\"],[0.3333333333333333,\"#9c179e\"],[0.4444444444444444,\"#bd3786\"],[0.5555555555555556,\"#d8576b\"],[0.6666666666666666,\"#ed7953\"],[0.7777777777777778,\"#fb9f3a\"],[0.8888888888888888,\"#fdca26\"],[1.0,\"#f0f921\"]]}],\"choropleth\":[{\"type\":\"choropleth\",\"colorbar\":{\"outlinewidth\":0,\"ticks\":\"\"}}],\"histogram2d\":[{\"type\":\"histogram2d\",\"colorbar\":{\"outlinewidth\":0,\"ticks\":\"\"},\"colorscale\":[[0.0,\"#0d0887\"],[0.1111111111111111,\"#46039f\"],[0.2222222222222222,\"#7201a8\"],[0.3333333333333333,\"#9c179e\"],[0.4444444444444444,\"#bd3786\"],[0.5555555555555556,\"#d8576b\"],[0.6666666666666666,\"#ed7953\"],[0.7777777777777778,\"#fb9f3a\"],[0.8888888888888888,\"#fdca26\"],[1.0,\"#f0f921\"]]}],\"heatmap\":[{\"type\":\"heatmap\",\"colorbar\":{\"outlinewidth\":0,\"ticks\":\"\"},\"colorscale\":[[0.0,\"#0d0887\"],[0.1111111111111111,\"#46039f\"],[0.2222222222222222,\"#7201a8\"],[0.3333333333333333,\"#9c179e\"],[0.4444444444444444,\"#bd3786\"],[0.5555555555555556,\"#d8576b\"],[0.6666666666666666,\"#ed7953\"],[0.7777777777777778,\"#fb9f3a\"],[0.8888888888888888,\"#fdca26\"],[1.0,\"#f0f921\"]]}],\"heatmapgl\":[{\"type\":\"heatmapgl\",\"colorbar\":{\"outlinewidth\":0,\"ticks\":\"\"},\"colorscale\":[[0.0,\"#0d0887\"],[0.1111111111111111,\"#46039f\"],[0.2222222222222222,\"#7201a8\"],[0.3333333333333333,\"#9c179e\"],[0.4444444444444444,\"#bd3786\"],[0.5555555555555556,\"#d8576b\"],[0.6666666666666666,\"#ed7953\"],[0.7777777777777778,\"#fb9f3a\"],[0.8888888888888888,\"#fdca26\"],[1.0,\"#f0f921\"]]}],\"contourcarpet\":[{\"type\":\"contourcarpet\",\"colorbar\":{\"outlinewidth\":0,\"ticks\":\"\"}}],\"contour\":[{\"type\":\"contour\",\"colorbar\":{\"outlinewidth\":0,\"ticks\":\"\"},\"colorscale\":[[0.0,\"#0d0887\"],[0.1111111111111111,\"#46039f\"],[0.2222222222222222,\"#7201a8\"],[0.3333333333333333,\"#9c179e\"],[0.4444444444444444,\"#bd3786\"],[0.5555555555555556,\"#d8576b\"],[0.6666666666666666,\"#ed7953\"],[0.7777777777777778,\"#fb9f3a\"],[0.8888888888888888,\"#fdca26\"],[1.0,\"#f0f921\"]]}],\"surface\":[{\"type\":\"surface\",\"colorbar\":{\"outlinewidth\":0,\"ticks\":\"\"},\"colorscale\":[[0.0,\"#0d0887\"],[0.1111111111111111,\"#46039f\"],[0.2222222222222222,\"#7201a8\"],[0.3333333333333333,\"#9c179e\"],[0.4444444444444444,\"#bd3786\"],[0.5555555555555556,\"#d8576b\"],[0.6666666666666666,\"#ed7953\"],[0.7777777777777778,\"#fb9f3a\"],[0.8888888888888888,\"#fdca26\"],[1.0,\"#f0f921\"]]}],\"mesh3d\":[{\"type\":\"mesh3d\",\"colorbar\":{\"outlinewidth\":0,\"ticks\":\"\"}}],\"scatter\":[{\"fillpattern\":{\"fillmode\":\"overlay\",\"size\":10,\"solidity\":0.2},\"type\":\"scatter\"}],\"parcoords\":[{\"type\":\"parcoords\",\"line\":{\"colorbar\":{\"outlinewidth\":0,\"ticks\":\"\"}}}],\"scatterpolargl\":[{\"type\":\"scatterpolargl\",\"marker\":{\"colorbar\":{\"outlinewidth\":0,\"ticks\":\"\"}}}],\"bar\":[{\"error_x\":{\"color\":\"#2a3f5f\"},\"error_y\":{\"color\":\"#2a3f5f\"},\"marker\":{\"line\":{\"color\":\"#E5ECF6\",\"width\":0.5},\"pattern\":{\"fillmode\":\"overlay\",\"size\":10,\"solidity\":0.2}},\"type\":\"bar\"}],\"scattergeo\":[{\"type\":\"scattergeo\",\"marker\":{\"colorbar\":{\"outlinewidth\":0,\"ticks\":\"\"}}}],\"scatterpolar\":[{\"type\":\"scatterpolar\",\"marker\":{\"colorbar\":{\"outlinewidth\":0,\"ticks\":\"\"}}}],\"histogram\":[{\"marker\":{\"pattern\":{\"fillmode\":\"overlay\",\"size\":10,\"solidity\":0.2}},\"type\":\"histogram\"}],\"scattergl\":[{\"type\":\"scattergl\",\"marker\":{\"colorbar\":{\"outlinewidth\":0,\"ticks\":\"\"}}}],\"scatter3d\":[{\"type\":\"scatter3d\",\"line\":{\"colorbar\":{\"outlinewidth\":0,\"ticks\":\"\"}},\"marker\":{\"colorbar\":{\"outlinewidth\":0,\"ticks\":\"\"}}}],\"scattermapbox\":[{\"type\":\"scattermapbox\",\"marker\":{\"colorbar\":{\"outlinewidth\":0,\"ticks\":\"\"}}}],\"scatterternary\":[{\"type\":\"scatterternary\",\"marker\":{\"colorbar\":{\"outlinewidth\":0,\"ticks\":\"\"}}}],\"scattercarpet\":[{\"type\":\"scattercarpet\",\"marker\":{\"colorbar\":{\"outlinewidth\":0,\"ticks\":\"\"}}}],\"carpet\":[{\"aaxis\":{\"endlinecolor\":\"#2a3f5f\",\"gridcolor\":\"white\",\"linecolor\":\"white\",\"minorgridcolor\":\"white\",\"startlinecolor\":\"#2a3f5f\"},\"baxis\":{\"endlinecolor\":\"#2a3f5f\",\"gridcolor\":\"white\",\"linecolor\":\"white\",\"minorgridcolor\":\"white\",\"startlinecolor\":\"#2a3f5f\"},\"type\":\"carpet\"}],\"table\":[{\"cells\":{\"fill\":{\"color\":\"#EBF0F8\"},\"line\":{\"color\":\"white\"}},\"header\":{\"fill\":{\"color\":\"#C8D4E3\"},\"line\":{\"color\":\"white\"}},\"type\":\"table\"}],\"barpolar\":[{\"marker\":{\"line\":{\"color\":\"#E5ECF6\",\"width\":0.5},\"pattern\":{\"fillmode\":\"overlay\",\"size\":10,\"solidity\":0.2}},\"type\":\"barpolar\"}],\"pie\":[{\"automargin\":true,\"type\":\"pie\"}]},\"layout\":{\"autotypenumbers\":\"strict\",\"colorway\":[\"#636efa\",\"#EF553B\",\"#00cc96\",\"#ab63fa\",\"#FFA15A\",\"#19d3f3\",\"#FF6692\",\"#B6E880\",\"#FF97FF\",\"#FECB52\"],\"font\":{\"color\":\"#2a3f5f\"},\"hovermode\":\"closest\",\"hoverlabel\":{\"align\":\"left\"},\"paper_bgcolor\":\"white\",\"plot_bgcolor\":\"#E5ECF6\",\"polar\":{\"bgcolor\":\"#E5ECF6\",\"angularaxis\":{\"gridcolor\":\"white\",\"linecolor\":\"white\",\"ticks\":\"\"},\"radialaxis\":{\"gridcolor\":\"white\",\"linecolor\":\"white\",\"ticks\":\"\"}},\"ternary\":{\"bgcolor\":\"#E5ECF6\",\"aaxis\":{\"gridcolor\":\"white\",\"linecolor\":\"white\",\"ticks\":\"\"},\"baxis\":{\"gridcolor\":\"white\",\"linecolor\":\"white\",\"ticks\":\"\"},\"caxis\":{\"gridcolor\":\"white\",\"linecolor\":\"white\",\"ticks\":\"\"}},\"coloraxis\":{\"colorbar\":{\"outlinewidth\":0,\"ticks\":\"\"}},\"colorscale\":{\"sequential\":[[0.0,\"#0d0887\"],[0.1111111111111111,\"#46039f\"],[0.2222222222222222,\"#7201a8\"],[0.3333333333333333,\"#9c179e\"],[0.4444444444444444,\"#bd3786\"],[0.5555555555555556,\"#d8576b\"],[0.6666666666666666,\"#ed7953\"],[0.7777777777777778,\"#fb9f3a\"],[0.8888888888888888,\"#fdca26\"],[1.0,\"#f0f921\"]],\"sequentialminus\":[[0.0,\"#0d0887\"],[0.1111111111111111,\"#46039f\"],[0.2222222222222222,\"#7201a8\"],[0.3333333333333333,\"#9c179e\"],[0.4444444444444444,\"#bd3786\"],[0.5555555555555556,\"#d8576b\"],[0.6666666666666666,\"#ed7953\"],[0.7777777777777778,\"#fb9f3a\"],[0.8888888888888888,\"#fdca26\"],[1.0,\"#f0f921\"]],\"diverging\":[[0,\"#8e0152\"],[0.1,\"#c51b7d\"],[0.2,\"#de77ae\"],[0.3,\"#f1b6da\"],[0.4,\"#fde0ef\"],[0.5,\"#f7f7f7\"],[0.6,\"#e6f5d0\"],[0.7,\"#b8e186\"],[0.8,\"#7fbc41\"],[0.9,\"#4d9221\"],[1,\"#276419\"]]},\"xaxis\":{\"gridcolor\":\"white\",\"linecolor\":\"white\",\"ticks\":\"\",\"title\":{\"standoff\":15},\"zerolinecolor\":\"white\",\"automargin\":true,\"zerolinewidth\":2},\"yaxis\":{\"gridcolor\":\"white\",\"linecolor\":\"white\",\"ticks\":\"\",\"title\":{\"standoff\":15},\"zerolinecolor\":\"white\",\"automargin\":true,\"zerolinewidth\":2},\"scene\":{\"xaxis\":{\"backgroundcolor\":\"#E5ECF6\",\"gridcolor\":\"white\",\"linecolor\":\"white\",\"showbackground\":true,\"ticks\":\"\",\"zerolinecolor\":\"white\",\"gridwidth\":2},\"yaxis\":{\"backgroundcolor\":\"#E5ECF6\",\"gridcolor\":\"white\",\"linecolor\":\"white\",\"showbackground\":true,\"ticks\":\"\",\"zerolinecolor\":\"white\",\"gridwidth\":2},\"zaxis\":{\"backgroundcolor\":\"#E5ECF6\",\"gridcolor\":\"white\",\"linecolor\":\"white\",\"showbackground\":true,\"ticks\":\"\",\"zerolinecolor\":\"white\",\"gridwidth\":2}},\"shapedefaults\":{\"line\":{\"color\":\"#2a3f5f\"}},\"annotationdefaults\":{\"arrowcolor\":\"#2a3f5f\",\"arrowhead\":0,\"arrowwidth\":1},\"geo\":{\"bgcolor\":\"white\",\"landcolor\":\"#E5ECF6\",\"subunitcolor\":\"white\",\"showland\":true,\"showlakes\":true,\"lakecolor\":\"white\"},\"title\":{\"x\":0.05},\"mapbox\":{\"style\":\"light\"}}},\"title\":{\"text\":\"Correlation Heatmap of Selected Attributes\"},\"xaxis\":{\"title\":{\"text\":\"Attributes\"}},\"yaxis\":{\"title\":{\"text\":\"Attributes\"}},\"width\":950,\"height\":700},                        {\"responsive\": true}                    ).then(function(){\n",
       "                            \n",
       "var gd = document.getElementById('d41d1ae4-3302-4c0f-8b8f-cc316e63eb61');\n",
       "var x = new MutationObserver(function (mutations, observer) {{\n",
       "        var display = window.getComputedStyle(gd).display;\n",
       "        if (!display || display === 'none') {{\n",
       "            console.log([gd, 'removed!']);\n",
       "            Plotly.purge(gd);\n",
       "            observer.disconnect();\n",
       "        }}\n",
       "}});\n",
       "\n",
       "// Listen for the removal of the full notebook cells\n",
       "var notebookContainer = gd.closest('#notebook-container');\n",
       "if (notebookContainer) {{\n",
       "    x.observe(notebookContainer, {childList: true});\n",
       "}}\n",
       "\n",
       "// Listen for the clearing of the current output cell\n",
       "var outputEl = gd.closest('.output');\n",
       "if (outputEl) {{\n",
       "    x.observe(outputEl, {childList: true});\n",
       "}}\n",
       "\n",
       "                        })                };                });            </script>        </div>"
      ]
     },
     "metadata": {},
     "output_type": "display_data"
    }
   ],
   "source": [
    "# 2. Find the correlation between the attributes\n",
    "corr_matrix = sub_df.corr() # Create a heatmap\n",
    "\n",
    "fig2 = go.Figure(data=go.Heatmap( z=corr_matrix.values,\n",
    "                                 x=corr_matrix.columns, \n",
    "                                 y=corr_matrix.index, \n",
    "                                 colorscale='Viridis' )) \n",
    "# Update layout\n",
    "fig2.update_layout( title='Correlation Heatmap of Selected Attributes',\n",
    "                   xaxis_title='Attributes', \n",
    "                   yaxis_title='Attributes',\n",
    "                  \n",
    "                   width=950, height=700 ) \n",
    "# Show the heatmap \n",
    "fig2.show()"
   ]
  },
  {
   "cell_type": "code",
   "execution_count": 63,
   "id": "cbf4d077",
   "metadata": {},
   "outputs": [
    {
     "data": {
      "text/plain": [
       "Text(0.5, 1.0, 'Correlation Heatmap')"
      ]
     },
     "execution_count": 63,
     "metadata": {},
     "output_type": "execute_result"
    },
    {
     "data": {
      "image/png": "[encoded data removed]",
      "text/plain": [
       "<Figure size 1400x1000 with 2 Axes>"
      ]
     },
     "metadata": {},
     "output_type": "display_data"
    }
   ],
   "source": [
    "# create heatmap from correlation matrix to know which feature effect of the SalePrive for the buliding.\n",
    "correlation_matric=sub_df.corr(numeric_only=True)\n",
    "fig2_1 = plt.figure(figsize=(14,10))\n",
    "sns.heatmap(correlation_matric,annot=True,cmap=\"coolwarm\",fmt=\".2f\" )\n",
    "plt.title('Correlation Heatmap')# annot=true to add correlation values in the heatmap "
   ]
  },
  {
   "cell_type": "code",
   "execution_count": 66,
   "id": "a3eeb155",
   "metadata": {},
   "outputs": [
    {
     "data": {
      "application/vnd.plotly.v1+json": {
       "config": {
        "plotlyServerURL": "https://plot.ly"
       },
       "data": [
        {
         "hovertemplate": "<b>%{hovertext}</b><br><br>Region=Middle East and Northern Africa<br>Happiness Score=%{x}<br>GDP per Capita=%{y}<extra></extra>",
         "hovertext": [
          "Qatar",
          "Kuwait",
          "United Arab Emirates",
          "Saudi Arabia",
          "Israel",
          "Turkey",
          "Lebanon",
          "Iran",
          "Iraq",
          "Libya",
          "Algeria",
          "Jordan",
          "Tunisia",
          "Egypt",
          "Bahrain",
          "Morocco",
          "Syria",
          "Palestinian Territories",
          "Yemen"
         ],
         "legendgroup": "Middle East and Northern Africa",
         "marker": {
          "color": "#636efa",
          "symbol": "circle"
         },
         "mode": "markers",
         "name": "Middle East and Northern Africa",
         "orientation": "v",
         "showlegend": true,
         "type": "scatter",
         "x": [
          6.375,
          6.239,
          6.573,
          6.379,
          7.267,
          5.389,
          5.129,
          4.813,
          4.575,
          5.615,
          6.355,
          5.303,
          5.045,
          4.362,
          6.218,
          5.151,
          3.069,
          4.754,
          3.724
         ],
         "xaxis": "x",
         "y": [
          1.82427,
          1.61714,
          1.57352,
          1.48953,
          1.33766,
          1.16492,
          1.12268,
          1.11758,
          1.07474,
          1.06688,
          1.05266,
          0.99673,
          0.97724,
          0.95395,
          0.951772064516129,
          0.84058,
          0.74719,
          0.67024,
          0.57939
         ],
         "yaxis": "y"
        },
        {
         "hovertemplate": "<b>%{hovertext}</b><br><br>Region=Western Europe<br>Happiness Score=%{x}<br>GDP per Capita=%{y}<extra></extra>",
         "hovertext": [
          "Luxembourg",
          "Norway",
          "Switzerland",
          "Ireland",
          "Netherlands",
          "Sweden",
          "Austria",
          "Germany",
          "Denmark",
          "Iceland",
          "Belgium",
          "Finland",
          "United Kingdom",
          "France",
          "Italy",
          "Spain",
          "Cyprus",
          "North Cyprus",
          "Malta",
          "Portugal",
          "Greece"
         ],
         "legendgroup": "Western Europe",
         "marker": {
          "color": "#EF553B",
          "symbol": "circle"
         },
         "mode": "markers",
         "name": "Western Europe",
         "orientation": "v",
         "showlegend": true,
         "type": "scatter",
         "x": [
          6.871,
          7.498,
          7.509,
          6.907,
          7.339,
          7.291,
          7.119,
          6.994,
          7.526,
          7.501,
          6.929,
          7.413,
          6.725,
          6.478,
          5.977,
          6.361,
          5.546,
          5.771,
          6.488,
          5.123,
          5.033
         ],
         "xaxis": "x",
         "y": [
          1.69752,
          1.57744,
          1.52733,
          1.48341,
          1.46468,
          1.45181,
          1.45038,
          1.44787,
          1.44178,
          1.42666,
          1.42539,
          1.40598,
          1.40283,
          1.39488,
          1.35495,
          1.34253,
          1.31857,
          1.31141,
          1.30782,
          1.27607,
          1.24886
         ],
         "yaxis": "y"
        },
        {
         "hovertemplate": "<b>%{hovertext}</b><br><br>Region=Southeastern Asia<br>Happiness Score=%{x}<br>GDP per Capita=%{y}<extra></extra>",
         "hovertext": [
          "Singapore",
          "Malaysia",
          "Thailand",
          "Indonesia",
          "Philippines",
          "Vietnam",
          "Laos",
          "Cambodia",
          "Myanmar"
         ],
         "legendgroup": "Southeastern Asia",
         "marker": {
          "color": "#00cc96",
          "symbol": "circle"
         },
         "mode": "markers",
         "name": "Southeastern Asia",
         "orientation": "v",
         "showlegend": true,
         "type": "scatter",
         "x": [
          6.739,
          6.005,
          6.474,
          5.314,
          5.279,
          5.061,
          4.876,
          3.907,
          4.395
         ],
         "xaxis": "x",
         "y": [
          1.64555,
          1.25142,
          1.0893,
          0.95104,
          0.81217,
          0.74037,
          0.68042,
          0.55604,
          0.34112
         ],
         "yaxis": "y"
        },
        {
         "hovertemplate": "<b>%{hovertext}</b><br><br>Region=Eastern Asia<br>Happiness Score=%{x}<br>GDP per Capita=%{y}<extra></extra>",
         "hovertext": [
          "Hong Kong",
          "Taiwan",
          "Japan",
          "South Korea",
          "China",
          "Mongolia"
         ],
         "legendgroup": "Eastern Asia",
         "marker": {
          "color": "#ab63fa",
          "symbol": "circle"
         },
         "mode": "markers",
         "name": "Eastern Asia",
         "orientation": "v",
         "showlegend": true,
         "type": "scatter",
         "x": [
          5.458,
          6.379,
          5.921,
          5.835,
          5.245,
          4.907
         ],
         "xaxis": "x",
         "y": [
          1.5107,
          1.39729,
          1.38007,
          1.35948,
          1.0278,
          0.98853
         ],
         "yaxis": "y"
        },
        {
         "hovertemplate": "<b>%{hovertext}</b><br><br>Region=North America<br>Happiness Score=%{x}<br>GDP per Capita=%{y}<extra></extra>",
         "hovertext": [
          "United States",
          "Canada"
         ],
         "legendgroup": "North America",
         "marker": {
          "color": "#FFA15A",
          "symbol": "circle"
         },
         "mode": "markers",
         "name": "North America",
         "orientation": "v",
         "showlegend": true,
         "type": "scatter",
         "x": [
          7.104,
          7.404
         ],
         "xaxis": "x",
         "y": [
          1.50796,
          1.44015
         ],
         "yaxis": "y"
        },
        {
         "hovertemplate": "<b>%{hovertext}</b><br><br>Region=Australia and New Zealand<br>Happiness Score=%{x}<br>GDP per Capita=%{y}<extra></extra>",
         "hovertext": [
          "Australia",
          "New Zealand"
         ],
         "legendgroup": "Australia and New Zealand",
         "marker": {
          "color": "#19d3f3",
          "symbol": "circle"
         },
         "mode": "markers",
         "name": "Australia and New Zealand",
         "orientation": "v",
         "showlegend": true,
         "type": "scatter",
         "x": [
          7.313,
          7.334
         ],
         "xaxis": "x",
         "y": [
          1.44443,
          1.36066
         ],
         "yaxis": "y"
        },
        {
         "hovertemplate": "<b>%{hovertext}</b><br><br>Region=Latin America and Caribbean<br>Happiness Score=%{x}<br>GDP per Capita=%{y}<extra></extra>",
         "hovertext": [
          "Puerto Rico",
          "Trinidad and Tobago",
          "Chile",
          "Panama",
          "Uruguay",
          "Argentina",
          "Venezuela",
          "Mexico",
          "Suriname",
          "Brazil",
          "Costa Rica",
          "Colombia",
          "Dominican Republic",
          "Peru",
          "Ecuador",
          "Bolivia",
          "Paraguay",
          "Jamaica",
          "Belize",
          "El Salvador",
          "Guatemala",
          "Honduras",
          "Nicaragua",
          "Haiti"
         ],
         "legendgroup": "Latin America and Caribbean",
         "marker": {
          "color": "#FF6692",
          "symbol": "circle"
         },
         "mode": "markers",
         "name": "Latin America and Caribbean",
         "orientation": "v",
         "showlegend": true,
         "type": "scatter",
         "x": [
          7.039,
          6.168,
          6.705,
          6.701,
          6.545,
          6.65,
          6.084,
          6.778,
          6.269,
          6.952,
          7.087,
          6.481,
          5.155,
          5.743,
          5.976,
          5.822,
          5.538,
          5.51,
          5.956,
          6.068,
          6.324,
          4.871,
          5.992,
          4.028
         ],
         "xaxis": "x",
         "y": [
          1.35943,
          1.32572,
          1.2167,
          1.18306,
          1.18157,
          1.15137,
          1.13367,
          1.11508,
          1.09686,
          1.08754,
          1.06879,
          1.03032,
          1.02787,
          0.99602,
          0.97306,
          0.951772064516129,
          0.89373,
          0.89333,
          0.87616,
          0.8737,
          0.83454,
          0.69429,
          0.69384,
          0.34097
         ],
         "yaxis": "y"
        },
        {
         "hovertemplate": "<b>%{hovertext}</b><br><br>Region=Central and Eastern Europe<br>Happiness Score=%{x}<br>GDP per Capita=%{y}<extra></extra>",
         "hovertext": [
          "Czech Republic",
          "Slovenia",
          "Slovakia",
          "Estonia",
          "Lithuania",
          "Poland",
          "Hungary",
          "Russia",
          "Kazakhstan",
          "Latvia",
          "Croatia",
          "Romania",
          "Belarus",
          "Azerbaijan",
          "Bulgaria",
          "Turkmenistan",
          "Montenegro",
          "Serbia",
          "Macedonia",
          "Albania",
          "Bosnia and Herzegovina",
          "Kosovo",
          "Ukraine",
          "Armenia",
          "Georgia",
          "Uzbekistan",
          "Moldova",
          "Kyrgyzstan",
          "Tajikistan"
         ],
         "legendgroup": "Central and Eastern Europe",
         "marker": {
          "color": "#B6E880",
          "symbol": "circle"
         },
         "mode": "markers",
         "name": "Central and Eastern Europe",
         "orientation": "v",
         "showlegend": true,
         "type": "scatter",
         "x": [
          6.596,
          5.768,
          6.078,
          5.517,
          5.813,
          5.835,
          5.145,
          5.856,
          5.919,
          5.56,
          5.488,
          5.528,
          5.802,
          5.291,
          4.217,
          5.658,
          5.161,
          5.177,
          5.121,
          4.655,
          5.163,
          5.401,
          4.324,
          4.36,
          4.252,
          5.987,
          5.897,
          5.185,
          4.996
         ],
         "xaxis": "x",
         "y": [
          1.30915,
          1.29947,
          1.27973,
          1.27964,
          1.2692,
          1.24585,
          1.24142,
          1.23228,
          1.22943,
          1.21788,
          1.18649,
          1.1697,
          1.13062,
          1.12373,
          1.11306,
          1.08017,
          1.07838,
          1.03437,
          1.0193,
          0.9553,
          0.93383,
          0.90145,
          0.87287,
          0.86086,
          0.83792,
          0.73591,
          0.69177,
          0.56044,
          0.48835
         ],
         "yaxis": "y"
        },
        {
         "hovertemplate": "<b>%{hovertext}</b><br><br>Region=Sub-Saharan Africa<br>Happiness Score=%{x}<br>GDP per Capita=%{y}<extra></extra>",
         "hovertext": [
          "Gabon",
          "Mauritius",
          "Botswana",
          "South Africa",
          "Namibia",
          "Angola",
          "Congo (Brazzaville)",
          "Nigeria",
          "Ghana",
          "Sudan",
          "Mauritania",
          "Zambia",
          "Ivory Coast",
          "Cameroon",
          "Kenya",
          "Tanzania",
          "Senegal",
          "Chad",
          "Benin",
          "South Sudan",
          "Sierra Leone",
          "Zimbabwe",
          "Uganda",
          "Rwanda",
          "Burkina Faso",
          "Mali",
          "Ethiopia",
          "Togo",
          "Madagascar",
          "Comoros",
          "Somaliland Region",
          "Guinea",
          "Niger",
          "Liberia",
          "Malawi",
          "Burundi",
          "Congo (Kinshasa)",
          "Somalia"
         ],
         "legendgroup": "Sub-Saharan Africa",
         "marker": {
          "color": "#FF97FF",
          "symbol": "circle"
         },
         "mode": "markers",
         "name": "Sub-Saharan Africa",
         "orientation": "v",
         "showlegend": true,
         "type": "scatter",
         "x": [
          4.121,
          5.648,
          3.974,
          4.459,
          4.574,
          3.866,
          4.236,
          4.875,
          4.276,
          4.139,
          4.201,
          4.795,
          3.916,
          4.513,
          4.356,
          3.666,
          4.219,
          3.763,
          3.484,
          3.832,
          4.635,
          4.193,
          3.739,
          3.515,
          3.739,
          4.073,
          4.508,
          3.303,
          3.695,
          3.956,
          5.057,
          3.607,
          3.856,
          3.622,
          4.156,
          2.905,
          4.272,
          5.44
         ],
         "xaxis": "x",
         "y": [
          1.15851,
          1.14372,
          1.09426,
          1.02416,
          0.93287,
          0.84731,
          0.77109,
          0.75216,
          0.63107,
          0.63069,
          0.61391,
          0.61202,
          0.55507,
          0.52497,
          0.52267,
          0.47155,
          0.44314,
          0.42214,
          0.39499,
          0.39394,
          0.36485,
          0.35041,
          0.34719,
          0.32846,
          0.31995,
          0.31292,
          0.29283,
          0.28123,
          0.27954,
          0.27509,
          0.25558,
          0.22415,
          0.1327,
          0.10706,
          0.08709,
          0.06831,
          0.05661,
          0
         ],
         "yaxis": "y"
        },
        {
         "hovertemplate": "<b>%{hovertext}</b><br><br>Region=Southern Asia<br>Happiness Score=%{x}<br>GDP per Capita=%{y}<extra></extra>",
         "hovertext": [
          "Sri Lanka",
          "Bhutan",
          "India",
          "Pakistan",
          "Bangladesh",
          "Nepal",
          "Afghanistan"
         ],
         "legendgroup": "Southern Asia",
         "marker": {
          "color": "#FECB52",
          "symbol": "circle"
         },
         "mode": "markers",
         "name": "Southern Asia",
         "orientation": "v",
         "showlegend": true,
         "type": "scatter",
         "x": [
          4.415,
          5.196,
          4.404,
          5.132,
          4.643,
          4.793,
          3.36
         ],
         "xaxis": "x",
         "y": [
          0.97318,
          0.8527,
          0.74036,
          0.68816,
          0.54177,
          0.44626,
          0.38227
         ],
         "yaxis": "y"
        }
       ],
       "layout": {
        "legend": {
         "title": {
          "text": "Region"
         },
         "tracegroupgap": 0
        },
        "template": {
         "data": {
          "bar": [
           {
            "error_x": {
             "color": "#2a3f5f"
            },
            "error_y": {
             "color": "#2a3f5f"
            },
            "marker": {
             "line": {
              "color": "#E5ECF6",
              "width": 0.5
             },
             "pattern": {
              "fillmode": "overlay",
              "size": 10,
              "solidity": 0.2
             }
            },
            "type": "bar"
           }
          ],
          "barpolar": [
           {
            "marker": {
             "line": {
              "color": "#E5ECF6",
              "width": 0.5
             },
             "pattern": {
              "fillmode": "overlay",
              "size": 10,
              "solidity": 0.2
             }
            },
            "type": "barpolar"
           }
          ],
          "carpet": [
           {
            "aaxis": {
             "endlinecolor": "#2a3f5f",
             "gridcolor": "white",
             "linecolor": "white",
             "minorgridcolor": "white",
             "startlinecolor": "#2a3f5f"
            },
            "baxis": {
             "endlinecolor": "#2a3f5f",
             "gridcolor": "white",
             "linecolor": "white",
             "minorgridcolor": "white",
             "startlinecolor": "#2a3f5f"
            },
            "type": "carpet"
           }
          ],
          "choropleth": [
           {
            "colorbar": {
             "outlinewidth": 0,
             "ticks": ""
            },
            "type": "choropleth"
           }
          ],
          "contour": [
           {
            "colorbar": {
             "outlinewidth": 0,
             "ticks": ""
            },
            "colorscale": [
             [
              0,
              "#0d0887"
             ],
             [
              0.1111111111111111,
              "#46039f"
             ],
             [
              0.2222222222222222,
              "#7201a8"
             ],
             [
              0.3333333333333333,
              "#9c179e"
             ],
             [
              0.4444444444444444,
              "#bd3786"
             ],
             [
              0.5555555555555556,
              "#d8576b"
             ],
             [
              0.6666666666666666,
              "#ed7953"
             ],
             [
              0.7777777777777778,
              "#fb9f3a"
             ],
             [
              0.8888888888888888,
              "#fdca26"
             ],
             [
              1,
              "#f0f921"
             ]
            ],
            "type": "contour"
           }
          ],
          "contourcarpet": [
           {
            "colorbar": {
             "outlinewidth": 0,
             "ticks": ""
            },
            "type": "contourcarpet"
           }
          ],
          "heatmap": [
           {
            "colorbar": {
             "outlinewidth": 0,
             "ticks": ""
            },
            "colorscale": [
             [
              0,
              "#0d0887"
             ],
             [
              0.1111111111111111,
              "#46039f"
             ],
             [
              0.2222222222222222,
              "#7201a8"
             ],
             [
              0.3333333333333333,
              "#9c179e"
             ],
             [
              0.4444444444444444,
              "#bd3786"
             ],
             [
              0.5555555555555556,
              "#d8576b"
             ],
             [
              0.6666666666666666,
              "#ed7953"
             ],
             [
              0.7777777777777778,
              "#fb9f3a"
             ],
             [
              0.8888888888888888,
              "#fdca26"
             ],
             [
              1,
              "#f0f921"
             ]
            ],
            "type": "heatmap"
           }
          ],
          "heatmapgl": [
           {
            "colorbar": {
             "outlinewidth": 0,
             "ticks": ""
            },
            "colorscale": [
             [
              0,
              "#0d0887"
             ],
             [
              0.1111111111111111,
              "#46039f"
             ],
             [
              0.2222222222222222,
              "#7201a8"
             ],
             [
              0.3333333333333333,
              "#9c179e"
             ],
             [
              0.4444444444444444,
              "#bd3786"
             ],
             [
              0.5555555555555556,
              "#d8576b"
             ],
             [
              0.6666666666666666,
              "#ed7953"
             ],
             [
              0.7777777777777778,
              "#fb9f3a"
             ],
             [
              0.8888888888888888,
              "#fdca26"
             ],
             [
              1,
              "#f0f921"
             ]
            ],
            "type": "heatmapgl"
           }
          ],
          "histogram": [
           {
            "marker": {
             "pattern": {
              "fillmode": "overlay",
              "size": 10,
              "solidity": 0.2
             }
            },
            "type": "histogram"
           }
          ],
          "histogram2d": [
           {
            "colorbar": {
             "outlinewidth": 0,
             "ticks": ""
            },
            "colorscale": [
             [
              0,
              "#0d0887"
             ],
             [
              0.1111111111111111,
              "#46039f"
             ],
             [
              0.2222222222222222,
              "#7201a8"
             ],
             [
              0.3333333333333333,
              "#9c179e"
             ],
             [
              0.4444444444444444,
              "#bd3786"
             ],
             [
              0.5555555555555556,
              "#d8576b"
             ],
             [
              0.6666666666666666,
              "#ed7953"
             ],
             [
              0.7777777777777778,
              "#fb9f3a"
             ],
             [
              0.8888888888888888,
              "#fdca26"
             ],
             [
              1,
              "#f0f921"
             ]
            ],
            "type": "histogram2d"
           }
          ],
          "histogram2dcontour": [
           {
            "colorbar": {
             "outlinewidth": 0,
             "ticks": ""
            },
            "colorscale": [
             [
              0,
              "#0d0887"
             ],
             [
              0.1111111111111111,
              "#46039f"
             ],
             [
              0.2222222222222222,
              "#7201a8"
             ],
             [
              0.3333333333333333,
              "#9c179e"
             ],
             [
              0.4444444444444444,
              "#bd3786"
             ],
             [
              0.5555555555555556,
              "#d8576b"
             ],
             [
              0.6666666666666666,
              "#ed7953"
             ],
             [
              0.7777777777777778,
              "#fb9f3a"
             ],
             [
              0.8888888888888888,
              "#fdca26"
             ],
             [
              1,
              "#f0f921"
             ]
            ],
            "type": "histogram2dcontour"
           }
          ],
          "mesh3d": [
           {
            "colorbar": {
             "outlinewidth": 0,
             "ticks": ""
            },
            "type": "mesh3d"
           }
          ],
          "parcoords": [
           {
            "line": {
             "colorbar": {
              "outlinewidth": 0,
              "ticks": ""
             }
            },
            "type": "parcoords"
           }
          ],
          "pie": [
           {
            "automargin": true,
            "type": "pie"
           }
          ],
          "scatter": [
           {
            "fillpattern": {
             "fillmode": "overlay",
             "size": 10,
             "solidity": 0.2
            },
            "type": "scatter"
           }
          ],
          "scatter3d": [
           {
            "line": {
             "colorbar": {
              "outlinewidth": 0,
              "ticks": ""
             }
            },
            "marker": {
             "colorbar": {
              "outlinewidth": 0,
              "ticks": ""
             }
            },
            "type": "scatter3d"
           }
          ],
          "scattercarpet": [
           {
            "marker": {
             "colorbar": {
              "outlinewidth": 0,
              "ticks": ""
             }
            },
            "type": "scattercarpet"
           }
          ],
          "scattergeo": [
           {
            "marker": {
             "colorbar": {
              "outlinewidth": 0,
              "ticks": ""
             }
            },
            "type": "scattergeo"
           }
          ],
          "scattergl": [
           {
            "marker": {
             "colorbar": {
              "outlinewidth": 0,
              "ticks": ""
             }
            },
            "type": "scattergl"
           }
          ],
          "scattermapbox": [
           {
            "marker": {
             "colorbar": {
              "outlinewidth": 0,
              "ticks": ""
             }
            },
            "type": "scattermapbox"
           }
          ],
          "scatterpolar": [
           {
            "marker": {
             "colorbar": {
              "outlinewidth": 0,
              "ticks": ""
             }
            },
            "type": "scatterpolar"
           }
          ],
          "scatterpolargl": [
           {
            "marker": {
             "colorbar": {
              "outlinewidth": 0,
              "ticks": ""
             }
            },
            "type": "scatterpolargl"
           }
          ],
          "scatterternary": [
           {
            "marker": {
             "colorbar": {
              "outlinewidth": 0,
              "ticks": ""
             }
            },
            "type": "scatterternary"
           }
          ],
          "surface": [
           {
            "colorbar": {
             "outlinewidth": 0,
             "ticks": ""
            },
            "colorscale": [
             [
              0,
              "#0d0887"
             ],
             [
              0.1111111111111111,
              "#46039f"
             ],
             [
              0.2222222222222222,
              "#7201a8"
             ],
             [
              0.3333333333333333,
              "#9c179e"
             ],
             [
              0.4444444444444444,
              "#bd3786"
             ],
             [
              0.5555555555555556,
              "#d8576b"
             ],
             [
              0.6666666666666666,
              "#ed7953"
             ],
             [
              0.7777777777777778,
              "#fb9f3a"
             ],
             [
              0.8888888888888888,
              "#fdca26"
             ],
             [
              1,
              "#f0f921"
             ]
            ],
            "type": "surface"
           }
          ],
          "table": [
           {
            "cells": {
             "fill": {
              "color": "#EBF0F8"
             },
             "line": {
              "color": "white"
             }
            },
            "header": {
             "fill": {
              "color": "#C8D4E3"
             },
             "line": {
              "color": "white"
             }
            },
            "type": "table"
           }
          ]
         },
         "layout": {
          "annotationdefaults": {
           "arrowcolor": "#2a3f5f",
           "arrowhead": 0,
           "arrowwidth": 1
          },
          "autotypenumbers": "strict",
          "coloraxis": {
           "colorbar": {
            "outlinewidth": 0,
            "ticks": ""
           }
          },
          "colorscale": {
           "diverging": [
            [
             0,
             "#8e0152"
            ],
            [
             0.1,
             "#c51b7d"
            ],
            [
             0.2,
             "#de77ae"
            ],
            [
             0.3,
             "#f1b6da"
            ],
            [
             0.4,
             "#fde0ef"
            ],
            [
             0.5,
             "#f7f7f7"
            ],
            [
             0.6,
             "#e6f5d0"
            ],
            [
             0.7,
             "#b8e186"
            ],
            [
             0.8,
             "#7fbc41"
            ],
            [
             0.9,
             "#4d9221"
            ],
            [
             1,
             "#276419"
            ]
           ],
           "sequential": [
            [
             0,
             "#0d0887"
            ],
            [
             0.1111111111111111,
             "#46039f"
            ],
            [
             0.2222222222222222,
             "#7201a8"
            ],
            [
             0.3333333333333333,
             "#9c179e"
            ],
            [
             0.4444444444444444,
             "#bd3786"
            ],
            [
             0.5555555555555556,
             "#d8576b"
            ],
            [
             0.6666666666666666,
             "#ed7953"
            ],
            [
             0.7777777777777778,
             "#fb9f3a"
            ],
            [
             0.8888888888888888,
             "#fdca26"
            ],
            [
             1,
             "#f0f921"
            ]
           ],
           "sequentialminus": [
            [
             0,
             "#0d0887"
            ],
            [
             0.1111111111111111,
             "#46039f"
            ],
            [
             0.2222222222222222,
             "#7201a8"
            ],
            [
             0.3333333333333333,
             "#9c179e"
            ],
            [
             0.4444444444444444,
             "#bd3786"
            ],
            [
             0.5555555555555556,
             "#d8576b"
            ],
            [
             0.6666666666666666,
             "#ed7953"
            ],
            [
             0.7777777777777778,
             "#fb9f3a"
            ],
            [
             0.8888888888888888,
             "#fdca26"
            ],
            [
             1,
             "#f0f921"
            ]
           ]
          },
          "colorway": [
           "#636efa",
           "#EF553B",
           "#00cc96",
           "#ab63fa",
           "#FFA15A",
           "#19d3f3",
           "#FF6692",
           "#B6E880",
           "#FF97FF",
           "#FECB52"
          ],
          "font": {
           "color": "#2a3f5f"
          },
          "geo": {
           "bgcolor": "white",
           "lakecolor": "white",
           "landcolor": "#E5ECF6",
           "showlakes": true,
           "showland": true,
           "subunitcolor": "white"
          },
          "hoverlabel": {
           "align": "left"
          },
          "hovermode": "closest",
          "mapbox": {
           "style": "light"
          },
          "paper_bgcolor": "white",
          "plot_bgcolor": "#E5ECF6",
          "polar": {
           "angularaxis": {
            "gridcolor": "white",
            "linecolor": "white",
            "ticks": ""
           },
           "bgcolor": "#E5ECF6",
           "radialaxis": {
            "gridcolor": "white",
            "linecolor": "white",
            "ticks": ""
           }
          },
          "scene": {
           "xaxis": {
            "backgroundcolor": "#E5ECF6",
            "gridcolor": "white",
            "gridwidth": 2,
            "linecolor": "white",
            "showbackground": true,
            "ticks": "",
            "zerolinecolor": "white"
           },
           "yaxis": {
            "backgroundcolor": "#E5ECF6",
            "gridcolor": "white",
            "gridwidth": 2,
            "linecolor": "white",
            "showbackground": true,
            "ticks": "",
            "zerolinecolor": "white"
           },
           "zaxis": {
            "backgroundcolor": "#E5ECF6",
            "gridcolor": "white",
            "gridwidth": 2,
            "linecolor": "white",
            "showbackground": true,
            "ticks": "",
            "zerolinecolor": "white"
           }
          },
          "shapedefaults": {
           "line": {
            "color": "#2a3f5f"
           }
          },
          "ternary": {
           "aaxis": {
            "gridcolor": "white",
            "linecolor": "white",
            "ticks": ""
           },
           "baxis": {
            "gridcolor": "white",
            "linecolor": "white",
            "ticks": ""
           },
           "bgcolor": "#E5ECF6",
           "caxis": {
            "gridcolor": "white",
            "linecolor": "white",
            "ticks": ""
           }
          },
          "title": {
           "x": 0.05
          },
          "xaxis": {
           "automargin": true,
           "gridcolor": "white",
           "linecolor": "white",
           "ticks": "",
           "title": {
            "standoff": 15
           },
           "zerolinecolor": "white",
           "zerolinewidth": 2
          },
          "yaxis": {
           "automargin": true,
           "gridcolor": "white",
           "linecolor": "white",
           "ticks": "",
           "title": {
            "standoff": 15
           },
           "zerolinecolor": "white",
           "zerolinewidth": 2
          }
         }
        },
        "title": {
         "text": "Happiness Score vs GDP per Capita by Region"
        },
        "xaxis": {
         "anchor": "y",
         "domain": [
          0,
          1
         ],
         "title": {
          "text": "Happiness Score"
         }
        },
        "yaxis": {
         "anchor": "x",
         "domain": [
          0,
          1
         ],
         "title": {
          "text": "GDP per Capita"
         }
        }
       }
      },
      "text/html": [
       "<div>                            <div id=\"b2664952-159b-4b20-84ed-9e75274c9b25\" class=\"plotly-graph-div\" style=\"height:525px; width:100%;\"></div>            <script type=\"text/javascript\">                require([\"plotly\"], function(Plotly) {                    window.PLOTLYENV=window.PLOTLYENV || {};                                    if (document.getElementById(\"b2664952-159b-4b20-84ed-9e75274c9b25\")) {                    Plotly.newPlot(                        \"b2664952-159b-4b20-84ed-9e75274c9b25\",                        [{\"hovertemplate\":\"<b>%{hovertext}</b><br><br>Region=Middle East and Northern Africa<br>Happiness Score=%{x}<br>GDP per Capita=%{y}<extra></extra>\",\"hovertext\":[\"Qatar\",\"Kuwait\",\"United Arab Emirates\",\"Saudi Arabia\",\"Israel\",\"Turkey\",\"Lebanon\",\"Iran\",\"Iraq\",\"Libya\",\"Algeria\",\"Jordan\",\"Tunisia\",\"Egypt\",\"Bahrain\",\"Morocco\",\"Syria\",\"Palestinian Territories\",\"Yemen\"],\"legendgroup\":\"Middle East and Northern Africa\",\"marker\":{\"color\":\"#636efa\",\"symbol\":\"circle\"},\"mode\":\"markers\",\"name\":\"Middle East and Northern Africa\",\"orientation\":\"v\",\"showlegend\":true,\"x\":[6.375,6.239,6.573,6.379,7.267,5.389,5.129,4.813,4.575,5.615,6.355,5.303,5.045,4.362,6.218,5.151,3.069,4.754,3.724],\"xaxis\":\"x\",\"y\":[1.82427,1.61714,1.57352,1.48953,1.33766,1.16492,1.12268,1.11758,1.07474,1.06688,1.05266,0.99673,0.97724,0.95395,0.951772064516129,0.84058,0.74719,0.67024,0.57939],\"yaxis\":\"y\",\"type\":\"scatter\"},{\"hovertemplate\":\"<b>%{hovertext}</b><br><br>Region=Western Europe<br>Happiness Score=%{x}<br>GDP per Capita=%{y}<extra></extra>\",\"hovertext\":[\"Luxembourg\",\"Norway\",\"Switzerland\",\"Ireland\",\"Netherlands\",\"Sweden\",\"Austria\",\"Germany\",\"Denmark\",\"Iceland\",\"Belgium\",\"Finland\",\"United Kingdom\",\"France\",\"Italy\",\"Spain\",\"Cyprus\",\"North Cyprus\",\"Malta\",\"Portugal\",\"Greece\"],\"legendgroup\":\"Western Europe\",\"marker\":{\"color\":\"#EF553B\",\"symbol\":\"circle\"},\"mode\":\"markers\",\"name\":\"Western Europe\",\"orientation\":\"v\",\"showlegend\":true,\"x\":[6.871,7.498,7.509,6.907,7.339,7.291,7.119,6.994,7.526,7.501,6.929,7.413,6.725,6.478,5.977,6.361,5.546,5.771,6.488,5.123,5.033],\"xaxis\":\"x\",\"y\":[1.69752,1.57744,1.52733,1.48341,1.46468,1.45181,1.45038,1.44787,1.44178,1.42666,1.42539,1.40598,1.40283,1.39488,1.35495,1.34253,1.31857,1.31141,1.30782,1.27607,1.24886],\"yaxis\":\"y\",\"type\":\"scatter\"},{\"hovertemplate\":\"<b>%{hovertext}</b><br><br>Region=Southeastern Asia<br>Happiness Score=%{x}<br>GDP per Capita=%{y}<extra></extra>\",\"hovertext\":[\"Singapore\",\"Malaysia\",\"Thailand\",\"Indonesia\",\"Philippines\",\"Vietnam\",\"Laos\",\"Cambodia\",\"Myanmar\"],\"legendgroup\":\"Southeastern Asia\",\"marker\":{\"color\":\"#00cc96\",\"symbol\":\"circle\"},\"mode\":\"markers\",\"name\":\"Southeastern Asia\",\"orientation\":\"v\",\"showlegend\":true,\"x\":[6.739,6.005,6.474,5.314,5.279,5.061,4.876,3.907,4.395],\"xaxis\":\"x\",\"y\":[1.64555,1.25142,1.0893,0.95104,0.81217,0.74037,0.68042,0.55604,0.34112],\"yaxis\":\"y\",\"type\":\"scatter\"},{\"hovertemplate\":\"<b>%{hovertext}</b><br><br>Region=Eastern Asia<br>Happiness Score=%{x}<br>GDP per Capita=%{y}<extra></extra>\",\"hovertext\":[\"Hong Kong\",\"Taiwan\",\"Japan\",\"South Korea\",\"China\",\"Mongolia\"],\"legendgroup\":\"Eastern Asia\",\"marker\":{\"color\":\"#ab63fa\",\"symbol\":\"circle\"},\"mode\":\"markers\",\"name\":\"Eastern Asia\",\"orientation\":\"v\",\"showlegend\":true,\"x\":[5.458,6.379,5.921,5.835,5.245,4.907],\"xaxis\":\"x\",\"y\":[1.5107,1.39729,1.38007,1.35948,1.0278,0.98853],\"yaxis\":\"y\",\"type\":\"scatter\"},{\"hovertemplate\":\"<b>%{hovertext}</b><br><br>Region=North America<br>Happiness Score=%{x}<br>GDP per Capita=%{y}<extra></extra>\",\"hovertext\":[\"United States\",\"Canada\"],\"legendgroup\":\"North America\",\"marker\":{\"color\":\"#FFA15A\",\"symbol\":\"circle\"},\"mode\":\"markers\",\"name\":\"North America\",\"orientation\":\"v\",\"showlegend\":true,\"x\":[7.104,7.404],\"xaxis\":\"x\",\"y\":[1.50796,1.44015],\"yaxis\":\"y\",\"type\":\"scatter\"},{\"hovertemplate\":\"<b>%{hovertext}</b><br><br>Region=Australia and New Zealand<br>Happiness Score=%{x}<br>GDP per Capita=%{y}<extra></extra>\",\"hovertext\":[\"Australia\",\"New Zealand\"],\"legendgroup\":\"Australia and New Zealand\",\"marker\":{\"color\":\"#19d3f3\",\"symbol\":\"circle\"},\"mode\":\"markers\",\"name\":\"Australia and New Zealand\",\"orientation\":\"v\",\"showlegend\":true,\"x\":[7.313,7.334],\"xaxis\":\"x\",\"y\":[1.44443,1.36066],\"yaxis\":\"y\",\"type\":\"scatter\"},{\"hovertemplate\":\"<b>%{hovertext}</b><br><br>Region=Latin America and Caribbean<br>Happiness Score=%{x}<br>GDP per Capita=%{y}<extra></extra>\",\"hovertext\":[\"Puerto Rico\",\"Trinidad and Tobago\",\"Chile\",\"Panama\",\"Uruguay\",\"Argentina\",\"Venezuela\",\"Mexico\",\"Suriname\",\"Brazil\",\"Costa Rica\",\"Colombia\",\"Dominican Republic\",\"Peru\",\"Ecuador\",\"Bolivia\",\"Paraguay\",\"Jamaica\",\"Belize\",\"El Salvador\",\"Guatemala\",\"Honduras\",\"Nicaragua\",\"Haiti\"],\"legendgroup\":\"Latin America and Caribbean\",\"marker\":{\"color\":\"#FF6692\",\"symbol\":\"circle\"},\"mode\":\"markers\",\"name\":\"Latin America and Caribbean\",\"orientation\":\"v\",\"showlegend\":true,\"x\":[7.039,6.168,6.705,6.701,6.545,6.65,6.084,6.778,6.269,6.952,7.087,6.481,5.155,5.743,5.976,5.822,5.538,5.51,5.956,6.068,6.324,4.871,5.992,4.028],\"xaxis\":\"x\",\"y\":[1.35943,1.32572,1.2167,1.18306,1.18157,1.15137,1.13367,1.11508,1.09686,1.08754,1.06879,1.03032,1.02787,0.99602,0.97306,0.951772064516129,0.89373,0.89333,0.87616,0.8737,0.83454,0.69429,0.69384,0.34097],\"yaxis\":\"y\",\"type\":\"scatter\"},{\"hovertemplate\":\"<b>%{hovertext}</b><br><br>Region=Central and Eastern Europe<br>Happiness Score=%{x}<br>GDP per Capita=%{y}<extra></extra>\",\"hovertext\":[\"Czech Republic\",\"Slovenia\",\"Slovakia\",\"Estonia\",\"Lithuania\",\"Poland\",\"Hungary\",\"Russia\",\"Kazakhstan\",\"Latvia\",\"Croatia\",\"Romania\",\"Belarus\",\"Azerbaijan\",\"Bulgaria\",\"Turkmenistan\",\"Montenegro\",\"Serbia\",\"Macedonia\",\"Albania\",\"Bosnia and Herzegovina\",\"Kosovo\",\"Ukraine\",\"Armenia\",\"Georgia\",\"Uzbekistan\",\"Moldova\",\"Kyrgyzstan\",\"Tajikistan\"],\"legendgroup\":\"Central and Eastern Europe\",\"marker\":{\"color\":\"#B6E880\",\"symbol\":\"circle\"},\"mode\":\"markers\",\"name\":\"Central and Eastern Europe\",\"orientation\":\"v\",\"showlegend\":true,\"x\":[6.596,5.768,6.078,5.517,5.813,5.835,5.145,5.856,5.919,5.56,5.488,5.528,5.802,5.291,4.217,5.658,5.161,5.177,5.121,4.655,5.163,5.401,4.324,4.36,4.252,5.987,5.897,5.185,4.996],\"xaxis\":\"x\",\"y\":[1.30915,1.29947,1.27973,1.27964,1.2692,1.24585,1.24142,1.23228,1.22943,1.21788,1.18649,1.1697,1.13062,1.12373,1.11306,1.08017,1.07838,1.03437,1.0193,0.9553,0.93383,0.90145,0.87287,0.86086,0.83792,0.73591,0.69177,0.56044,0.48835],\"yaxis\":\"y\",\"type\":\"scatter\"},{\"hovertemplate\":\"<b>%{hovertext}</b><br><br>Region=Sub-Saharan Africa<br>Happiness Score=%{x}<br>GDP per Capita=%{y}<extra></extra>\",\"hovertext\":[\"Gabon\",\"Mauritius\",\"Botswana\",\"South Africa\",\"Namibia\",\"Angola\",\"Congo (Brazzaville)\",\"Nigeria\",\"Ghana\",\"Sudan\",\"Mauritania\",\"Zambia\",\"Ivory Coast\",\"Cameroon\",\"Kenya\",\"Tanzania\",\"Senegal\",\"Chad\",\"Benin\",\"South Sudan\",\"Sierra Leone\",\"Zimbabwe\",\"Uganda\",\"Rwanda\",\"Burkina Faso\",\"Mali\",\"Ethiopia\",\"Togo\",\"Madagascar\",\"Comoros\",\"Somaliland Region\",\"Guinea\",\"Niger\",\"Liberia\",\"Malawi\",\"Burundi\",\"Congo (Kinshasa)\",\"Somalia\"],\"legendgroup\":\"Sub-Saharan Africa\",\"marker\":{\"color\":\"#FF97FF\",\"symbol\":\"circle\"},\"mode\":\"markers\",\"name\":\"Sub-Saharan Africa\",\"orientation\":\"v\",\"showlegend\":true,\"x\":[4.121,5.648,3.974,4.459,4.574,3.866,4.236,4.875,4.276,4.139,4.201,4.795,3.916,4.513,4.356,3.666,4.219,3.763,3.484,3.832,4.635,4.193,3.739,3.515,3.739,4.073,4.508,3.303,3.695,3.956,5.057,3.607,3.856,3.622,4.156,2.905,4.272,5.44],\"xaxis\":\"x\",\"y\":[1.15851,1.14372,1.09426,1.02416,0.93287,0.84731,0.77109,0.75216,0.63107,0.63069,0.61391,0.61202,0.55507,0.52497,0.52267,0.47155,0.44314,0.42214,0.39499,0.39394,0.36485,0.35041,0.34719,0.32846,0.31995,0.31292,0.29283,0.28123,0.27954,0.27509,0.25558,0.22415,0.1327,0.10706,0.08709,0.06831,0.05661,0.0],\"yaxis\":\"y\",\"type\":\"scatter\"},{\"hovertemplate\":\"<b>%{hovertext}</b><br><br>Region=Southern Asia<br>Happiness Score=%{x}<br>GDP per Capita=%{y}<extra></extra>\",\"hovertext\":[\"Sri Lanka\",\"Bhutan\",\"India\",\"Pakistan\",\"Bangladesh\",\"Nepal\",\"Afghanistan\"],\"legendgroup\":\"Southern Asia\",\"marker\":{\"color\":\"#FECB52\",\"symbol\":\"circle\"},\"mode\":\"markers\",\"name\":\"Southern Asia\",\"orientation\":\"v\",\"showlegend\":true,\"x\":[4.415,5.196,4.404,5.132,4.643,4.793,3.36],\"xaxis\":\"x\",\"y\":[0.97318,0.8527,0.74036,0.68816,0.54177,0.44626,0.38227],\"yaxis\":\"y\",\"type\":\"scatter\"}],                        {\"template\":{\"data\":{\"histogram2dcontour\":[{\"type\":\"histogram2dcontour\",\"colorbar\":{\"outlinewidth\":0,\"ticks\":\"\"},\"colorscale\":[[0.0,\"#0d0887\"],[0.1111111111111111,\"#46039f\"],[0.2222222222222222,\"#7201a8\"],[0.3333333333333333,\"#9c179e\"],[0.4444444444444444,\"#bd3786\"],[0.5555555555555556,\"#d8576b\"],[0.6666666666666666,\"#ed7953\"],[0.7777777777777778,\"#fb9f3a\"],[0.8888888888888888,\"#fdca26\"],[1.0,\"#f0f921\"]]}],\"choropleth\":[{\"type\":\"choropleth\",\"colorbar\":{\"outlinewidth\":0,\"ticks\":\"\"}}],\"histogram2d\":[{\"type\":\"histogram2d\",\"colorbar\":{\"outlinewidth\":0,\"ticks\":\"\"},\"colorscale\":[[0.0,\"#0d0887\"],[0.1111111111111111,\"#46039f\"],[0.2222222222222222,\"#7201a8\"],[0.3333333333333333,\"#9c179e\"],[0.4444444444444444,\"#bd3786\"],[0.5555555555555556,\"#d8576b\"],[0.6666666666666666,\"#ed7953\"],[0.7777777777777778,\"#fb9f3a\"],[0.8888888888888888,\"#fdca26\"],[1.0,\"#f0f921\"]]}],\"heatmap\":[{\"type\":\"heatmap\",\"colorbar\":{\"outlinewidth\":0,\"ticks\":\"\"},\"colorscale\":[[0.0,\"#0d0887\"],[0.1111111111111111,\"#46039f\"],[0.2222222222222222,\"#7201a8\"],[0.3333333333333333,\"#9c179e\"],[0.4444444444444444,\"#bd3786\"],[0.5555555555555556,\"#d8576b\"],[0.6666666666666666,\"#ed7953\"],[0.7777777777777778,\"#fb9f3a\"],[0.8888888888888888,\"#fdca26\"],[1.0,\"#f0f921\"]]}],\"heatmapgl\":[{\"type\":\"heatmapgl\",\"colorbar\":{\"outlinewidth\":0,\"ticks\":\"\"},\"colorscale\":[[0.0,\"#0d0887\"],[0.1111111111111111,\"#46039f\"],[0.2222222222222222,\"#7201a8\"],[0.3333333333333333,\"#9c179e\"],[0.4444444444444444,\"#bd3786\"],[0.5555555555555556,\"#d8576b\"],[0.6666666666666666,\"#ed7953\"],[0.7777777777777778,\"#fb9f3a\"],[0.8888888888888888,\"#fdca26\"],[1.0,\"#f0f921\"]]}],\"contourcarpet\":[{\"type\":\"contourcarpet\",\"colorbar\":{\"outlinewidth\":0,\"ticks\":\"\"}}],\"contour\":[{\"type\":\"contour\",\"colorbar\":{\"outlinewidth\":0,\"ticks\":\"\"},\"colorscale\":[[0.0,\"#0d0887\"],[0.1111111111111111,\"#46039f\"],[0.2222222222222222,\"#7201a8\"],[0.3333333333333333,\"#9c179e\"],[0.4444444444444444,\"#bd3786\"],[0.5555555555555556,\"#d8576b\"],[0.6666666666666666,\"#ed7953\"],[0.7777777777777778,\"#fb9f3a\"],[0.8888888888888888,\"#fdca26\"],[1.0,\"#f0f921\"]]}],\"surface\":[{\"type\":\"surface\",\"colorbar\":{\"outlinewidth\":0,\"ticks\":\"\"},\"colorscale\":[[0.0,\"#0d0887\"],[0.1111111111111111,\"#46039f\"],[0.2222222222222222,\"#7201a8\"],[0.3333333333333333,\"#9c179e\"],[0.4444444444444444,\"#bd3786\"],[0.5555555555555556,\"#d8576b\"],[0.6666666666666666,\"#ed7953\"],[0.7777777777777778,\"#fb9f3a\"],[0.8888888888888888,\"#fdca26\"],[1.0,\"#f0f921\"]]}],\"mesh3d\":[{\"type\":\"mesh3d\",\"colorbar\":{\"outlinewidth\":0,\"ticks\":\"\"}}],\"scatter\":[{\"fillpattern\":{\"fillmode\":\"overlay\",\"size\":10,\"solidity\":0.2},\"type\":\"scatter\"}],\"parcoords\":[{\"type\":\"parcoords\",\"line\":{\"colorbar\":{\"outlinewidth\":0,\"ticks\":\"\"}}}],\"scatterpolargl\":[{\"type\":\"scatterpolargl\",\"marker\":{\"colorbar\":{\"outlinewidth\":0,\"ticks\":\"\"}}}],\"bar\":[{\"error_x\":{\"color\":\"#2a3f5f\"},\"error_y\":{\"color\":\"#2a3f5f\"},\"marker\":{\"line\":{\"color\":\"#E5ECF6\",\"width\":0.5},\"pattern\":{\"fillmode\":\"overlay\",\"size\":10,\"solidity\":0.2}},\"type\":\"bar\"}],\"scattergeo\":[{\"type\":\"scattergeo\",\"marker\":{\"colorbar\":{\"outlinewidth\":0,\"ticks\":\"\"}}}],\"scatterpolar\":[{\"type\":\"scatterpolar\",\"marker\":{\"colorbar\":{\"outlinewidth\":0,\"ticks\":\"\"}}}],\"histogram\":[{\"marker\":{\"pattern\":{\"fillmode\":\"overlay\",\"size\":10,\"solidity\":0.2}},\"type\":\"histogram\"}],\"scattergl\":[{\"type\":\"scattergl\",\"marker\":{\"colorbar\":{\"outlinewidth\":0,\"ticks\":\"\"}}}],\"scatter3d\":[{\"type\":\"scatter3d\",\"line\":{\"colorbar\":{\"outlinewidth\":0,\"ticks\":\"\"}},\"marker\":{\"colorbar\":{\"outlinewidth\":0,\"ticks\":\"\"}}}],\"scattermapbox\":[{\"type\":\"scattermapbox\",\"marker\":{\"colorbar\":{\"outlinewidth\":0,\"ticks\":\"\"}}}],\"scatterternary\":[{\"type\":\"scatterternary\",\"marker\":{\"colorbar\":{\"outlinewidth\":0,\"ticks\":\"\"}}}],\"scattercarpet\":[{\"type\":\"scattercarpet\",\"marker\":{\"colorbar\":{\"outlinewidth\":0,\"ticks\":\"\"}}}],\"carpet\":[{\"aaxis\":{\"endlinecolor\":\"#2a3f5f\",\"gridcolor\":\"white\",\"linecolor\":\"white\",\"minorgridcolor\":\"white\",\"startlinecolor\":\"#2a3f5f\"},\"baxis\":{\"endlinecolor\":\"#2a3f5f\",\"gridcolor\":\"white\",\"linecolor\":\"white\",\"minorgridcolor\":\"white\",\"startlinecolor\":\"#2a3f5f\"},\"type\":\"carpet\"}],\"table\":[{\"cells\":{\"fill\":{\"color\":\"#EBF0F8\"},\"line\":{\"color\":\"white\"}},\"header\":{\"fill\":{\"color\":\"#C8D4E3\"},\"line\":{\"color\":\"white\"}},\"type\":\"table\"}],\"barpolar\":[{\"marker\":{\"line\":{\"color\":\"#E5ECF6\",\"width\":0.5},\"pattern\":{\"fillmode\":\"overlay\",\"size\":10,\"solidity\":0.2}},\"type\":\"barpolar\"}],\"pie\":[{\"automargin\":true,\"type\":\"pie\"}]},\"layout\":{\"autotypenumbers\":\"strict\",\"colorway\":[\"#636efa\",\"#EF553B\",\"#00cc96\",\"#ab63fa\",\"#FFA15A\",\"#19d3f3\",\"#FF6692\",\"#B6E880\",\"#FF97FF\",\"#FECB52\"],\"font\":{\"color\":\"#2a3f5f\"},\"hovermode\":\"closest\",\"hoverlabel\":{\"align\":\"left\"},\"paper_bgcolor\":\"white\",\"plot_bgcolor\":\"#E5ECF6\",\"polar\":{\"bgcolor\":\"#E5ECF6\",\"angularaxis\":{\"gridcolor\":\"white\",\"linecolor\":\"white\",\"ticks\":\"\"},\"radialaxis\":{\"gridcolor\":\"white\",\"linecolor\":\"white\",\"ticks\":\"\"}},\"ternary\":{\"bgcolor\":\"#E5ECF6\",\"aaxis\":{\"gridcolor\":\"white\",\"linecolor\":\"white\",\"ticks\":\"\"},\"baxis\":{\"gridcolor\":\"white\",\"linecolor\":\"white\",\"ticks\":\"\"},\"caxis\":{\"gridcolor\":\"white\",\"linecolor\":\"white\",\"ticks\":\"\"}},\"coloraxis\":{\"colorbar\":{\"outlinewidth\":0,\"ticks\":\"\"}},\"colorscale\":{\"sequential\":[[0.0,\"#0d0887\"],[0.1111111111111111,\"#46039f\"],[0.2222222222222222,\"#7201a8\"],[0.3333333333333333,\"#9c179e\"],[0.4444444444444444,\"#bd3786\"],[0.5555555555555556,\"#d8576b\"],[0.6666666666666666,\"#ed7953\"],[0.7777777777777778,\"#fb9f3a\"],[0.8888888888888888,\"#fdca26\"],[1.0,\"#f0f921\"]],\"sequentialminus\":[[0.0,\"#0d0887\"],[0.1111111111111111,\"#46039f\"],[0.2222222222222222,\"#7201a8\"],[0.3333333333333333,\"#9c179e\"],[0.4444444444444444,\"#bd3786\"],[0.5555555555555556,\"#d8576b\"],[0.6666666666666666,\"#ed7953\"],[0.7777777777777778,\"#fb9f3a\"],[0.8888888888888888,\"#fdca26\"],[1.0,\"#f0f921\"]],\"diverging\":[[0,\"#8e0152\"],[0.1,\"#c51b7d\"],[0.2,\"#de77ae\"],[0.3,\"#f1b6da\"],[0.4,\"#fde0ef\"],[0.5,\"#f7f7f7\"],[0.6,\"#e6f5d0\"],[0.7,\"#b8e186\"],[0.8,\"#7fbc41\"],[0.9,\"#4d9221\"],[1,\"#276419\"]]},\"xaxis\":{\"gridcolor\":\"white\",\"linecolor\":\"white\",\"ticks\":\"\",\"title\":{\"standoff\":15},\"zerolinecolor\":\"white\",\"automargin\":true,\"zerolinewidth\":2},\"yaxis\":{\"gridcolor\":\"white\",\"linecolor\":\"white\",\"ticks\":\"\",\"title\":{\"standoff\":15},\"zerolinecolor\":\"white\",\"automargin\":true,\"zerolinewidth\":2},\"scene\":{\"xaxis\":{\"backgroundcolor\":\"#E5ECF6\",\"gridcolor\":\"white\",\"linecolor\":\"white\",\"showbackground\":true,\"ticks\":\"\",\"zerolinecolor\":\"white\",\"gridwidth\":2},\"yaxis\":{\"backgroundcolor\":\"#E5ECF6\",\"gridcolor\":\"white\",\"linecolor\":\"white\",\"showbackground\":true,\"ticks\":\"\",\"zerolinecolor\":\"white\",\"gridwidth\":2},\"zaxis\":{\"backgroundcolor\":\"#E5ECF6\",\"gridcolor\":\"white\",\"linecolor\":\"white\",\"showbackground\":true,\"ticks\":\"\",\"zerolinecolor\":\"white\",\"gridwidth\":2}},\"shapedefaults\":{\"line\":{\"color\":\"#2a3f5f\"}},\"annotationdefaults\":{\"arrowcolor\":\"#2a3f5f\",\"arrowhead\":0,\"arrowwidth\":1},\"geo\":{\"bgcolor\":\"white\",\"landcolor\":\"#E5ECF6\",\"subunitcolor\":\"white\",\"showland\":true,\"showlakes\":true,\"lakecolor\":\"white\"},\"title\":{\"x\":0.05},\"mapbox\":{\"style\":\"light\"}}},\"xaxis\":{\"anchor\":\"y\",\"domain\":[0.0,1.0],\"title\":{\"text\":\"Happiness Score\"}},\"yaxis\":{\"anchor\":\"x\",\"domain\":[0.0,1.0],\"title\":{\"text\":\"GDP per Capita\"}},\"legend\":{\"title\":{\"text\":\"Region\"},\"tracegroupgap\":0},\"title\":{\"text\":\"Happiness Score vs GDP per Capita by Region\"}},                        {\"responsive\": true}                    ).then(function(){\n",
       "                            \n",
       "var gd = document.getElementById('b2664952-159b-4b20-84ed-9e75274c9b25');\n",
       "var x = new MutationObserver(function (mutations, observer) {{\n",
       "        var display = window.getComputedStyle(gd).display;\n",
       "        if (!display || display === 'none') {{\n",
       "            console.log([gd, 'removed!']);\n",
       "            Plotly.purge(gd);\n",
       "            observer.disconnect();\n",
       "        }}\n",
       "}});\n",
       "\n",
       "// Listen for the removal of the full notebook cells\n",
       "var notebookContainer = gd.closest('#notebook-container');\n",
       "if (notebookContainer) {{\n",
       "    x.observe(notebookContainer, {childList: true});\n",
       "}}\n",
       "\n",
       "// Listen for the clearing of the current output cell\n",
       "var outputEl = gd.closest('.output');\n",
       "if (outputEl) {{\n",
       "    x.observe(outputEl, {childList: true});\n",
       "}}\n",
       "\n",
       "                        })                };                });            </script>        </div>"
      ]
     },
     "metadata": {},
     "output_type": "display_data"
    }
   ],
   "source": [
    "# reates a scatter plot named fig3 between Happiness Score and GDP per Capita attributes of a dataframe using Plotly. Use Region to color the data points on the scatter plot.\n",
    "# Create DataFrame\n",
    "df_sorted\n",
    "# Create scatter plot\n",
    "fig3 = px.scatter( df_sorted, x='Happiness Score', \n",
    "                  y='Economy (GDP per Capita)',\n",
    "                  color='Region',\n",
    "                  hover_name='Country',\n",
    "                  title='Happiness Score vs GDP per Capita by Region',\n",
    "                  labels={'Happiness Score': 'Happiness Score', \n",
    "                          'Economy (GDP per Capita)': 'GDP per Capita'} ) \n",
    "# Show the plot \n",
    "fig3.show()"
   ]
  },
  {
   "cell_type": "code",
   "execution_count": 68,
   "id": "41044264",
   "metadata": {},
   "outputs": [
    {
     "data": {
      "application/vnd.plotly.v1+json": {
       "config": {
        "plotlyServerURL": "https://plot.ly"
       },
       "data": [
        {
         "domain": {
          "x": [
           0,
           1
          ],
          "y": [
           0,
           1
          ]
         },
         "hovertemplate": "Region=%{label}<br>Happiness Score=%{value}<extra></extra>",
         "labels": [
          "Asia",
          "Europe",
          "Middle East",
          "North America",
          "Oceania"
         ],
         "legendgroup": "",
         "name": "",
         "showlegend": true,
         "type": "pie",
         "values": [
          7.6,
          7.583333333333333,
          6.2,
          7.2,
          7.3
         ]
        }
       ],
       "layout": {
        "legend": {
         "tracegroupgap": 0
        },
        "piecolorway": [
         "rgb(103,0,31)",
         "rgb(178,24,43)",
         "rgb(214,96,77)",
         "rgb(244,165,130)",
         "rgb(253,219,199)",
         "rgb(247,247,247)",
         "rgb(209,229,240)",
         "rgb(146,197,222)",
         "rgb(67,147,195)",
         "rgb(33,102,172)",
         "rgb(5,48,97)"
        ],
        "template": {
         "data": {
          "bar": [
           {
            "error_x": {
             "color": "#2a3f5f"
            },
            "error_y": {
             "color": "#2a3f5f"
            },
            "marker": {
             "line": {
              "color": "#E5ECF6",
              "width": 0.5
             },
             "pattern": {
              "fillmode": "overlay",
              "size": 10,
              "solidity": 0.2
             }
            },
            "type": "bar"
           }
          ],
          "barpolar": [
           {
            "marker": {
             "line": {
              "color": "#E5ECF6",
              "width": 0.5
             },
             "pattern": {
              "fillmode": "overlay",
              "size": 10,
              "solidity": 0.2
             }
            },
            "type": "barpolar"
           }
          ],
          "carpet": [
           {
            "aaxis": {
             "endlinecolor": "#2a3f5f",
             "gridcolor": "white",
             "linecolor": "white",
             "minorgridcolor": "white",
             "startlinecolor": "#2a3f5f"
            },
            "baxis": {
             "endlinecolor": "#2a3f5f",
             "gridcolor": "white",
             "linecolor": "white",
             "minorgridcolor": "white",
             "startlinecolor": "#2a3f5f"
            },
            "type": "carpet"
           }
          ],
          "choropleth": [
           {
            "colorbar": {
             "outlinewidth": 0,
             "ticks": ""
            },
            "type": "choropleth"
           }
          ],
          "contour": [
           {
            "colorbar": {
             "outlinewidth": 0,
             "ticks": ""
            },
            "colorscale": [
             [
              0,
              "#0d0887"
             ],
             [
              0.1111111111111111,
              "#46039f"
             ],
             [
              0.2222222222222222,
              "#7201a8"
             ],
             [
              0.3333333333333333,
              "#9c179e"
             ],
             [
              0.4444444444444444,
              "#bd3786"
             ],
             [
              0.5555555555555556,
              "#d8576b"
             ],
             [
              0.6666666666666666,
              "#ed7953"
             ],
             [
              0.7777777777777778,
              "#fb9f3a"
             ],
             [
              0.8888888888888888,
              "#fdca26"
             ],
             [
              1,
              "#f0f921"
             ]
            ],
            "type": "contour"
           }
          ],
          "contourcarpet": [
           {
            "colorbar": {
             "outlinewidth": 0,
             "ticks": ""
            },
            "type": "contourcarpet"
           }
          ],
          "heatmap": [
           {
            "colorbar": {
             "outlinewidth": 0,
             "ticks": ""
            },
            "colorscale": [
             [
              0,
              "#0d0887"
             ],
             [
              0.1111111111111111,
              "#46039f"
             ],
             [
              0.2222222222222222,
              "#7201a8"
             ],
             [
              0.3333333333333333,
              "#9c179e"
             ],
             [
              0.4444444444444444,
              "#bd3786"
             ],
             [
              0.5555555555555556,
              "#d8576b"
             ],
             [
              0.6666666666666666,
              "#ed7953"
             ],
             [
              0.7777777777777778,
              "#fb9f3a"
             ],
             [
              0.8888888888888888,
              "#fdca26"
             ],
             [
              1,
              "#f0f921"
             ]
            ],
            "type": "heatmap"
           }
          ],
          "heatmapgl": [
           {
            "colorbar": {
             "outlinewidth": 0,
             "ticks": ""
            },
            "colorscale": [
             [
              0,
              "#0d0887"
             ],
             [
              0.1111111111111111,
              "#46039f"
             ],
             [
              0.2222222222222222,
              "#7201a8"
             ],
             [
              0.3333333333333333,
              "#9c179e"
             ],
             [
              0.4444444444444444,
              "#bd3786"
             ],
             [
              0.5555555555555556,
              "#d8576b"
             ],
             [
              0.6666666666666666,
              "#ed7953"
             ],
             [
              0.7777777777777778,
              "#fb9f3a"
             ],
             [
              0.8888888888888888,
              "#fdca26"
             ],
             [
              1,
              "#f0f921"
             ]
            ],
            "type": "heatmapgl"
           }
          ],
          "histogram": [
           {
            "marker": {
             "pattern": {
              "fillmode": "overlay",
              "size": 10,
              "solidity": 0.2
             }
            },
            "type": "histogram"
           }
          ],
          "histogram2d": [
           {
            "colorbar": {
             "outlinewidth": 0,
             "ticks": ""
            },
            "colorscale": [
             [
              0,
              "#0d0887"
             ],
             [
              0.1111111111111111,
              "#46039f"
             ],
             [
              0.2222222222222222,
              "#7201a8"
             ],
             [
              0.3333333333333333,
              "#9c179e"
             ],
             [
              0.4444444444444444,
              "#bd3786"
             ],
             [
              0.5555555555555556,
              "#d8576b"
             ],
             [
              0.6666666666666666,
              "#ed7953"
             ],
             [
              0.7777777777777778,
              "#fb9f3a"
             ],
             [
              0.8888888888888888,
              "#fdca26"
             ],
             [
              1,
              "#f0f921"
             ]
            ],
            "type": "histogram2d"
           }
          ],
          "histogram2dcontour": [
           {
            "colorbar": {
             "outlinewidth": 0,
             "ticks": ""
            },
            "colorscale": [
             [
              0,
              "#0d0887"
             ],
             [
              0.1111111111111111,
              "#46039f"
             ],
             [
              0.2222222222222222,
              "#7201a8"
             ],
             [
              0.3333333333333333,
              "#9c179e"
             ],
             [
              0.4444444444444444,
              "#bd3786"
             ],
             [
              0.5555555555555556,
              "#d8576b"
             ],
             [
              0.6666666666666666,
              "#ed7953"
             ],
             [
              0.7777777777777778,
              "#fb9f3a"
             ],
             [
              0.8888888888888888,
              "#fdca26"
             ],
             [
              1,
              "#f0f921"
             ]
            ],
            "type": "histogram2dcontour"
           }
          ],
          "mesh3d": [
           {
            "colorbar": {
             "outlinewidth": 0,
             "ticks": ""
            },
            "type": "mesh3d"
           }
          ],
          "parcoords": [
           {
            "line": {
             "colorbar": {
              "outlinewidth": 0,
              "ticks": ""
             }
            },
            "type": "parcoords"
           }
          ],
          "pie": [
           {
            "automargin": true,
            "type": "pie"
           }
          ],
          "scatter": [
           {
            "fillpattern": {
             "fillmode": "overlay",
             "size": 10,
             "solidity": 0.2
            },
            "type": "scatter"
           }
          ],
          "scatter3d": [
           {
            "line": {
             "colorbar": {
              "outlinewidth": 0,
              "ticks": ""
             }
            },
            "marker": {
             "colorbar": {
              "outlinewidth": 0,
              "ticks": ""
             }
            },
            "type": "scatter3d"
           }
          ],
          "scattercarpet": [
           {
            "marker": {
             "colorbar": {
              "outlinewidth": 0,
              "ticks": ""
             }
            },
            "type": "scattercarpet"
           }
          ],
          "scattergeo": [
           {
            "marker": {
             "colorbar": {
              "outlinewidth": 0,
              "ticks": ""
             }
            },
            "type": "scattergeo"
           }
          ],
          "scattergl": [
           {
            "marker": {
             "colorbar": {
              "outlinewidth": 0,
              "ticks": ""
             }
            },
            "type": "scattergl"
           }
          ],
          "scattermapbox": [
           {
            "marker": {
             "colorbar": {
              "outlinewidth": 0,
              "ticks": ""
             }
            },
            "type": "scattermapbox"
           }
          ],
          "scatterpolar": [
           {
            "marker": {
             "colorbar": {
              "outlinewidth": 0,
              "ticks": ""
             }
            },
            "type": "scatterpolar"
           }
          ],
          "scatterpolargl": [
           {
            "marker": {
             "colorbar": {
              "outlinewidth": 0,
              "ticks": ""
             }
            },
            "type": "scatterpolargl"
           }
          ],
          "scatterternary": [
           {
            "marker": {
             "colorbar": {
              "outlinewidth": 0,
              "ticks": ""
             }
            },
            "type": "scatterternary"
           }
          ],
          "surface": [
           {
            "colorbar": {
             "outlinewidth": 0,
             "ticks": ""
            },
            "colorscale": [
             [
              0,
              "#0d0887"
             ],
             [
              0.1111111111111111,
              "#46039f"
             ],
             [
              0.2222222222222222,
              "#7201a8"
             ],
             [
              0.3333333333333333,
              "#9c179e"
             ],
             [
              0.4444444444444444,
              "#bd3786"
             ],
             [
              0.5555555555555556,
              "#d8576b"
             ],
             [
              0.6666666666666666,
              "#ed7953"
             ],
             [
              0.7777777777777778,
              "#fb9f3a"
             ],
             [
              0.8888888888888888,
              "#fdca26"
             ],
             [
              1,
              "#f0f921"
             ]
            ],
            "type": "surface"
           }
          ],
          "table": [
           {
            "cells": {
             "fill": {
              "color": "#EBF0F8"
             },
             "line": {
              "color": "white"
             }
            },
            "header": {
             "fill": {
              "color": "#C8D4E3"
             },
             "line": {
              "color": "white"
             }
            },
            "type": "table"
           }
          ]
         },
         "layout": {
          "annotationdefaults": {
           "arrowcolor": "#2a3f5f",
           "arrowhead": 0,
           "arrowwidth": 1
          },
          "autotypenumbers": "strict",
          "coloraxis": {
           "colorbar": {
            "outlinewidth": 0,
            "ticks": ""
           }
          },
          "colorscale": {
           "diverging": [
            [
             0,
             "#8e0152"
            ],
            [
             0.1,
             "#c51b7d"
            ],
            [
             0.2,
             "#de77ae"
            ],
            [
             0.3,
             "#f1b6da"
            ],
            [
             0.4,
             "#fde0ef"
            ],
            [
             0.5,
             "#f7f7f7"
            ],
            [
             0.6,
             "#e6f5d0"
            ],
            [
             0.7,
             "#b8e186"
            ],
            [
             0.8,
             "#7fbc41"
            ],
            [
             0.9,
             "#4d9221"
            ],
            [
             1,
             "#276419"
            ]
           ],
           "sequential": [
            [
             0,
             "#0d0887"
            ],
            [
             0.1111111111111111,
             "#46039f"
            ],
            [
             0.2222222222222222,
             "#7201a8"
            ],
            [
             0.3333333333333333,
             "#9c179e"
            ],
            [
             0.4444444444444444,
             "#bd3786"
            ],
            [
             0.5555555555555556,
             "#d8576b"
            ],
            [
             0.6666666666666666,
             "#ed7953"
            ],
            [
             0.7777777777777778,
             "#fb9f3a"
            ],
            [
             0.8888888888888888,
             "#fdca26"
            ],
            [
             1,
             "#f0f921"
            ]
           ],
           "sequentialminus": [
            [
             0,
             "#0d0887"
            ],
            [
             0.1111111111111111,
             "#46039f"
            ],
            [
             0.2222222222222222,
             "#7201a8"
            ],
            [
             0.3333333333333333,
             "#9c179e"
            ],
            [
             0.4444444444444444,
             "#bd3786"
            ],
            [
             0.5555555555555556,
             "#d8576b"
            ],
            [
             0.6666666666666666,
             "#ed7953"
            ],
            [
             0.7777777777777778,
             "#fb9f3a"
            ],
            [
             0.8888888888888888,
             "#fdca26"
            ],
            [
             1,
             "#f0f921"
            ]
           ]
          },
          "colorway": [
           "#636efa",
           "#EF553B",
           "#00cc96",
           "#ab63fa",
           "#FFA15A",
           "#19d3f3",
           "#FF6692",
           "#B6E880",
           "#FF97FF",
           "#FECB52"
          ],
          "font": {
           "color": "#2a3f5f"
          },
          "geo": {
           "bgcolor": "white",
           "lakecolor": "white",
           "landcolor": "#E5ECF6",
           "showlakes": true,
           "showland": true,
           "subunitcolor": "white"
          },
          "hoverlabel": {
           "align": "left"
          },
          "hovermode": "closest",
          "mapbox": {
           "style": "light"
          },
          "paper_bgcolor": "white",
          "plot_bgcolor": "#E5ECF6",
          "polar": {
           "angularaxis": {
            "gridcolor": "white",
            "linecolor": "white",
            "ticks": ""
           },
           "bgcolor": "#E5ECF6",
           "radialaxis": {
            "gridcolor": "white",
            "linecolor": "white",
            "ticks": ""
           }
          },
          "scene": {
           "xaxis": {
            "backgroundcolor": "#E5ECF6",
            "gridcolor": "white",
            "gridwidth": 2,
            "linecolor": "white",
            "showbackground": true,
            "ticks": "",
            "zerolinecolor": "white"
           },
           "yaxis": {
            "backgroundcolor": "#E5ECF6",
            "gridcolor": "white",
            "gridwidth": 2,
            "linecolor": "white",
            "showbackground": true,
            "ticks": "",
            "zerolinecolor": "white"
           },
           "zaxis": {
            "backgroundcolor": "#E5ECF6",
            "gridcolor": "white",
            "gridwidth": 2,
            "linecolor": "white",
            "showbackground": true,
            "ticks": "",
            "zerolinecolor": "white"
           }
          },
          "shapedefaults": {
           "line": {
            "color": "#2a3f5f"
           }
          },
          "ternary": {
           "aaxis": {
            "gridcolor": "white",
            "linecolor": "white",
            "ticks": ""
           },
           "baxis": {
            "gridcolor": "white",
            "linecolor": "white",
            "ticks": ""
           },
           "bgcolor": "#E5ECF6",
           "caxis": {
            "gridcolor": "white",
            "linecolor": "white",
            "ticks": ""
           }
          },
          "title": {
           "x": 0.05
          },
          "xaxis": {
           "automargin": true,
           "gridcolor": "white",
           "linecolor": "white",
           "ticks": "",
           "title": {
            "standoff": 15
           },
           "zerolinecolor": "white",
           "zerolinewidth": 2
          },
          "yaxis": {
           "automargin": true,
           "gridcolor": "white",
           "linecolor": "white",
           "ticks": "",
           "title": {
            "standoff": 15
           },
           "zerolinecolor": "white",
           "zerolinewidth": 2
          }
         }
        },
        "title": {
         "text": "Happiness Score by Region"
        }
       }
      },
      "text/html": [
       "<div>                            <div id=\"7741b119-1d26-46bf-ac3f-7cae9beb0e1b\" class=\"plotly-graph-div\" style=\"height:525px; width:100%;\"></div>            <script type=\"text/javascript\">                require([\"plotly\"], function(Plotly) {                    window.PLOTLYENV=window.PLOTLYENV || {};                                    if (document.getElementById(\"7741b119-1d26-46bf-ac3f-7cae9beb0e1b\")) {                    Plotly.newPlot(                        \"7741b119-1d26-46bf-ac3f-7cae9beb0e1b\",                        [{\"domain\":{\"x\":[0.0,1.0],\"y\":[0.0,1.0]},\"hovertemplate\":\"Region=%{label}<br>Happiness Score=%{value}<extra></extra>\",\"labels\":[\"Asia\",\"Europe\",\"Middle East\",\"North America\",\"Oceania\"],\"legendgroup\":\"\",\"name\":\"\",\"showlegend\":true,\"values\":[7.6,7.583333333333333,6.2,7.2,7.3],\"type\":\"pie\"}],                        {\"template\":{\"data\":{\"histogram2dcontour\":[{\"type\":\"histogram2dcontour\",\"colorbar\":{\"outlinewidth\":0,\"ticks\":\"\"},\"colorscale\":[[0.0,\"#0d0887\"],[0.1111111111111111,\"#46039f\"],[0.2222222222222222,\"#7201a8\"],[0.3333333333333333,\"#9c179e\"],[0.4444444444444444,\"#bd3786\"],[0.5555555555555556,\"#d8576b\"],[0.6666666666666666,\"#ed7953\"],[0.7777777777777778,\"#fb9f3a\"],[0.8888888888888888,\"#fdca26\"],[1.0,\"#f0f921\"]]}],\"choropleth\":[{\"type\":\"choropleth\",\"colorbar\":{\"outlinewidth\":0,\"ticks\":\"\"}}],\"histogram2d\":[{\"type\":\"histogram2d\",\"colorbar\":{\"outlinewidth\":0,\"ticks\":\"\"},\"colorscale\":[[0.0,\"#0d0887\"],[0.1111111111111111,\"#46039f\"],[0.2222222222222222,\"#7201a8\"],[0.3333333333333333,\"#9c179e\"],[0.4444444444444444,\"#bd3786\"],[0.5555555555555556,\"#d8576b\"],[0.6666666666666666,\"#ed7953\"],[0.7777777777777778,\"#fb9f3a\"],[0.8888888888888888,\"#fdca26\"],[1.0,\"#f0f921\"]]}],\"heatmap\":[{\"type\":\"heatmap\",\"colorbar\":{\"outlinewidth\":0,\"ticks\":\"\"},\"colorscale\":[[0.0,\"#0d0887\"],[0.1111111111111111,\"#46039f\"],[0.2222222222222222,\"#7201a8\"],[0.3333333333333333,\"#9c179e\"],[0.4444444444444444,\"#bd3786\"],[0.5555555555555556,\"#d8576b\"],[0.6666666666666666,\"#ed7953\"],[0.7777777777777778,\"#fb9f3a\"],[0.8888888888888888,\"#fdca26\"],[1.0,\"#f0f921\"]]}],\"heatmapgl\":[{\"type\":\"heatmapgl\",\"colorbar\":{\"outlinewidth\":0,\"ticks\":\"\"},\"colorscale\":[[0.0,\"#0d0887\"],[0.1111111111111111,\"#46039f\"],[0.2222222222222222,\"#7201a8\"],[0.3333333333333333,\"#9c179e\"],[0.4444444444444444,\"#bd3786\"],[0.5555555555555556,\"#d8576b\"],[0.6666666666666666,\"#ed7953\"],[0.7777777777777778,\"#fb9f3a\"],[0.8888888888888888,\"#fdca26\"],[1.0,\"#f0f921\"]]}],\"contourcarpet\":[{\"type\":\"contourcarpet\",\"colorbar\":{\"outlinewidth\":0,\"ticks\":\"\"}}],\"contour\":[{\"type\":\"contour\",\"colorbar\":{\"outlinewidth\":0,\"ticks\":\"\"},\"colorscale\":[[0.0,\"#0d0887\"],[0.1111111111111111,\"#46039f\"],[0.2222222222222222,\"#7201a8\"],[0.3333333333333333,\"#9c179e\"],[0.4444444444444444,\"#bd3786\"],[0.5555555555555556,\"#d8576b\"],[0.6666666666666666,\"#ed7953\"],[0.7777777777777778,\"#fb9f3a\"],[0.8888888888888888,\"#fdca26\"],[1.0,\"#f0f921\"]]}],\"surface\":[{\"type\":\"surface\",\"colorbar\":{\"outlinewidth\":0,\"ticks\":\"\"},\"colorscale\":[[0.0,\"#0d0887\"],[0.1111111111111111,\"#46039f\"],[0.2222222222222222,\"#7201a8\"],[0.3333333333333333,\"#9c179e\"],[0.4444444444444444,\"#bd3786\"],[0.5555555555555556,\"#d8576b\"],[0.6666666666666666,\"#ed7953\"],[0.7777777777777778,\"#fb9f3a\"],[0.8888888888888888,\"#fdca26\"],[1.0,\"#f0f921\"]]}],\"mesh3d\":[{\"type\":\"mesh3d\",\"colorbar\":{\"outlinewidth\":0,\"ticks\":\"\"}}],\"scatter\":[{\"fillpattern\":{\"fillmode\":\"overlay\",\"size\":10,\"solidity\":0.2},\"type\":\"scatter\"}],\"parcoords\":[{\"type\":\"parcoords\",\"line\":{\"colorbar\":{\"outlinewidth\":0,\"ticks\":\"\"}}}],\"scatterpolargl\":[{\"type\":\"scatterpolargl\",\"marker\":{\"colorbar\":{\"outlinewidth\":0,\"ticks\":\"\"}}}],\"bar\":[{\"error_x\":{\"color\":\"#2a3f5f\"},\"error_y\":{\"color\":\"#2a3f5f\"},\"marker\":{\"line\":{\"color\":\"#E5ECF6\",\"width\":0.5},\"pattern\":{\"fillmode\":\"overlay\",\"size\":10,\"solidity\":0.2}},\"type\":\"bar\"}],\"scattergeo\":[{\"type\":\"scattergeo\",\"marker\":{\"colorbar\":{\"outlinewidth\":0,\"ticks\":\"\"}}}],\"scatterpolar\":[{\"type\":\"scatterpolar\",\"marker\":{\"colorbar\":{\"outlinewidth\":0,\"ticks\":\"\"}}}],\"histogram\":[{\"marker\":{\"pattern\":{\"fillmode\":\"overlay\",\"size\":10,\"solidity\":0.2}},\"type\":\"histogram\"}],\"scattergl\":[{\"type\":\"scattergl\",\"marker\":{\"colorbar\":{\"outlinewidth\":0,\"ticks\":\"\"}}}],\"scatter3d\":[{\"type\":\"scatter3d\",\"line\":{\"colorbar\":{\"outlinewidth\":0,\"ticks\":\"\"}},\"marker\":{\"colorbar\":{\"outlinewidth\":0,\"ticks\":\"\"}}}],\"scattermapbox\":[{\"type\":\"scattermapbox\",\"marker\":{\"colorbar\":{\"outlinewidth\":0,\"ticks\":\"\"}}}],\"scatterternary\":[{\"type\":\"scatterternary\",\"marker\":{\"colorbar\":{\"outlinewidth\":0,\"ticks\":\"\"}}}],\"scattercarpet\":[{\"type\":\"scattercarpet\",\"marker\":{\"colorbar\":{\"outlinewidth\":0,\"ticks\":\"\"}}}],\"carpet\":[{\"aaxis\":{\"endlinecolor\":\"#2a3f5f\",\"gridcolor\":\"white\",\"linecolor\":\"white\",\"minorgridcolor\":\"white\",\"startlinecolor\":\"#2a3f5f\"},\"baxis\":{\"endlinecolor\":\"#2a3f5f\",\"gridcolor\":\"white\",\"linecolor\":\"white\",\"minorgridcolor\":\"white\",\"startlinecolor\":\"#2a3f5f\"},\"type\":\"carpet\"}],\"table\":[{\"cells\":{\"fill\":{\"color\":\"#EBF0F8\"},\"line\":{\"color\":\"white\"}},\"header\":{\"fill\":{\"color\":\"#C8D4E3\"},\"line\":{\"color\":\"white\"}},\"type\":\"table\"}],\"barpolar\":[{\"marker\":{\"line\":{\"color\":\"#E5ECF6\",\"width\":0.5},\"pattern\":{\"fillmode\":\"overlay\",\"size\":10,\"solidity\":0.2}},\"type\":\"barpolar\"}],\"pie\":[{\"automargin\":true,\"type\":\"pie\"}]},\"layout\":{\"autotypenumbers\":\"strict\",\"colorway\":[\"#636efa\",\"#EF553B\",\"#00cc96\",\"#ab63fa\",\"#FFA15A\",\"#19d3f3\",\"#FF6692\",\"#B6E880\",\"#FF97FF\",\"#FECB52\"],\"font\":{\"color\":\"#2a3f5f\"},\"hovermode\":\"closest\",\"hoverlabel\":{\"align\":\"left\"},\"paper_bgcolor\":\"white\",\"plot_bgcolor\":\"#E5ECF6\",\"polar\":{\"bgcolor\":\"#E5ECF6\",\"angularaxis\":{\"gridcolor\":\"white\",\"linecolor\":\"white\",\"ticks\":\"\"},\"radialaxis\":{\"gridcolor\":\"white\",\"linecolor\":\"white\",\"ticks\":\"\"}},\"ternary\":{\"bgcolor\":\"#E5ECF6\",\"aaxis\":{\"gridcolor\":\"white\",\"linecolor\":\"white\",\"ticks\":\"\"},\"baxis\":{\"gridcolor\":\"white\",\"linecolor\":\"white\",\"ticks\":\"\"},\"caxis\":{\"gridcolor\":\"white\",\"linecolor\":\"white\",\"ticks\":\"\"}},\"coloraxis\":{\"colorbar\":{\"outlinewidth\":0,\"ticks\":\"\"}},\"colorscale\":{\"sequential\":[[0.0,\"#0d0887\"],[0.1111111111111111,\"#46039f\"],[0.2222222222222222,\"#7201a8\"],[0.3333333333333333,\"#9c179e\"],[0.4444444444444444,\"#bd3786\"],[0.5555555555555556,\"#d8576b\"],[0.6666666666666666,\"#ed7953\"],[0.7777777777777778,\"#fb9f3a\"],[0.8888888888888888,\"#fdca26\"],[1.0,\"#f0f921\"]],\"sequentialminus\":[[0.0,\"#0d0887\"],[0.1111111111111111,\"#46039f\"],[0.2222222222222222,\"#7201a8\"],[0.3333333333333333,\"#9c179e\"],[0.4444444444444444,\"#bd3786\"],[0.5555555555555556,\"#d8576b\"],[0.6666666666666666,\"#ed7953\"],[0.7777777777777778,\"#fb9f3a\"],[0.8888888888888888,\"#fdca26\"],[1.0,\"#f0f921\"]],\"diverging\":[[0,\"#8e0152\"],[0.1,\"#c51b7d\"],[0.2,\"#de77ae\"],[0.3,\"#f1b6da\"],[0.4,\"#fde0ef\"],[0.5,\"#f7f7f7\"],[0.6,\"#e6f5d0\"],[0.7,\"#b8e186\"],[0.8,\"#7fbc41\"],[0.9,\"#4d9221\"],[1,\"#276419\"]]},\"xaxis\":{\"gridcolor\":\"white\",\"linecolor\":\"white\",\"ticks\":\"\",\"title\":{\"standoff\":15},\"zerolinecolor\":\"white\",\"automargin\":true,\"zerolinewidth\":2},\"yaxis\":{\"gridcolor\":\"white\",\"linecolor\":\"white\",\"ticks\":\"\",\"title\":{\"standoff\":15},\"zerolinecolor\":\"white\",\"automargin\":true,\"zerolinewidth\":2},\"scene\":{\"xaxis\":{\"backgroundcolor\":\"#E5ECF6\",\"gridcolor\":\"white\",\"linecolor\":\"white\",\"showbackground\":true,\"ticks\":\"\",\"zerolinecolor\":\"white\",\"gridwidth\":2},\"yaxis\":{\"backgroundcolor\":\"#E5ECF6\",\"gridcolor\":\"white\",\"linecolor\":\"white\",\"showbackground\":true,\"ticks\":\"\",\"zerolinecolor\":\"white\",\"gridwidth\":2},\"zaxis\":{\"backgroundcolor\":\"#E5ECF6\",\"gridcolor\":\"white\",\"linecolor\":\"white\",\"showbackground\":true,\"ticks\":\"\",\"zerolinecolor\":\"white\",\"gridwidth\":2}},\"shapedefaults\":{\"line\":{\"color\":\"#2a3f5f\"}},\"annotationdefaults\":{\"arrowcolor\":\"#2a3f5f\",\"arrowhead\":0,\"arrowwidth\":1},\"geo\":{\"bgcolor\":\"white\",\"landcolor\":\"#E5ECF6\",\"subunitcolor\":\"white\",\"showland\":true,\"showlakes\":true,\"lakecolor\":\"white\"},\"title\":{\"x\":0.05},\"mapbox\":{\"style\":\"light\"}}},\"legend\":{\"tracegroupgap\":0},\"title\":{\"text\":\"Happiness Score by Region\"},\"piecolorway\":[\"rgb(103,0,31)\",\"rgb(178,24,43)\",\"rgb(214,96,77)\",\"rgb(244,165,130)\",\"rgb(253,219,199)\",\"rgb(247,247,247)\",\"rgb(209,229,240)\",\"rgb(146,197,222)\",\"rgb(67,147,195)\",\"rgb(33,102,172)\",\"rgb(5,48,97)\"]},                        {\"responsive\": true}                    ).then(function(){\n",
       "                            \n",
       "var gd = document.getElementById('7741b119-1d26-46bf-ac3f-7cae9beb0e1b');\n",
       "var x = new MutationObserver(function (mutations, observer) {{\n",
       "        var display = window.getComputedStyle(gd).display;\n",
       "        if (!display || display === 'none') {{\n",
       "            console.log([gd, 'removed!']);\n",
       "            Plotly.purge(gd);\n",
       "            observer.disconnect();\n",
       "        }}\n",
       "}});\n",
       "\n",
       "// Listen for the removal of the full notebook cells\n",
       "var notebookContainer = gd.closest('#notebook-container');\n",
       "if (notebookContainer) {{\n",
       "    x.observe(notebookContainer, {childList: true});\n",
       "}}\n",
       "\n",
       "// Listen for the clearing of the current output cell\n",
       "var outputEl = gd.closest('.output');\n",
       "if (outputEl) {{\n",
       "    x.observe(outputEl, {childList: true});\n",
       "}}\n",
       "\n",
       "                        })                };                });            </script>        </div>"
      ]
     },
     "metadata": {},
     "output_type": "display_data"
    }
   ],
   "source": [
    "\n",
    "\n",
    "# Create pie chart\n",
    "fig4 = px.pie( region_happiness,\n",
    "              values='Happiness Score',\n",
    "              names='Region',\n",
    "              title='Happiness Score by Region',\n",
    "              color_discrete_sequence=px.colors.sequential.RdBu ) \n",
    "# Show the plot\n",
    "fig4.show()"
   ]
  },
  {
   "cell_type": "code",
   "execution_count": 70,
   "id": "9edcc5c5",
   "metadata": {},
   "outputs": [
    {
     "data": {
      "application/vnd.plotly.v1+json": {
       "config": {
        "plotlyServerURL": "https://plot.ly"
       },
       "data": [
        {
         "coloraxis": "coloraxis",
         "customdata": [
          [
           1.82427,
           0.71723
          ],
          [
           1.69752,
           0.84542
          ],
          [
           1.64555,
           0.94719
          ],
          [
           1.61714,
           0.63569
          ],
          [
           1.57744,
           0.79579
          ],
          [
           1.57352,
           0.72993
          ],
          [
           1.52733,
           0.86303
          ],
          [
           1.5107,
           0.95277
          ],
          [
           1.50796,
           0.5533422727272727
          ],
          [
           1.48953,
           0.59267
          ],
          [
           1.48341,
           0.81455
          ],
          [
           1.46468,
           0.81231
          ],
          [
           1.45181,
           0.83121
          ],
          [
           1.45038,
           0.80565
          ],
          [
           1.44787,
           0.81487
          ],
          [
           1.44443,
           0.8512
          ],
          [
           1.44178,
           0.79504
          ],
          [
           1.44015,
           0.8276
          ],
          [
           1.42666,
           0.86733
          ],
          [
           1.42539,
           0.81959
          ],
          [
           1.40598,
           0.81091
          ],
          [
           1.40283,
           0.80991
          ],
          [
           1.39729,
           0.79565
          ],
          [
           1.39488,
           0.83795
          ],
          [
           1.38007,
           0.91491
          ],
          [
           1.36066,
           0.83096
          ],
          [
           1.35948,
           0.88645
          ],
          [
           1.35943,
           0.77758
          ],
          [
           1.35495,
           0.85102
          ],
          [
           1.34253,
           0.87896
          ],
          [
           1.33766,
           0.84917
          ],
          [
           1.32572,
           0.52608
          ],
          [
           1.31857,
           0.5533422727272727
          ],
          [
           1.31141,
           0.84142
          ],
          [
           1.30915,
           0.76376
          ],
          [
           1.30782,
           0.80315
          ],
          [
           1.29947,
           0.79151
          ],
          [
           1.27973,
           0.5533422727272727
          ],
          [
           1.27964,
           0.68098
          ],
          [
           1.27607,
           0.79363
          ],
          [
           1.2692,
           0.64674
          ],
          [
           1.25142,
           0.62366
          ],
          [
           1.24886,
           0.80029
          ],
          [
           1.24585,
           0.69058
          ],
          [
           1.24142,
           0.67608
          ],
          [
           1.23228,
           0.58991
          ],
          [
           1.22943,
           0.57386
          ],
          [
           1.21788,
           0.63952
          ],
          [
           1.2167,
           0.81883
          ],
          [
           1.18649,
           0.70524
          ],
          [
           1.18306,
           0.70835
          ],
          [
           1.18157,
           0.72183
          ],
          [
           1.1697,
           0.67602
          ],
          [
           1.16492,
           0.64718
          ],
          [
           1.15851,
           0.3494
          ],
          [
           1.15137,
           0.69711
          ],
          [
           1.14372,
           0.66189
          ],
          [
           1.13367,
           0.61904
          ],
          [
           1.13062,
           0.63104
          ],
          [
           1.12373,
           0.54504
          ],
          [
           1.12268,
           0.76171
          ],
          [
           1.11758,
           0.64232
          ],
          [
           1.11508,
           0.71143
          ],
          [
           1.11306,
           0.67806
          ],
          [
           1.09686,
           0.50933
          ],
          [
           1.09426,
           0.34752
          ],
          [
           1.0893,
           0.64915
          ],
          [
           1.08754,
           0.61415
          ],
          [
           1.08017,
           0.44006
          ],
          [
           1.07838,
           0.63533
          ],
          [
           1.07474,
           0.51076
          ],
          [
           1.06879,
           0.76146
          ],
          [
           1.06688,
           0.52304
          ],
          [
           1.05266,
           0.61804
          ],
          [
           1.03437,
           0.6458
          ],
          [
           1.03032,
           0.59659
          ],
          [
           1.02787,
           0.57669
          ],
          [
           1.0278,
           0.73561
          ],
          [
           1.02416,
           0.18611
          ],
          [
           1.0193,
           0.64738
          ],
          [
           0.99673,
           0.60712
          ],
          [
           0.99602,
           0.62994
          ],
          [
           0.98853,
           0.55469
          ],
          [
           0.97724,
           0.59577
          ],
          [
           0.97318,
           0.62007
          ],
          [
           0.97306,
           0.68613
          ],
          [
           0.9553,
           0.73007
          ],
          [
           0.95395,
           0.52116
          ],
          [
           0.951772064516129,
           0.65696
          ],
          [
           0.951772064516129,
           0.4697
          ],
          [
           0.95104,
           0.49374
          ],
          [
           0.93383,
           0.70766
          ],
          [
           0.93287,
           0.34745
          ],
          [
           0.90145,
           0.54
          ],
          [
           0.89373,
           0.58295
          ],
          [
           0.89333,
           0.59469
          ],
          [
           0.87616,
           0.45569
          ],
          [
           0.8737,
           0.596
          ],
          [
           0.87287,
           0.58628
          ],
          [
           0.86086,
           0.64083
          ],
          [
           0.8527,
           0.49759
          ],
          [
           0.84731,
           0.04991
          ],
          [
           0.84058,
           0.59471
          ],
          [
           0.83792,
           0.64035
          ],
          [
           0.83454,
           0.54039
          ],
          [
           0.81217,
           0.47036
          ],
          [
           0.77109,
           0.28212
          ],
          [
           0.75216,
           0.05108
          ],
          [
           0.74719,
           0.62994
          ],
          [
           0.74037,
           0.66157
          ],
          [
           0.74036,
           0.45091
          ],
          [
           0.73591,
           0.50163
          ],
          [
           0.69429,
           0.58383
          ],
          [
           0.69384,
           0.65213
          ],
          [
           0.69177,
           0.52309
          ],
          [
           0.68816,
           0.40306
          ],
          [
           0.68042,
           0.38291
          ],
          [
           0.67024,
           0.56844
          ],
          [
           0.63107,
           0.29681
          ],
          [
           0.63069,
           0.29759
          ],
          [
           0.61391,
           0.28639
          ],
          [
           0.61202,
           0.23573
          ],
          [
           0.57939,
           0.31048
          ],
          [
           0.56044,
           0.55449
          ],
          [
           0.55604,
           0.42494
          ],
          [
           0.55507,
           0.04476
          ],
          [
           0.54177,
           0.52989
          ],
          [
           0.52497,
           0.12698
          ],
          [
           0.52267,
           0.30147
          ],
          [
           0.48835,
           0.53119
          ],
          [
           0.47155,
           0.357
          ],
          [
           0.44626,
           0.50073
          ],
          [
           0.44314,
           0.40457
          ],
          [
           0.42214,
           0.03824
          ],
          [
           0.39499,
           0.21028
          ],
          [
           0.39394,
           0.15781
          ],
          [
           0.38227,
           0.17344
          ],
          [
           0.36485,
           0
          ],
          [
           0.35041,
           0.1595
          ],
          [
           0.34719,
           0.19625
          ],
          [
           0.34112,
           0.3988
          ],
          [
           0.34097,
           0.27494
          ],
          [
           0.32846,
           0.31865
          ],
          [
           0.31995,
           0.21297
          ],
          [
           0.31292,
           0.16347
          ],
          [
           0.29283,
           0.34578
          ],
          [
           0.28123,
           0.24811
          ],
          [
           0.27954,
           0.37109
          ],
          [
           0.27509,
           0.29981
          ],
          [
           0.25558,
           0.33108
          ],
          [
           0.22415,
           0.18829
          ],
          [
           0.1327,
           0.26162
          ],
          [
           0.10706,
           0.23165
          ],
          [
           0.08709,
           0.29364
          ],
          [
           0.06831,
           0.15747
          ],
          [
           0.05661,
           0.188
          ],
          [
           0,
           0.11466
          ]
         ],
         "geo": "geo",
         "hovertemplate": "<b>%{hovertext}</b><br><br>Country=%{location}<br>GDP per Capita (USD)=%{z}<br>Healthy Life Expectancy=%{customdata[1]}<extra></extra>",
         "hovertext": [
          "Qatar",
          "Luxembourg",
          "Singapore",
          "Kuwait",
          "Norway",
          "United Arab Emirates",
          "Switzerland",
          "Hong Kong",
          "United States",
          "Saudi Arabia",
          "Ireland",
          "Netherlands",
          "Sweden",
          "Austria",
          "Germany",
          "Australia",
          "Denmark",
          "Canada",
          "Iceland",
          "Belgium",
          "Finland",
          "United Kingdom",
          "Taiwan",
          "France",
          "Japan",
          "New Zealand",
          "South Korea",
          "Puerto Rico",
          "Italy",
          "Spain",
          "Israel",
          "Trinidad and Tobago",
          "Cyprus",
          "North Cyprus",
          "Czech Republic",
          "Malta",
          "Slovenia",
          "Slovakia",
          "Estonia",
          "Portugal",
          "Lithuania",
          "Malaysia",
          "Greece",
          "Poland",
          "Hungary",
          "Russia",
          "Kazakhstan",
          "Latvia",
          "Chile",
          "Croatia",
          "Panama",
          "Uruguay",
          "Romania",
          "Turkey",
          "Gabon",
          "Argentina",
          "Mauritius",
          "Venezuela",
          "Belarus",
          "Azerbaijan",
          "Lebanon",
          "Iran",
          "Mexico",
          "Bulgaria",
          "Suriname",
          "Botswana",
          "Thailand",
          "Brazil",
          "Turkmenistan",
          "Montenegro",
          "Iraq",
          "Costa Rica",
          "Libya",
          "Algeria",
          "Serbia",
          "Colombia",
          "Dominican Republic",
          "China",
          "South Africa",
          "Macedonia",
          "Jordan",
          "Peru",
          "Mongolia",
          "Tunisia",
          "Sri Lanka",
          "Ecuador",
          "Albania",
          "Egypt",
          "Bahrain",
          "Bolivia",
          "Indonesia",
          "Bosnia and Herzegovina",
          "Namibia",
          "Kosovo",
          "Paraguay",
          "Jamaica",
          "Belize",
          "El Salvador",
          "Ukraine",
          "Armenia",
          "Bhutan",
          "Angola",
          "Morocco",
          "Georgia",
          "Guatemala",
          "Philippines",
          "Congo (Brazzaville)",
          "Nigeria",
          "Syria",
          "Vietnam",
          "India",
          "Uzbekistan",
          "Honduras",
          "Nicaragua",
          "Moldova",
          "Pakistan",
          "Laos",
          "Palestinian Territories",
          "Ghana",
          "Sudan",
          "Mauritania",
          "Zambia",
          "Yemen",
          "Kyrgyzstan",
          "Cambodia",
          "Ivory Coast",
          "Bangladesh",
          "Cameroon",
          "Kenya",
          "Tajikistan",
          "Tanzania",
          "Nepal",
          "Senegal",
          "Chad",
          "Benin",
          "South Sudan",
          "Afghanistan",
          "Sierra Leone",
          "Zimbabwe",
          "Uganda",
          "Myanmar",
          "Haiti",
          "Rwanda",
          "Burkina Faso",
          "Mali",
          "Ethiopia",
          "Togo",
          "Madagascar",
          "Comoros",
          "Somaliland Region",
          "Guinea",
          "Niger",
          "Liberia",
          "Malawi",
          "Burundi",
          "Congo (Kinshasa)",
          "Somalia"
         ],
         "locationmode": "country names",
         "locations": [
          "Qatar",
          "Luxembourg",
          "Singapore",
          "Kuwait",
          "Norway",
          "United Arab Emirates",
          "Switzerland",
          "Hong Kong",
          "United States",
          "Saudi Arabia",
          "Ireland",
          "Netherlands",
          "Sweden",
          "Austria",
          "Germany",
          "Australia",
          "Denmark",
          "Canada",
          "Iceland",
          "Belgium",
          "Finland",
          "United Kingdom",
          "Taiwan",
          "France",
          "Japan",
          "New Zealand",
          "South Korea",
          "Puerto Rico",
          "Italy",
          "Spain",
          "Israel",
          "Trinidad and Tobago",
          "Cyprus",
          "North Cyprus",
          "Czech Republic",
          "Malta",
          "Slovenia",
          "Slovakia",
          "Estonia",
          "Portugal",
          "Lithuania",
          "Malaysia",
          "Greece",
          "Poland",
          "Hungary",
          "Russia",
          "Kazakhstan",
          "Latvia",
          "Chile",
          "Croatia",
          "Panama",
          "Uruguay",
          "Romania",
          "Turkey",
          "Gabon",
          "Argentina",
          "Mauritius",
          "Venezuela",
          "Belarus",
          "Azerbaijan",
          "Lebanon",
          "Iran",
          "Mexico",
          "Bulgaria",
          "Suriname",
          "Botswana",
          "Thailand",
          "Brazil",
          "Turkmenistan",
          "Montenegro",
          "Iraq",
          "Costa Rica",
          "Libya",
          "Algeria",
          "Serbia",
          "Colombia",
          "Dominican Republic",
          "China",
          "South Africa",
          "Macedonia",
          "Jordan",
          "Peru",
          "Mongolia",
          "Tunisia",
          "Sri Lanka",
          "Ecuador",
          "Albania",
          "Egypt",
          "Bahrain",
          "Bolivia",
          "Indonesia",
          "Bosnia and Herzegovina",
          "Namibia",
          "Kosovo",
          "Paraguay",
          "Jamaica",
          "Belize",
          "El Salvador",
          "Ukraine",
          "Armenia",
          "Bhutan",
          "Angola",
          "Morocco",
          "Georgia",
          "Guatemala",
          "Philippines",
          "Congo (Brazzaville)",
          "Nigeria",
          "Syria",
          "Vietnam",
          "India",
          "Uzbekistan",
          "Honduras",
          "Nicaragua",
          "Moldova",
          "Pakistan",
          "Laos",
          "Palestinian Territories",
          "Ghana",
          "Sudan",
          "Mauritania",
          "Zambia",
          "Yemen",
          "Kyrgyzstan",
          "Cambodia",
          "Ivory Coast",
          "Bangladesh",
          "Cameroon",
          "Kenya",
          "Tajikistan",
          "Tanzania",
          "Nepal",
          "Senegal",
          "Chad",
          "Benin",
          "South Sudan",
          "Afghanistan",
          "Sierra Leone",
          "Zimbabwe",
          "Uganda",
          "Myanmar",
          "Haiti",
          "Rwanda",
          "Burkina Faso",
          "Mali",
          "Ethiopia",
          "Togo",
          "Madagascar",
          "Comoros",
          "Somaliland Region",
          "Guinea",
          "Niger",
          "Liberia",
          "Malawi",
          "Burundi",
          "Congo (Kinshasa)",
          "Somalia"
         ],
         "name": "",
         "type": "choropleth",
         "z": [
          1.82427,
          1.69752,
          1.64555,
          1.61714,
          1.57744,
          1.57352,
          1.52733,
          1.5107,
          1.50796,
          1.48953,
          1.48341,
          1.46468,
          1.45181,
          1.45038,
          1.44787,
          1.44443,
          1.44178,
          1.44015,
          1.42666,
          1.42539,
          1.40598,
          1.40283,
          1.39729,
          1.39488,
          1.38007,
          1.36066,
          1.35948,
          1.35943,
          1.35495,
          1.34253,
          1.33766,
          1.32572,
          1.31857,
          1.31141,
          1.30915,
          1.30782,
          1.29947,
          1.27973,
          1.27964,
          1.27607,
          1.2692,
          1.25142,
          1.24886,
          1.24585,
          1.24142,
          1.23228,
          1.22943,
          1.21788,
          1.2167,
          1.18649,
          1.18306,
          1.18157,
          1.1697,
          1.16492,
          1.15851,
          1.15137,
          1.14372,
          1.13367,
          1.13062,
          1.12373,
          1.12268,
          1.11758,
          1.11508,
          1.11306,
          1.09686,
          1.09426,
          1.0893,
          1.08754,
          1.08017,
          1.07838,
          1.07474,
          1.06879,
          1.06688,
          1.05266,
          1.03437,
          1.03032,
          1.02787,
          1.0278,
          1.02416,
          1.0193,
          0.99673,
          0.99602,
          0.98853,
          0.97724,
          0.97318,
          0.97306,
          0.9553,
          0.95395,
          0.951772064516129,
          0.951772064516129,
          0.95104,
          0.93383,
          0.93287,
          0.90145,
          0.89373,
          0.89333,
          0.87616,
          0.8737,
          0.87287,
          0.86086,
          0.8527,
          0.84731,
          0.84058,
          0.83792,
          0.83454,
          0.81217,
          0.77109,
          0.75216,
          0.74719,
          0.74037,
          0.74036,
          0.73591,
          0.69429,
          0.69384,
          0.69177,
          0.68816,
          0.68042,
          0.67024,
          0.63107,
          0.63069,
          0.61391,
          0.61202,
          0.57939,
          0.56044,
          0.55604,
          0.55507,
          0.54177,
          0.52497,
          0.52267,
          0.48835,
          0.47155,
          0.44626,
          0.44314,
          0.42214,
          0.39499,
          0.39394,
          0.38227,
          0.36485,
          0.35041,
          0.34719,
          0.34112,
          0.34097,
          0.32846,
          0.31995,
          0.31292,
          0.29283,
          0.28123,
          0.27954,
          0.27509,
          0.25558,
          0.22415,
          0.1327,
          0.10706,
          0.08709,
          0.06831,
          0.05661,
          0
         ]
        }
       ],
       "layout": {
        "coloraxis": {
         "colorbar": {
          "title": {
           "text": "GDP per Capita (USD)"
          }
         },
         "colorscale": [
          [
           0,
           "#0d0887"
          ],
          [
           0.1111111111111111,
           "#46039f"
          ],
          [
           0.2222222222222222,
           "#7201a8"
          ],
          [
           0.3333333333333333,
           "#9c179e"
          ],
          [
           0.4444444444444444,
           "#bd3786"
          ],
          [
           0.5555555555555556,
           "#d8576b"
          ],
          [
           0.6666666666666666,
           "#ed7953"
          ],
          [
           0.7777777777777778,
           "#fb9f3a"
          ],
          [
           0.8888888888888888,
           "#fdca26"
          ],
          [
           1,
           "#f0f921"
          ]
         ]
        },
        "geo": {
         "center": {},
         "domain": {
          "x": [
           0,
           1
          ],
          "y": [
           0,
           1
          ]
         },
         "projection": {
          "type": "equirectangular"
         },
         "showcoastlines": false,
         "showframe": false
        },
        "legend": {
         "tracegroupgap": 0
        },
        "margin": {
         "t": 60
        },
        "template": {
         "data": {
          "bar": [
           {
            "error_x": {
             "color": "#2a3f5f"
            },
            "error_y": {
             "color": "#2a3f5f"
            },
            "marker": {
             "line": {
              "color": "#E5ECF6",
              "width": 0.5
             },
             "pattern": {
              "fillmode": "overlay",
              "size": 10,
              "solidity": 0.2
             }
            },
            "type": "bar"
           }
          ],
          "barpolar": [
           {
            "marker": {
             "line": {
              "color": "#E5ECF6",
              "width": 0.5
             },
             "pattern": {
              "fillmode": "overlay",
              "size": 10,
              "solidity": 0.2
             }
            },
            "type": "barpolar"
           }
          ],
          "carpet": [
           {
            "aaxis": {
             "endlinecolor": "#2a3f5f",
             "gridcolor": "white",
             "linecolor": "white",
             "minorgridcolor": "white",
             "startlinecolor": "#2a3f5f"
            },
            "baxis": {
             "endlinecolor": "#2a3f5f",
             "gridcolor": "white",
             "linecolor": "white",
             "minorgridcolor": "white",
             "startlinecolor": "#2a3f5f"
            },
            "type": "carpet"
           }
          ],
          "choropleth": [
           {
            "colorbar": {
             "outlinewidth": 0,
             "ticks": ""
            },
            "type": "choropleth"
           }
          ],
          "contour": [
           {
            "colorbar": {
             "outlinewidth": 0,
             "ticks": ""
            },
            "colorscale": [
             [
              0,
              "#0d0887"
             ],
             [
              0.1111111111111111,
              "#46039f"
             ],
             [
              0.2222222222222222,
              "#7201a8"
             ],
             [
              0.3333333333333333,
              "#9c179e"
             ],
             [
              0.4444444444444444,
              "#bd3786"
             ],
             [
              0.5555555555555556,
              "#d8576b"
             ],
             [
              0.6666666666666666,
              "#ed7953"
             ],
             [
              0.7777777777777778,
              "#fb9f3a"
             ],
             [
              0.8888888888888888,
              "#fdca26"
             ],
             [
              1,
              "#f0f921"
             ]
            ],
            "type": "contour"
           }
          ],
          "contourcarpet": [
           {
            "colorbar": {
             "outlinewidth": 0,
             "ticks": ""
            },
            "type": "contourcarpet"
           }
          ],
          "heatmap": [
           {
            "colorbar": {
             "outlinewidth": 0,
             "ticks": ""
            },
            "colorscale": [
             [
              0,
              "#0d0887"
             ],
             [
              0.1111111111111111,
              "#46039f"
             ],
             [
              0.2222222222222222,
              "#7201a8"
             ],
             [
              0.3333333333333333,
              "#9c179e"
             ],
             [
              0.4444444444444444,
              "#bd3786"
             ],
             [
              0.5555555555555556,
              "#d8576b"
             ],
             [
              0.6666666666666666,
              "#ed7953"
             ],
             [
              0.7777777777777778,
              "#fb9f3a"
             ],
             [
              0.8888888888888888,
              "#fdca26"
             ],
             [
              1,
              "#f0f921"
             ]
            ],
            "type": "heatmap"
           }
          ],
          "heatmapgl": [
           {
            "colorbar": {
             "outlinewidth": 0,
             "ticks": ""
            },
            "colorscale": [
             [
              0,
              "#0d0887"
             ],
             [
              0.1111111111111111,
              "#46039f"
             ],
             [
              0.2222222222222222,
              "#7201a8"
             ],
             [
              0.3333333333333333,
              "#9c179e"
             ],
             [
              0.4444444444444444,
              "#bd3786"
             ],
             [
              0.5555555555555556,
              "#d8576b"
             ],
             [
              0.6666666666666666,
              "#ed7953"
             ],
             [
              0.7777777777777778,
              "#fb9f3a"
             ],
             [
              0.8888888888888888,
              "#fdca26"
             ],
             [
              1,
              "#f0f921"
             ]
            ],
            "type": "heatmapgl"
           }
          ],
          "histogram": [
           {
            "marker": {
             "pattern": {
              "fillmode": "overlay",
              "size": 10,
              "solidity": 0.2
             }
            },
            "type": "histogram"
           }
          ],
          "histogram2d": [
           {
            "colorbar": {
             "outlinewidth": 0,
             "ticks": ""
            },
            "colorscale": [
             [
              0,
              "#0d0887"
             ],
             [
              0.1111111111111111,
              "#46039f"
             ],
             [
              0.2222222222222222,
              "#7201a8"
             ],
             [
              0.3333333333333333,
              "#9c179e"
             ],
             [
              0.4444444444444444,
              "#bd3786"
             ],
             [
              0.5555555555555556,
              "#d8576b"
             ],
             [
              0.6666666666666666,
              "#ed7953"
             ],
             [
              0.7777777777777778,
              "#fb9f3a"
             ],
             [
              0.8888888888888888,
              "#fdca26"
             ],
             [
              1,
              "#f0f921"
             ]
            ],
            "type": "histogram2d"
           }
          ],
          "histogram2dcontour": [
           {
            "colorbar": {
             "outlinewidth": 0,
             "ticks": ""
            },
            "colorscale": [
             [
              0,
              "#0d0887"
             ],
             [
              0.1111111111111111,
              "#46039f"
             ],
             [
              0.2222222222222222,
              "#7201a8"
             ],
             [
              0.3333333333333333,
              "#9c179e"
             ],
             [
              0.4444444444444444,
              "#bd3786"
             ],
             [
              0.5555555555555556,
              "#d8576b"
             ],
             [
              0.6666666666666666,
              "#ed7953"
             ],
             [
              0.7777777777777778,
              "#fb9f3a"
             ],
             [
              0.8888888888888888,
              "#fdca26"
             ],
             [
              1,
              "#f0f921"
             ]
            ],
            "type": "histogram2dcontour"
           }
          ],
          "mesh3d": [
           {
            "colorbar": {
             "outlinewidth": 0,
             "ticks": ""
            },
            "type": "mesh3d"
           }
          ],
          "parcoords": [
           {
            "line": {
             "colorbar": {
              "outlinewidth": 0,
              "ticks": ""
             }
            },
            "type": "parcoords"
           }
          ],
          "pie": [
           {
            "automargin": true,
            "type": "pie"
           }
          ],
          "scatter": [
           {
            "fillpattern": {
             "fillmode": "overlay",
             "size": 10,
             "solidity": 0.2
            },
            "type": "scatter"
           }
          ],
          "scatter3d": [
           {
            "line": {
             "colorbar": {
              "outlinewidth": 0,
              "ticks": ""
             }
            },
            "marker": {
             "colorbar": {
              "outlinewidth": 0,
              "ticks": ""
             }
            },
            "type": "scatter3d"
           }
          ],
          "scattercarpet": [
           {
            "marker": {
             "colorbar": {
              "outlinewidth": 0,
              "ticks": ""
             }
            },
            "type": "scattercarpet"
           }
          ],
          "scattergeo": [
           {
            "marker": {
             "colorbar": {
              "outlinewidth": 0,
              "ticks": ""
             }
            },
            "type": "scattergeo"
           }
          ],
          "scattergl": [
           {
            "marker": {
             "colorbar": {
              "outlinewidth": 0,
              "ticks": ""
             }
            },
            "type": "scattergl"
           }
          ],
          "scattermapbox": [
           {
            "marker": {
             "colorbar": {
              "outlinewidth": 0,
              "ticks": ""
             }
            },
            "type": "scattermapbox"
           }
          ],
          "scatterpolar": [
           {
            "marker": {
             "colorbar": {
              "outlinewidth": 0,
              "ticks": ""
             }
            },
            "type": "scatterpolar"
           }
          ],
          "scatterpolargl": [
           {
            "marker": {
             "colorbar": {
              "outlinewidth": 0,
              "ticks": ""
             }
            },
            "type": "scatterpolargl"
           }
          ],
          "scatterternary": [
           {
            "marker": {
             "colorbar": {
              "outlinewidth": 0,
              "ticks": ""
             }
            },
            "type": "scatterternary"
           }
          ],
          "surface": [
           {
            "colorbar": {
             "outlinewidth": 0,
             "ticks": ""
            },
            "colorscale": [
             [
              0,
              "#0d0887"
             ],
             [
              0.1111111111111111,
              "#46039f"
             ],
             [
              0.2222222222222222,
              "#7201a8"
             ],
             [
              0.3333333333333333,
              "#9c179e"
             ],
             [
              0.4444444444444444,
              "#bd3786"
             ],
             [
              0.5555555555555556,
              "#d8576b"
             ],
             [
              0.6666666666666666,
              "#ed7953"
             ],
             [
              0.7777777777777778,
              "#fb9f3a"
             ],
             [
              0.8888888888888888,
              "#fdca26"
             ],
             [
              1,
              "#f0f921"
             ]
            ],
            "type": "surface"
           }
          ],
          "table": [
           {
            "cells": {
             "fill": {
              "color": "#EBF0F8"
             },
             "line": {
              "color": "white"
             }
            },
            "header": {
             "fill": {
              "color": "#C8D4E3"
             },
             "line": {
              "color": "white"
             }
            },
            "type": "table"
           }
          ]
         },
         "layout": {
          "annotationdefaults": {
           "arrowcolor": "#2a3f5f",
           "arrowhead": 0,
           "arrowwidth": 1
          },
          "autotypenumbers": "strict",
          "coloraxis": {
           "colorbar": {
            "outlinewidth": 0,
            "ticks": ""
           }
          },
          "colorscale": {
           "diverging": [
            [
             0,
             "#8e0152"
            ],
            [
             0.1,
             "#c51b7d"
            ],
            [
             0.2,
             "#de77ae"
            ],
            [
             0.3,
             "#f1b6da"
            ],
            [
             0.4,
             "#fde0ef"
            ],
            [
             0.5,
             "#f7f7f7"
            ],
            [
             0.6,
             "#e6f5d0"
            ],
            [
             0.7,
             "#b8e186"
            ],
            [
             0.8,
             "#7fbc41"
            ],
            [
             0.9,
             "#4d9221"
            ],
            [
             1,
             "#276419"
            ]
           ],
           "sequential": [
            [
             0,
             "#0d0887"
            ],
            [
             0.1111111111111111,
             "#46039f"
            ],
            [
             0.2222222222222222,
             "#7201a8"
            ],
            [
             0.3333333333333333,
             "#9c179e"
            ],
            [
             0.4444444444444444,
             "#bd3786"
            ],
            [
             0.5555555555555556,
             "#d8576b"
            ],
            [
             0.6666666666666666,
             "#ed7953"
            ],
            [
             0.7777777777777778,
             "#fb9f3a"
            ],
            [
             0.8888888888888888,
             "#fdca26"
            ],
            [
             1,
             "#f0f921"
            ]
           ],
           "sequentialminus": [
            [
             0,
             "#0d0887"
            ],
            [
             0.1111111111111111,
             "#46039f"
            ],
            [
             0.2222222222222222,
             "#7201a8"
            ],
            [
             0.3333333333333333,
             "#9c179e"
            ],
            [
             0.4444444444444444,
             "#bd3786"
            ],
            [
             0.5555555555555556,
             "#d8576b"
            ],
            [
             0.6666666666666666,
             "#ed7953"
            ],
            [
             0.7777777777777778,
             "#fb9f3a"
            ],
            [
             0.8888888888888888,
             "#fdca26"
            ],
            [
             1,
             "#f0f921"
            ]
           ]
          },
          "colorway": [
           "#636efa",
           "#EF553B",
           "#00cc96",
           "#ab63fa",
           "#FFA15A",
           "#19d3f3",
           "#FF6692",
           "#B6E880",
           "#FF97FF",
           "#FECB52"
          ],
          "font": {
           "color": "#2a3f5f"
          },
          "geo": {
           "bgcolor": "white",
           "lakecolor": "white",
           "landcolor": "#E5ECF6",
           "showlakes": true,
           "showland": true,
           "subunitcolor": "white"
          },
          "hoverlabel": {
           "align": "left"
          },
          "hovermode": "closest",
          "mapbox": {
           "style": "light"
          },
          "paper_bgcolor": "white",
          "plot_bgcolor": "#E5ECF6",
          "polar": {
           "angularaxis": {
            "gridcolor": "white",
            "linecolor": "white",
            "ticks": ""
           },
           "bgcolor": "#E5ECF6",
           "radialaxis": {
            "gridcolor": "white",
            "linecolor": "white",
            "ticks": ""
           }
          },
          "scene": {
           "xaxis": {
            "backgroundcolor": "#E5ECF6",
            "gridcolor": "white",
            "gridwidth": 2,
            "linecolor": "white",
            "showbackground": true,
            "ticks": "",
            "zerolinecolor": "white"
           },
           "yaxis": {
            "backgroundcolor": "#E5ECF6",
            "gridcolor": "white",
            "gridwidth": 2,
            "linecolor": "white",
            "showbackground": true,
            "ticks": "",
            "zerolinecolor": "white"
           },
           "zaxis": {
            "backgroundcolor": "#E5ECF6",
            "gridcolor": "white",
            "gridwidth": 2,
            "linecolor": "white",
            "showbackground": true,
            "ticks": "",
            "zerolinecolor": "white"
           }
          },
          "shapedefaults": {
           "line": {
            "color": "#2a3f5f"
           }
          },
          "ternary": {
           "aaxis": {
            "gridcolor": "white",
            "linecolor": "white",
            "ticks": ""
           },
           "baxis": {
            "gridcolor": "white",
            "linecolor": "white",
            "ticks": ""
           },
           "bgcolor": "#E5ECF6",
           "caxis": {
            "gridcolor": "white",
            "linecolor": "white",
            "ticks": ""
           }
          },
          "title": {
           "x": 0.05
          },
          "xaxis": {
           "automargin": true,
           "gridcolor": "white",
           "linecolor": "white",
           "ticks": "",
           "title": {
            "standoff": 15
           },
           "zerolinecolor": "white",
           "zerolinewidth": 2
          },
          "yaxis": {
           "automargin": true,
           "gridcolor": "white",
           "linecolor": "white",
           "ticks": "",
           "title": {
            "standoff": 15
           },
           "zerolinecolor": "white",
           "zerolinewidth": 2
          }
         }
        },
        "title": {
         "text": "GDP per Capita and Healthy Life Expectancy by Country"
        }
       }
      },
      "text/html": [
       "<div>                            <div id=\"5015f28d-990e-4687-839e-1e44fa5e1f2c\" class=\"plotly-graph-div\" style=\"height:525px; width:100%;\"></div>            <script type=\"text/javascript\">                require([\"plotly\"], function(Plotly) {                    window.PLOTLYENV=window.PLOTLYENV || {};                                    if (document.getElementById(\"5015f28d-990e-4687-839e-1e44fa5e1f2c\")) {                    Plotly.newPlot(                        \"5015f28d-990e-4687-839e-1e44fa5e1f2c\",                        [{\"coloraxis\":\"coloraxis\",\"customdata\":[[1.82427,0.71723],[1.69752,0.84542],[1.64555,0.94719],[1.61714,0.63569],[1.57744,0.79579],[1.57352,0.72993],[1.52733,0.86303],[1.5107,0.95277],[1.50796,0.5533422727272727],[1.48953,0.59267],[1.48341,0.81455],[1.46468,0.81231],[1.45181,0.83121],[1.45038,0.80565],[1.44787,0.81487],[1.44443,0.8512],[1.44178,0.79504],[1.44015,0.8276],[1.42666,0.86733],[1.42539,0.81959],[1.40598,0.81091],[1.40283,0.80991],[1.39729,0.79565],[1.39488,0.83795],[1.38007,0.91491],[1.36066,0.83096],[1.35948,0.88645],[1.35943,0.77758],[1.35495,0.85102],[1.34253,0.87896],[1.33766,0.84917],[1.32572,0.52608],[1.31857,0.5533422727272727],[1.31141,0.84142],[1.30915,0.76376],[1.30782,0.80315],[1.29947,0.79151],[1.27973,0.5533422727272727],[1.27964,0.68098],[1.27607,0.79363],[1.2692,0.64674],[1.25142,0.62366],[1.24886,0.80029],[1.24585,0.69058],[1.24142,0.67608],[1.23228,0.58991],[1.22943,0.57386],[1.21788,0.63952],[1.2167,0.81883],[1.18649,0.70524],[1.18306,0.70835],[1.18157,0.72183],[1.1697,0.67602],[1.16492,0.64718],[1.15851,0.3494],[1.15137,0.69711],[1.14372,0.66189],[1.13367,0.61904],[1.13062,0.63104],[1.12373,0.54504],[1.12268,0.76171],[1.11758,0.64232],[1.11508,0.71143],[1.11306,0.67806],[1.09686,0.50933],[1.09426,0.34752],[1.0893,0.64915],[1.08754,0.61415],[1.08017,0.44006],[1.07838,0.63533],[1.07474,0.51076],[1.06879,0.76146],[1.06688,0.52304],[1.05266,0.61804],[1.03437,0.6458],[1.03032,0.59659],[1.02787,0.57669],[1.0278,0.73561],[1.02416,0.18611],[1.0193,0.64738],[0.99673,0.60712],[0.99602,0.62994],[0.98853,0.55469],[0.97724,0.59577],[0.97318,0.62007],[0.97306,0.68613],[0.9553,0.73007],[0.95395,0.52116],[0.951772064516129,0.65696],[0.951772064516129,0.4697],[0.95104,0.49374],[0.93383,0.70766],[0.93287,0.34745],[0.90145,0.54],[0.89373,0.58295],[0.89333,0.59469],[0.87616,0.45569],[0.8737,0.596],[0.87287,0.58628],[0.86086,0.64083],[0.8527,0.49759],[0.84731,0.04991],[0.84058,0.59471],[0.83792,0.64035],[0.83454,0.54039],[0.81217,0.47036],[0.77109,0.28212],[0.75216,0.05108],[0.74719,0.62994],[0.74037,0.66157],[0.74036,0.45091],[0.73591,0.50163],[0.69429,0.58383],[0.69384,0.65213],[0.69177,0.52309],[0.68816,0.40306],[0.68042,0.38291],[0.67024,0.56844],[0.63107,0.29681],[0.63069,0.29759],[0.61391,0.28639],[0.61202,0.23573],[0.57939,0.31048],[0.56044,0.55449],[0.55604,0.42494],[0.55507,0.04476],[0.54177,0.52989],[0.52497,0.12698],[0.52267,0.30147],[0.48835,0.53119],[0.47155,0.357],[0.44626,0.50073],[0.44314,0.40457],[0.42214,0.03824],[0.39499,0.21028],[0.39394,0.15781],[0.38227,0.17344],[0.36485,0.0],[0.35041,0.1595],[0.34719,0.19625],[0.34112,0.3988],[0.34097,0.27494],[0.32846,0.31865],[0.31995,0.21297],[0.31292,0.16347],[0.29283,0.34578],[0.28123,0.24811],[0.27954,0.37109],[0.27509,0.29981],[0.25558,0.33108],[0.22415,0.18829],[0.1327,0.26162],[0.10706,0.23165],[0.08709,0.29364],[0.06831,0.15747],[0.05661,0.188],[0.0,0.11466]],\"geo\":\"geo\",\"hovertemplate\":\"<b>%{hovertext}</b><br><br>Country=%{location}<br>GDP per Capita (USD)=%{z}<br>Healthy Life Expectancy=%{customdata[1]}<extra></extra>\",\"hovertext\":[\"Qatar\",\"Luxembourg\",\"Singapore\",\"Kuwait\",\"Norway\",\"United Arab Emirates\",\"Switzerland\",\"Hong Kong\",\"United States\",\"Saudi Arabia\",\"Ireland\",\"Netherlands\",\"Sweden\",\"Austria\",\"Germany\",\"Australia\",\"Denmark\",\"Canada\",\"Iceland\",\"Belgium\",\"Finland\",\"United Kingdom\",\"Taiwan\",\"France\",\"Japan\",\"New Zealand\",\"South Korea\",\"Puerto Rico\",\"Italy\",\"Spain\",\"Israel\",\"Trinidad and Tobago\",\"Cyprus\",\"North Cyprus\",\"Czech Republic\",\"Malta\",\"Slovenia\",\"Slovakia\",\"Estonia\",\"Portugal\",\"Lithuania\",\"Malaysia\",\"Greece\",\"Poland\",\"Hungary\",\"Russia\",\"Kazakhstan\",\"Latvia\",\"Chile\",\"Croatia\",\"Panama\",\"Uruguay\",\"Romania\",\"Turkey\",\"Gabon\",\"Argentina\",\"Mauritius\",\"Venezuela\",\"Belarus\",\"Azerbaijan\",\"Lebanon\",\"Iran\",\"Mexico\",\"Bulgaria\",\"Suriname\",\"Botswana\",\"Thailand\",\"Brazil\",\"Turkmenistan\",\"Montenegro\",\"Iraq\",\"Costa Rica\",\"Libya\",\"Algeria\",\"Serbia\",\"Colombia\",\"Dominican Republic\",\"China\",\"South Africa\",\"Macedonia\",\"Jordan\",\"Peru\",\"Mongolia\",\"Tunisia\",\"Sri Lanka\",\"Ecuador\",\"Albania\",\"Egypt\",\"Bahrain\",\"Bolivia\",\"Indonesia\",\"Bosnia and Herzegovina\",\"Namibia\",\"Kosovo\",\"Paraguay\",\"Jamaica\",\"Belize\",\"El Salvador\",\"Ukraine\",\"Armenia\",\"Bhutan\",\"Angola\",\"Morocco\",\"Georgia\",\"Guatemala\",\"Philippines\",\"Congo (Brazzaville)\",\"Nigeria\",\"Syria\",\"Vietnam\",\"India\",\"Uzbekistan\",\"Honduras\",\"Nicaragua\",\"Moldova\",\"Pakistan\",\"Laos\",\"Palestinian Territories\",\"Ghana\",\"Sudan\",\"Mauritania\",\"Zambia\",\"Yemen\",\"Kyrgyzstan\",\"Cambodia\",\"Ivory Coast\",\"Bangladesh\",\"Cameroon\",\"Kenya\",\"Tajikistan\",\"Tanzania\",\"Nepal\",\"Senegal\",\"Chad\",\"Benin\",\"South Sudan\",\"Afghanistan\",\"Sierra Leone\",\"Zimbabwe\",\"Uganda\",\"Myanmar\",\"Haiti\",\"Rwanda\",\"Burkina Faso\",\"Mali\",\"Ethiopia\",\"Togo\",\"Madagascar\",\"Comoros\",\"Somaliland Region\",\"Guinea\",\"Niger\",\"Liberia\",\"Malawi\",\"Burundi\",\"Congo (Kinshasa)\",\"Somalia\"],\"locationmode\":\"country names\",\"locations\":[\"Qatar\",\"Luxembourg\",\"Singapore\",\"Kuwait\",\"Norway\",\"United Arab Emirates\",\"Switzerland\",\"Hong Kong\",\"United States\",\"Saudi Arabia\",\"Ireland\",\"Netherlands\",\"Sweden\",\"Austria\",\"Germany\",\"Australia\",\"Denmark\",\"Canada\",\"Iceland\",\"Belgium\",\"Finland\",\"United Kingdom\",\"Taiwan\",\"France\",\"Japan\",\"New Zealand\",\"South Korea\",\"Puerto Rico\",\"Italy\",\"Spain\",\"Israel\",\"Trinidad and Tobago\",\"Cyprus\",\"North Cyprus\",\"Czech Republic\",\"Malta\",\"Slovenia\",\"Slovakia\",\"Estonia\",\"Portugal\",\"Lithuania\",\"Malaysia\",\"Greece\",\"Poland\",\"Hungary\",\"Russia\",\"Kazakhstan\",\"Latvia\",\"Chile\",\"Croatia\",\"Panama\",\"Uruguay\",\"Romania\",\"Turkey\",\"Gabon\",\"Argentina\",\"Mauritius\",\"Venezuela\",\"Belarus\",\"Azerbaijan\",\"Lebanon\",\"Iran\",\"Mexico\",\"Bulgaria\",\"Suriname\",\"Botswana\",\"Thailand\",\"Brazil\",\"Turkmenistan\",\"Montenegro\",\"Iraq\",\"Costa Rica\",\"Libya\",\"Algeria\",\"Serbia\",\"Colombia\",\"Dominican Republic\",\"China\",\"South Africa\",\"Macedonia\",\"Jordan\",\"Peru\",\"Mongolia\",\"Tunisia\",\"Sri Lanka\",\"Ecuador\",\"Albania\",\"Egypt\",\"Bahrain\",\"Bolivia\",\"Indonesia\",\"Bosnia and Herzegovina\",\"Namibia\",\"Kosovo\",\"Paraguay\",\"Jamaica\",\"Belize\",\"El Salvador\",\"Ukraine\",\"Armenia\",\"Bhutan\",\"Angola\",\"Morocco\",\"Georgia\",\"Guatemala\",\"Philippines\",\"Congo (Brazzaville)\",\"Nigeria\",\"Syria\",\"Vietnam\",\"India\",\"Uzbekistan\",\"Honduras\",\"Nicaragua\",\"Moldova\",\"Pakistan\",\"Laos\",\"Palestinian Territories\",\"Ghana\",\"Sudan\",\"Mauritania\",\"Zambia\",\"Yemen\",\"Kyrgyzstan\",\"Cambodia\",\"Ivory Coast\",\"Bangladesh\",\"Cameroon\",\"Kenya\",\"Tajikistan\",\"Tanzania\",\"Nepal\",\"Senegal\",\"Chad\",\"Benin\",\"South Sudan\",\"Afghanistan\",\"Sierra Leone\",\"Zimbabwe\",\"Uganda\",\"Myanmar\",\"Haiti\",\"Rwanda\",\"Burkina Faso\",\"Mali\",\"Ethiopia\",\"Togo\",\"Madagascar\",\"Comoros\",\"Somaliland Region\",\"Guinea\",\"Niger\",\"Liberia\",\"Malawi\",\"Burundi\",\"Congo (Kinshasa)\",\"Somalia\"],\"name\":\"\",\"z\":[1.82427,1.69752,1.64555,1.61714,1.57744,1.57352,1.52733,1.5107,1.50796,1.48953,1.48341,1.46468,1.45181,1.45038,1.44787,1.44443,1.44178,1.44015,1.42666,1.42539,1.40598,1.40283,1.39729,1.39488,1.38007,1.36066,1.35948,1.35943,1.35495,1.34253,1.33766,1.32572,1.31857,1.31141,1.30915,1.30782,1.29947,1.27973,1.27964,1.27607,1.2692,1.25142,1.24886,1.24585,1.24142,1.23228,1.22943,1.21788,1.2167,1.18649,1.18306,1.18157,1.1697,1.16492,1.15851,1.15137,1.14372,1.13367,1.13062,1.12373,1.12268,1.11758,1.11508,1.11306,1.09686,1.09426,1.0893,1.08754,1.08017,1.07838,1.07474,1.06879,1.06688,1.05266,1.03437,1.03032,1.02787,1.0278,1.02416,1.0193,0.99673,0.99602,0.98853,0.97724,0.97318,0.97306,0.9553,0.95395,0.951772064516129,0.951772064516129,0.95104,0.93383,0.93287,0.90145,0.89373,0.89333,0.87616,0.8737,0.87287,0.86086,0.8527,0.84731,0.84058,0.83792,0.83454,0.81217,0.77109,0.75216,0.74719,0.74037,0.74036,0.73591,0.69429,0.69384,0.69177,0.68816,0.68042,0.67024,0.63107,0.63069,0.61391,0.61202,0.57939,0.56044,0.55604,0.55507,0.54177,0.52497,0.52267,0.48835,0.47155,0.44626,0.44314,0.42214,0.39499,0.39394,0.38227,0.36485,0.35041,0.34719,0.34112,0.34097,0.32846,0.31995,0.31292,0.29283,0.28123,0.27954,0.27509,0.25558,0.22415,0.1327,0.10706,0.08709,0.06831,0.05661,0.0],\"type\":\"choropleth\"}],                        {\"template\":{\"data\":{\"histogram2dcontour\":[{\"type\":\"histogram2dcontour\",\"colorbar\":{\"outlinewidth\":0,\"ticks\":\"\"},\"colorscale\":[[0.0,\"#0d0887\"],[0.1111111111111111,\"#46039f\"],[0.2222222222222222,\"#7201a8\"],[0.3333333333333333,\"#9c179e\"],[0.4444444444444444,\"#bd3786\"],[0.5555555555555556,\"#d8576b\"],[0.6666666666666666,\"#ed7953\"],[0.7777777777777778,\"#fb9f3a\"],[0.8888888888888888,\"#fdca26\"],[1.0,\"#f0f921\"]]}],\"choropleth\":[{\"type\":\"choropleth\",\"colorbar\":{\"outlinewidth\":0,\"ticks\":\"\"}}],\"histogram2d\":[{\"type\":\"histogram2d\",\"colorbar\":{\"outlinewidth\":0,\"ticks\":\"\"},\"colorscale\":[[0.0,\"#0d0887\"],[0.1111111111111111,\"#46039f\"],[0.2222222222222222,\"#7201a8\"],[0.3333333333333333,\"#9c179e\"],[0.4444444444444444,\"#bd3786\"],[0.5555555555555556,\"#d8576b\"],[0.6666666666666666,\"#ed7953\"],[0.7777777777777778,\"#fb9f3a\"],[0.8888888888888888,\"#fdca26\"],[1.0,\"#f0f921\"]]}],\"heatmap\":[{\"type\":\"heatmap\",\"colorbar\":{\"outlinewidth\":0,\"ticks\":\"\"},\"colorscale\":[[0.0,\"#0d0887\"],[0.1111111111111111,\"#46039f\"],[0.2222222222222222,\"#7201a8\"],[0.3333333333333333,\"#9c179e\"],[0.4444444444444444,\"#bd3786\"],[0.5555555555555556,\"#d8576b\"],[0.6666666666666666,\"#ed7953\"],[0.7777777777777778,\"#fb9f3a\"],[0.8888888888888888,\"#fdca26\"],[1.0,\"#f0f921\"]]}],\"heatmapgl\":[{\"type\":\"heatmapgl\",\"colorbar\":{\"outlinewidth\":0,\"ticks\":\"\"},\"colorscale\":[[0.0,\"#0d0887\"],[0.1111111111111111,\"#46039f\"],[0.2222222222222222,\"#7201a8\"],[0.3333333333333333,\"#9c179e\"],[0.4444444444444444,\"#bd3786\"],[0.5555555555555556,\"#d8576b\"],[0.6666666666666666,\"#ed7953\"],[0.7777777777777778,\"#fb9f3a\"],[0.8888888888888888,\"#fdca26\"],[1.0,\"#f0f921\"]]}],\"contourcarpet\":[{\"type\":\"contourcarpet\",\"colorbar\":{\"outlinewidth\":0,\"ticks\":\"\"}}],\"contour\":[{\"type\":\"contour\",\"colorbar\":{\"outlinewidth\":0,\"ticks\":\"\"},\"colorscale\":[[0.0,\"#0d0887\"],[0.1111111111111111,\"#46039f\"],[0.2222222222222222,\"#7201a8\"],[0.3333333333333333,\"#9c179e\"],[0.4444444444444444,\"#bd3786\"],[0.5555555555555556,\"#d8576b\"],[0.6666666666666666,\"#ed7953\"],[0.7777777777777778,\"#fb9f3a\"],[0.8888888888888888,\"#fdca26\"],[1.0,\"#f0f921\"]]}],\"surface\":[{\"type\":\"surface\",\"colorbar\":{\"outlinewidth\":0,\"ticks\":\"\"},\"colorscale\":[[0.0,\"#0d0887\"],[0.1111111111111111,\"#46039f\"],[0.2222222222222222,\"#7201a8\"],[0.3333333333333333,\"#9c179e\"],[0.4444444444444444,\"#bd3786\"],[0.5555555555555556,\"#d8576b\"],[0.6666666666666666,\"#ed7953\"],[0.7777777777777778,\"#fb9f3a\"],[0.8888888888888888,\"#fdca26\"],[1.0,\"#f0f921\"]]}],\"mesh3d\":[{\"type\":\"mesh3d\",\"colorbar\":{\"outlinewidth\":0,\"ticks\":\"\"}}],\"scatter\":[{\"fillpattern\":{\"fillmode\":\"overlay\",\"size\":10,\"solidity\":0.2},\"type\":\"scatter\"}],\"parcoords\":[{\"type\":\"parcoords\",\"line\":{\"colorbar\":{\"outlinewidth\":0,\"ticks\":\"\"}}}],\"scatterpolargl\":[{\"type\":\"scatterpolargl\",\"marker\":{\"colorbar\":{\"outlinewidth\":0,\"ticks\":\"\"}}}],\"bar\":[{\"error_x\":{\"color\":\"#2a3f5f\"},\"error_y\":{\"color\":\"#2a3f5f\"},\"marker\":{\"line\":{\"color\":\"#E5ECF6\",\"width\":0.5},\"pattern\":{\"fillmode\":\"overlay\",\"size\":10,\"solidity\":0.2}},\"type\":\"bar\"}],\"scattergeo\":[{\"type\":\"scattergeo\",\"marker\":{\"colorbar\":{\"outlinewidth\":0,\"ticks\":\"\"}}}],\"scatterpolar\":[{\"type\":\"scatterpolar\",\"marker\":{\"colorbar\":{\"outlinewidth\":0,\"ticks\":\"\"}}}],\"histogram\":[{\"marker\":{\"pattern\":{\"fillmode\":\"overlay\",\"size\":10,\"solidity\":0.2}},\"type\":\"histogram\"}],\"scattergl\":[{\"type\":\"scattergl\",\"marker\":{\"colorbar\":{\"outlinewidth\":0,\"ticks\":\"\"}}}],\"scatter3d\":[{\"type\":\"scatter3d\",\"line\":{\"colorbar\":{\"outlinewidth\":0,\"ticks\":\"\"}},\"marker\":{\"colorbar\":{\"outlinewidth\":0,\"ticks\":\"\"}}}],\"scattermapbox\":[{\"type\":\"scattermapbox\",\"marker\":{\"colorbar\":{\"outlinewidth\":0,\"ticks\":\"\"}}}],\"scatterternary\":[{\"type\":\"scatterternary\",\"marker\":{\"colorbar\":{\"outlinewidth\":0,\"ticks\":\"\"}}}],\"scattercarpet\":[{\"type\":\"scattercarpet\",\"marker\":{\"colorbar\":{\"outlinewidth\":0,\"ticks\":\"\"}}}],\"carpet\":[{\"aaxis\":{\"endlinecolor\":\"#2a3f5f\",\"gridcolor\":\"white\",\"linecolor\":\"white\",\"minorgridcolor\":\"white\",\"startlinecolor\":\"#2a3f5f\"},\"baxis\":{\"endlinecolor\":\"#2a3f5f\",\"gridcolor\":\"white\",\"linecolor\":\"white\",\"minorgridcolor\":\"white\",\"startlinecolor\":\"#2a3f5f\"},\"type\":\"carpet\"}],\"table\":[{\"cells\":{\"fill\":{\"color\":\"#EBF0F8\"},\"line\":{\"color\":\"white\"}},\"header\":{\"fill\":{\"color\":\"#C8D4E3\"},\"line\":{\"color\":\"white\"}},\"type\":\"table\"}],\"barpolar\":[{\"marker\":{\"line\":{\"color\":\"#E5ECF6\",\"width\":0.5},\"pattern\":{\"fillmode\":\"overlay\",\"size\":10,\"solidity\":0.2}},\"type\":\"barpolar\"}],\"pie\":[{\"automargin\":true,\"type\":\"pie\"}]},\"layout\":{\"autotypenumbers\":\"strict\",\"colorway\":[\"#636efa\",\"#EF553B\",\"#00cc96\",\"#ab63fa\",\"#FFA15A\",\"#19d3f3\",\"#FF6692\",\"#B6E880\",\"#FF97FF\",\"#FECB52\"],\"font\":{\"color\":\"#2a3f5f\"},\"hovermode\":\"closest\",\"hoverlabel\":{\"align\":\"left\"},\"paper_bgcolor\":\"white\",\"plot_bgcolor\":\"#E5ECF6\",\"polar\":{\"bgcolor\":\"#E5ECF6\",\"angularaxis\":{\"gridcolor\":\"white\",\"linecolor\":\"white\",\"ticks\":\"\"},\"radialaxis\":{\"gridcolor\":\"white\",\"linecolor\":\"white\",\"ticks\":\"\"}},\"ternary\":{\"bgcolor\":\"#E5ECF6\",\"aaxis\":{\"gridcolor\":\"white\",\"linecolor\":\"white\",\"ticks\":\"\"},\"baxis\":{\"gridcolor\":\"white\",\"linecolor\":\"white\",\"ticks\":\"\"},\"caxis\":{\"gridcolor\":\"white\",\"linecolor\":\"white\",\"ticks\":\"\"}},\"coloraxis\":{\"colorbar\":{\"outlinewidth\":0,\"ticks\":\"\"}},\"colorscale\":{\"sequential\":[[0.0,\"#0d0887\"],[0.1111111111111111,\"#46039f\"],[0.2222222222222222,\"#7201a8\"],[0.3333333333333333,\"#9c179e\"],[0.4444444444444444,\"#bd3786\"],[0.5555555555555556,\"#d8576b\"],[0.6666666666666666,\"#ed7953\"],[0.7777777777777778,\"#fb9f3a\"],[0.8888888888888888,\"#fdca26\"],[1.0,\"#f0f921\"]],\"sequentialminus\":[[0.0,\"#0d0887\"],[0.1111111111111111,\"#46039f\"],[0.2222222222222222,\"#7201a8\"],[0.3333333333333333,\"#9c179e\"],[0.4444444444444444,\"#bd3786\"],[0.5555555555555556,\"#d8576b\"],[0.6666666666666666,\"#ed7953\"],[0.7777777777777778,\"#fb9f3a\"],[0.8888888888888888,\"#fdca26\"],[1.0,\"#f0f921\"]],\"diverging\":[[0,\"#8e0152\"],[0.1,\"#c51b7d\"],[0.2,\"#de77ae\"],[0.3,\"#f1b6da\"],[0.4,\"#fde0ef\"],[0.5,\"#f7f7f7\"],[0.6,\"#e6f5d0\"],[0.7,\"#b8e186\"],[0.8,\"#7fbc41\"],[0.9,\"#4d9221\"],[1,\"#276419\"]]},\"xaxis\":{\"gridcolor\":\"white\",\"linecolor\":\"white\",\"ticks\":\"\",\"title\":{\"standoff\":15},\"zerolinecolor\":\"white\",\"automargin\":true,\"zerolinewidth\":2},\"yaxis\":{\"gridcolor\":\"white\",\"linecolor\":\"white\",\"ticks\":\"\",\"title\":{\"standoff\":15},\"zerolinecolor\":\"white\",\"automargin\":true,\"zerolinewidth\":2},\"scene\":{\"xaxis\":{\"backgroundcolor\":\"#E5ECF6\",\"gridcolor\":\"white\",\"linecolor\":\"white\",\"showbackground\":true,\"ticks\":\"\",\"zerolinecolor\":\"white\",\"gridwidth\":2},\"yaxis\":{\"backgroundcolor\":\"#E5ECF6\",\"gridcolor\":\"white\",\"linecolor\":\"white\",\"showbackground\":true,\"ticks\":\"\",\"zerolinecolor\":\"white\",\"gridwidth\":2},\"zaxis\":{\"backgroundcolor\":\"#E5ECF6\",\"gridcolor\":\"white\",\"linecolor\":\"white\",\"showbackground\":true,\"ticks\":\"\",\"zerolinecolor\":\"white\",\"gridwidth\":2}},\"shapedefaults\":{\"line\":{\"color\":\"#2a3f5f\"}},\"annotationdefaults\":{\"arrowcolor\":\"#2a3f5f\",\"arrowhead\":0,\"arrowwidth\":1},\"geo\":{\"bgcolor\":\"white\",\"landcolor\":\"#E5ECF6\",\"subunitcolor\":\"white\",\"showland\":true,\"showlakes\":true,\"lakecolor\":\"white\"},\"title\":{\"x\":0.05},\"mapbox\":{\"style\":\"light\"}}},\"geo\":{\"domain\":{\"x\":[0.0,1.0],\"y\":[0.0,1.0]},\"center\":{},\"projection\":{\"type\":\"equirectangular\"},\"showframe\":false,\"showcoastlines\":false},\"coloraxis\":{\"colorbar\":{\"title\":{\"text\":\"GDP per Capita (USD)\"}},\"colorscale\":[[0.0,\"#0d0887\"],[0.1111111111111111,\"#46039f\"],[0.2222222222222222,\"#7201a8\"],[0.3333333333333333,\"#9c179e\"],[0.4444444444444444,\"#bd3786\"],[0.5555555555555556,\"#d8576b\"],[0.6666666666666666,\"#ed7953\"],[0.7777777777777778,\"#fb9f3a\"],[0.8888888888888888,\"#fdca26\"],[1.0,\"#f0f921\"]]},\"legend\":{\"tracegroupgap\":0},\"margin\":{\"t\":60},\"title\":{\"text\":\"GDP per Capita and Healthy Life Expectancy by Country\"}},                        {\"responsive\": true}                    ).then(function(){\n",
       "                            \n",
       "var gd = document.getElementById('5015f28d-990e-4687-839e-1e44fa5e1f2c');\n",
       "var x = new MutationObserver(function (mutations, observer) {{\n",
       "        var display = window.getComputedStyle(gd).display;\n",
       "        if (!display || display === 'none') {{\n",
       "            console.log([gd, 'removed!']);\n",
       "            Plotly.purge(gd);\n",
       "            observer.disconnect();\n",
       "        }}\n",
       "}});\n",
       "\n",
       "// Listen for the removal of the full notebook cells\n",
       "var notebookContainer = gd.closest('#notebook-container');\n",
       "if (notebookContainer) {{\n",
       "    x.observe(notebookContainer, {childList: true});\n",
       "}}\n",
       "\n",
       "// Listen for the clearing of the current output cell\n",
       "var outputEl = gd.closest('.output');\n",
       "if (outputEl) {{\n",
       "    x.observe(outputEl, {childList: true});\n",
       "}}\n",
       "\n",
       "                        })                };                });            </script>        </div>"
      ]
     },
     "metadata": {},
     "output_type": "display_data"
    }
   ],
   "source": [
    "# reates a map named fig5 to display GDP per capita of countries and include Healthy Life Expectancy to be shown as a tooltip.\n",
    "\n",
    "# Create the map\n",
    "fig5 = px.choropleth( df_sorted, \n",
    "                     locations=\"Country\", \n",
    "                     locationmode='country names',\n",
    "                     color=\"Economy (GDP per Capita)\",\n",
    "                     hover_name=\"Country\",\n",
    "                     hover_data={\"Economy (GDP per Capita)\": True,\n",
    "                                 \"Health (Life Expectancy)\": True}, \n",
    "                     color_continuous_scale=px.colors.sequential.Plasma,\n",
    "                     labels={'Economy (GDP per Capita)': 'GDP per Capita (USD)',\n",
    "                             'Health (Life Expectancy)': 'Healthy Life Expectancy'} )\n",
    "# Update layout for better presentation \n",
    "\n",
    "fig5.update_layout( title='GDP per Capita and Healthy Life Expectancy by Country',\n",
    "                   geo=dict(showframe=False, \n",
    "                            showcoastlines=False,\n",
    "                            projection_type='equirectangular') ) \n",
    "# Show the plot\n",
    "\n",
    "fig5.show()"
   ]
  },
  {
   "cell_type": "code",
   "execution_count": 93,
   "id": "96bf0875",
   "metadata": {},
   "outputs": [
    {
     "data": {
      "text/plain": [
       "True"
      ]
     },
     "execution_count": 93,
     "metadata": {},
     "output_type": "execute_result"
    }
   ],
   "source": [
    "\n",
    "\n",
    "# Write Python code to write any four of the Plotly figures (fig1, fig2, fig3, fig4, fig5) to a single HTML file \n",
    "# named “dashboard.html”?\n",
    "\n",
    "import plotly.io as pio\n",
    "\n",
    "# Assume fig1, fig2, fig3, fig4 are already created\n",
    "\n",
    "# List of figures to be included in the HTML file\n",
    "figures = [fig1,fig2, fig3, fig4, fig5]  # Replace with the desired figures\n",
    "\n",
    "# Initialize HTML content\n",
    "html_content = '<html><head><title>Dashboard</title></head><body>'\n",
    "\n",
    "# Append HTML content of each figure\n",
    "for fig in figures:\n",
    "    html_content += pio.to_html(fig, include_plotlyjs='cdn', full_html=False)\n",
    "\n",
    "# Close HTML tags\n",
    "html_content += '</body></html>'\n",
    "\n",
    "# Write HTML content to file\n",
    "with open(\"dashboard.html\", \"w\") as f:\n",
    "    f.write(html_content)\n",
    "\n",
    "# Automatically open the file in the default web browser\n",
    "import webbrowser\n",
    "webbrowser.open(\"dashboard.html\")\n"
   ]
  },
  {
   "cell_type": "markdown",
   "id": "7f9b9d67",
   "metadata": {},
   "source": [
    "### ### World Happiness Report Dashboard Narrative\n",
    "\n",
    "Welcome to the World Happiness Report Dashboard. This comprehensive dashboard provides a detailed analysis of various factors influencing happiness across the globe, presented through four insightful visualizations:\n",
    "\n",
    "#### 1. Correlation Heatmap\n",
    "The first visualization is a **heatmap** that illustrates the correlation between key attributes such as GDP per Capita, Family, Health (Life Expectancy), Freedom, Trust (Government Corruption), Generosity, and Happiness Score. This heatmap helps identify the strength and direction of relationships between these factors. For instance, a strong positive correlation between GDP per Capita and Happiness Score suggests that higher economic prosperity is closely associated with greater happiness levels. Similarly, observing correlations with Health (Life Expectancy) can reveal how public health contributes to overall well-being.\n",
    "\n",
    "#### 2. Scatter Plot: GDP per Capita vs. Happiness Score\n",
    "Next, we have a **scatter plot** that examines the effect of GDP per Capita on Happiness Score across various regions. Each point on the scatter plot represents a country, color-coded by its region. This visualization allows us to explore regional disparities and observe how economic wealth correlates with happiness. Notably, countries with higher GDP per Capita often tend to report higher Happiness Scores, underscoring the role of economic factors in influencing happiness. Additionally, this plot can highlight outliers where high GDP does not necessarily translate to high happiness, prompting further investigation into other contributing factors.\n",
    "\n",
    "#### 3. Pie Chart: Happiness Score by Region\n",
    "Our third visualization is a **pie chart** that presents the average Happiness Score by region. This chart provides a clear and concise summary of how happiness levels vary across different parts of the world. By examining the size of each slice, we can understand which regions are generally happier and which may be facing challenges. This visual representation facilitates a comparative analysis of regional happiness, offering insights into geographic and cultural influences on well-being.\n",
    "\n",
    "#### 4. Map: GDP per Capita and Healthy Life Expectancy\n",
    "Lastly, we have an interactive **map** that displays the GDP per Capita of countries, with Healthy Life Expectancy included as a tooltip. This map provides a geographic perspective on economic prosperity and public health. By hovering over each country, viewers can access detailed information on both GDP per Capita and Healthy Life Expectancy, making it easier to identify patterns and disparities. This visualization is particularly useful for policymakers and researchers looking to understand the global distribution of wealth and health, and how these factors interplay to affect overall happiness.\n",
    "\n",
    "### Conclusion\n",
    "The World Happiness Report Dashboard offers a multifaceted view of the factors influencing happiness across the globe. By leveraging these visualizations, we can gain valuable insights into the complex relationships between economic, social, and health-related attributes. These insights can inform policies and initiatives aimed at enhancing well-being worldwide. We invite you to explore each visualization and uncover the stories they tell about happiness in different regions of the world.\n"
   ]
  },
  {
   "cell_type": "code",
   "execution_count": 34,
   "id": "bf8c8f3a",
   "metadata": {},
   "outputs": [
    {
     "data": {
      "text/plain": [
       "<Axes: >"
      ]
     },
     "execution_count": 34,
     "metadata": {},
     "output_type": "execute_result"
    },
    {
     "data": {
      "image/png": "[encoded data removed]",
      "text/plain": [
       "<Figure size 2000x1500 with 2 Axes>"
      ]
     },
     "metadata": {},
     "output_type": "display_data"
    }
   ],
   "source": [
    "# create heatmap from correlation matrix to know which feature effect of the SalePrive for the buliding.\n",
    "correlation_matric=df.corr(numeric_only=True)\n",
    "plt.figure(figsize=(20,15))\n",
    "sns.heatmap(correlation_matric,annot=True,cmap=\"coolwarm\",fmt=\".2f\" ) # annot=true to add correlation values in the heatmap "
   ]
  },
  {
   "cell_type": "code",
   "execution_count": 36,
   "id": "2ed44410",
   "metadata": {},
   "outputs": [
    {
     "data": {
      "text/html": [
       "<div>\n",
       "<style scoped>\n",
       "    .dataframe tbody tr th:only-of-type {\n",
       "        vertical-align: middle;\n",
       "    }\n",
       "\n",
       "    .dataframe tbody tr th {\n",
       "        vertical-align: top;\n",
       "    }\n",
       "\n",
       "    .dataframe thead th {\n",
       "        text-align: right;\n",
       "    }\n",
       "</style>\n",
       "<table border=\"1\" class=\"dataframe\">\n",
       "  <thead>\n",
       "    <tr style=\"text-align: right;\">\n",
       "      <th></th>\n",
       "      <th>Region</th>\n",
       "      <th>Happiness Score</th>\n",
       "    </tr>\n",
       "  </thead>\n",
       "  <tbody>\n",
       "    <tr>\n",
       "      <th>0</th>\n",
       "      <td>Australia and New Zealand</td>\n",
       "      <td>7.323500</td>\n",
       "    </tr>\n",
       "    <tr>\n",
       "      <th>1</th>\n",
       "      <td>Central and Eastern Europe</td>\n",
       "      <td>5.370690</td>\n",
       "    </tr>\n",
       "    <tr>\n",
       "      <th>2</th>\n",
       "      <td>Eastern Asia</td>\n",
       "      <td>5.624167</td>\n",
       "    </tr>\n",
       "    <tr>\n",
       "      <th>3</th>\n",
       "      <td>Latin America and Caribbean</td>\n",
       "      <td>6.101750</td>\n",
       "    </tr>\n",
       "    <tr>\n",
       "      <th>4</th>\n",
       "      <td>Middle East and Northern Africa</td>\n",
       "      <td>5.386053</td>\n",
       "    </tr>\n",
       "    <tr>\n",
       "      <th>5</th>\n",
       "      <td>North America</td>\n",
       "      <td>7.254000</td>\n",
       "    </tr>\n",
       "    <tr>\n",
       "      <th>6</th>\n",
       "      <td>Southeastern Asia</td>\n",
       "      <td>5.338889</td>\n",
       "    </tr>\n",
       "    <tr>\n",
       "      <th>7</th>\n",
       "      <td>Southern Asia</td>\n",
       "      <td>4.563286</td>\n",
       "    </tr>\n",
       "    <tr>\n",
       "      <th>8</th>\n",
       "      <td>Sub-Saharan Africa</td>\n",
       "      <td>4.136421</td>\n",
       "    </tr>\n",
       "    <tr>\n",
       "      <th>9</th>\n",
       "      <td>Western Europe</td>\n",
       "      <td>6.685667</td>\n",
       "    </tr>\n",
       "  </tbody>\n",
       "</table>\n",
       "</div>"
      ],
      "text/plain": [
       "                            Region  Happiness Score\n",
       "0        Australia and New Zealand         7.323500\n",
       "1       Central and Eastern Europe         5.370690\n",
       "2                     Eastern Asia         5.624167\n",
       "3      Latin America and Caribbean         6.101750\n",
       "4  Middle East and Northern Africa         5.386053\n",
       "5                    North America         7.254000\n",
       "6                Southeastern Asia         5.338889\n",
       "7                    Southern Asia         4.563286\n",
       "8               Sub-Saharan Africa         4.136421\n",
       "9                   Western Europe         6.685667"
      ]
     },
     "execution_count": 36,
     "metadata": {},
     "output_type": "execute_result"
    }
   ],
   "source": [
    "# Create a pie chart to present Happiness Score by region.\n",
    "# to craete Pie chart need to group the data region first .\n",
    "region_happiness = df.groupby('Region')['Happiness Score'].mean().reset_index()\n",
    "region_happiness"
   ]
  },
  {
   "cell_type": "code",
   "execution_count": 46,
   "id": "85bbd194",
   "metadata": {},
   "outputs": [
    {
     "name": "stderr",
     "output_type": "stream",
     "text": [
      "C:\\Users\\Mohamed Asharf\\AppData\\Local\\Temp\\ipykernel_6960\\2879442572.py:1: FutureWarning:\n",
      "\n",
      "Indexing with multiple keys (implicitly converted to a tuple of keys) will be deprecated, use a list instead.\n",
      "\n"
     ]
    },
    {
     "data": {
      "text/html": [
       "<div>\n",
       "<style scoped>\n",
       "    .dataframe tbody tr th:only-of-type {\n",
       "        vertical-align: middle;\n",
       "    }\n",
       "\n",
       "    .dataframe tbody tr th {\n",
       "        vertical-align: top;\n",
       "    }\n",
       "\n",
       "    .dataframe thead th {\n",
       "        text-align: right;\n",
       "    }\n",
       "</style>\n",
       "<table border=\"1\" class=\"dataframe\">\n",
       "  <thead>\n",
       "    <tr style=\"text-align: right;\">\n",
       "      <th></th>\n",
       "      <th>Country</th>\n",
       "      <th>Happiness Score</th>\n",
       "      <th>Economy (GDP per Capita)</th>\n",
       "    </tr>\n",
       "  </thead>\n",
       "  <tbody>\n",
       "    <tr>\n",
       "      <th>0</th>\n",
       "      <td>Australia</td>\n",
       "      <td>7.3</td>\n",
       "      <td>69577</td>\n",
       "    </tr>\n",
       "    <tr>\n",
       "      <th>1</th>\n",
       "      <td>Denmark</td>\n",
       "      <td>7.6</td>\n",
       "      <td>74005</td>\n",
       "    </tr>\n",
       "    <tr>\n",
       "      <th>2</th>\n",
       "      <td>Ireland</td>\n",
       "      <td>7.5</td>\n",
       "      <td>126905</td>\n",
       "    </tr>\n",
       "    <tr>\n",
       "      <th>3</th>\n",
       "      <td>Luxembourg</td>\n",
       "      <td>7.8</td>\n",
       "      <td>142214</td>\n",
       "    </tr>\n",
       "    <tr>\n",
       "      <th>4</th>\n",
       "      <td>Netherlands</td>\n",
       "      <td>7.4</td>\n",
       "      <td>67494</td>\n",
       "    </tr>\n",
       "    <tr>\n",
       "      <th>5</th>\n",
       "      <td>Norway</td>\n",
       "      <td>7.7</td>\n",
       "      <td>114899</td>\n",
       "    </tr>\n",
       "    <tr>\n",
       "      <th>6</th>\n",
       "      <td>Qatar</td>\n",
       "      <td>6.2</td>\n",
       "      <td>114648</td>\n",
       "    </tr>\n",
       "    <tr>\n",
       "      <th>7</th>\n",
       "      <td>Singapore</td>\n",
       "      <td>7.6</td>\n",
       "      <td>127565</td>\n",
       "    </tr>\n",
       "    <tr>\n",
       "      <th>8</th>\n",
       "      <td>Switzerland</td>\n",
       "      <td>7.5</td>\n",
       "      <td>83598</td>\n",
       "    </tr>\n",
       "    <tr>\n",
       "      <th>9</th>\n",
       "      <td>United States</td>\n",
       "      <td>7.2</td>\n",
       "      <td>76399</td>\n",
       "    </tr>\n",
       "  </tbody>\n",
       "</table>\n",
       "</div>"
      ],
      "text/plain": [
       "         Country  Happiness Score  Economy (GDP per Capita)\n",
       "0      Australia              7.3                     69577\n",
       "1        Denmark              7.6                     74005\n",
       "2        Ireland              7.5                    126905\n",
       "3     Luxembourg              7.8                    142214\n",
       "4    Netherlands              7.4                     67494\n",
       "5         Norway              7.7                    114899\n",
       "6          Qatar              6.2                    114648\n",
       "7      Singapore              7.6                    127565\n",
       "8    Switzerland              7.5                     83598\n",
       "9  United States              7.2                     76399"
      ]
     },
     "execution_count": 46,
     "metadata": {},
     "output_type": "execute_result"
    }
   ],
   "source": [
    "Country_happiness_Map = df.groupby('Country')['Happiness Score','Economy (GDP per Capita)'].sum().reset_index()\n",
    "Country_happiness_Map"
   ]
  },
  {
   "cell_type": "code",
   "execution_count": 53,
   "id": "1ce62409",
   "metadata": {},
   "outputs": [],
   "source": [
    "# Export DataFrame to CSV\n",
    "df_sorted.to_csv(\"D:\\ganeral_courses\\Generative AI for Data analytics\\mode_2\\Happiness_score.csv\",index=False)"
   ]
  },
  {
   "cell_type": "code",
   "execution_count": null,
   "id": "37de23c8",
   "metadata": {},
   "outputs": [],
   "source": []
  },
  {
   "cell_type": "code",
   "execution_count": null,
   "id": "624fa1db",
   "metadata": {},
   "outputs": [],
   "source": []
  }
 ],
 "metadata": {
  "kernelspec": {
   "display_name": "Python 3 (ipykernel)",
   "language": "python",
   "name": "python3"
  },
  "language_info": {
   "codemirror_mode": {
    "name": "ipython",
    "version": 3
   },
   "file_extension": ".py",
   "mimetype": "text/x-python",
   "name": "python",
   "nbconvert_exporter": "python",
   "pygments_lexer": "ipython3",
   "version": "3.11.4"
  }
 },
 "nbformat": 4,
 "nbformat_minor": 5
}
